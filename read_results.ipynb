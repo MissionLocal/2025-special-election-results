{
 "cells": [
  {
   "cell_type": "code",
   "execution_count": 1,
   "metadata": {
    "execution": {
     "iopub.execute_input": "2025-09-16T20:41:20.160825Z",
     "iopub.status.busy": "2025-09-16T20:41:20.160595Z",
     "iopub.status.idle": "2025-09-16T20:41:20.654299Z",
     "shell.execute_reply": "2025-09-16T20:41:20.653657Z"
    }
   },
   "outputs": [],
   "source": [
    "import numpy as np\n",
    "import pandas as pd\n",
    "from pandas import json_normalize\n",
    "import geopandas as gpd\n",
    "from geopandas import GeoDataFrame\n",
    "import xlrd\n",
    "from random import randint\n",
    "import requests\n",
    "from io import BytesIO\n",
    "from datetime import datetime\n",
    "\n",
    "pd.set_option('display.max_columns', None)"
   ]
  },
  {
   "cell_type": "markdown",
   "metadata": {},
   "source": [
    "## Reading spatial and excel files for 2025:"
   ]
  },
  {
   "cell_type": "code",
   "execution_count": 2,
   "metadata": {
    "execution": {
     "iopub.execute_input": "2025-09-16T20:41:20.656778Z",
     "iopub.status.busy": "2025-09-16T20:41:20.656499Z",
     "iopub.status.idle": "2025-09-16T20:41:20.749459Z",
     "shell.execute_reply": "2025-09-16T20:41:20.748799Z"
    }
   },
   "outputs": [],
   "source": [
    "gdf = gpd.read_file(\"./shp/SF_DOE_PREC_2022_07_18_pg.shp\", encoding='utf-8')\n",
    "gdf = gdf.to_crs('EPSG:4269')"
   ]
  },
  {
   "cell_type": "code",
   "execution_count": 3,
   "metadata": {
    "execution": {
     "iopub.execute_input": "2025-09-16T20:41:20.751720Z",
     "iopub.status.busy": "2025-09-16T20:41:20.751479Z",
     "iopub.status.idle": "2025-09-16T20:41:20.754126Z",
     "shell.execute_reply": "2025-09-16T20:41:20.753631Z"
    }
   },
   "outputs": [],
   "source": [
    "url = 'https://www.sfelections.org/results/20250916/data/20250807/sov.xlsx'"
   ]
  },
  {
   "cell_type": "code",
   "execution_count": 4,
   "metadata": {
    "execution": {
     "iopub.execute_input": "2025-09-16T20:41:20.755673Z",
     "iopub.status.busy": "2025-09-16T20:41:20.755514Z",
     "iopub.status.idle": "2025-09-16T20:41:20.758657Z",
     "shell.execute_reply": "2025-09-16T20:41:20.758049Z"
    }
   },
   "outputs": [
    {
     "name": "stdout",
     "output_type": "stream",
     "text": [
      "https://www.sfelections.org/results/20250916/data/20250807/sov.xlsx\n"
     ]
    }
   ],
   "source": [
    "# date = datetime.today().strftime(\"%Y%m%d\")\n",
    "\n",
    "# election_date = \"20250916\"\n",
    "\n",
    "# # Build the URL\n",
    "# url = f\"https://www.sfelections.org/results/{election_date}/data/{date}/sov.xlsx\"\n",
    "\n",
    "print(url)"
   ]
  },
  {
   "cell_type": "code",
   "execution_count": 5,
   "metadata": {
    "execution": {
     "iopub.execute_input": "2025-09-16T20:41:20.795003Z",
     "iopub.status.busy": "2025-09-16T20:41:20.794752Z",
     "iopub.status.idle": "2025-09-16T20:41:21.240970Z",
     "shell.execute_reply": "2025-09-16T20:41:21.240400Z"
    }
   },
   "outputs": [],
   "source": [
    "response = requests.get(url)"
   ]
  },
  {
   "cell_type": "code",
   "execution_count": 6,
   "metadata": {
    "execution": {
     "iopub.execute_input": "2025-09-16T20:41:21.242896Z",
     "iopub.status.busy": "2025-09-16T20:41:21.242735Z",
     "iopub.status.idle": "2025-09-16T20:41:21.431851Z",
     "shell.execute_reply": "2025-09-16T20:41:21.431231Z"
    }
   },
   "outputs": [],
   "source": [
    "dfTurnout = pd.read_excel(BytesIO(response.content), sheet_name='Sheet1', header=4, skipfooter=10)\n",
    "dfA = pd.read_excel(BytesIO(response.content), sheet_name='Sheet2', header=3, skipfooter=8)"
   ]
  },
  {
   "cell_type": "code",
   "execution_count": 7,
   "metadata": {
    "execution": {
     "iopub.execute_input": "2025-09-16T20:41:21.433899Z",
     "iopub.status.busy": "2025-09-16T20:41:21.433707Z",
     "iopub.status.idle": "2025-09-16T20:41:21.449074Z",
     "shell.execute_reply": "2025-09-16T20:41:21.448527Z"
    }
   },
   "outputs": [
    {
     "data": {
      "text/html": [
       "<div>\n",
       "<style scoped>\n",
       "    .dataframe tbody tr th:only-of-type {\n",
       "        vertical-align: middle;\n",
       "    }\n",
       "\n",
       "    .dataframe tbody tr th {\n",
       "        vertical-align: top;\n",
       "    }\n",
       "\n",
       "    .dataframe thead th {\n",
       "        text-align: right;\n",
       "    }\n",
       "</style>\n",
       "<table border=\"1\" class=\"dataframe\">\n",
       "  <thead>\n",
       "    <tr style=\"text-align: right;\">\n",
       "      <th></th>\n",
       "      <th>Precinct</th>\n",
       "      <th>Registered \\nVoters</th>\n",
       "      <th>Undervotes</th>\n",
       "      <th>Unnamed: 3</th>\n",
       "      <th>Overvotes</th>\n",
       "      <th>Precinct.1</th>\n",
       "      <th>Yes\\n</th>\n",
       "      <th>Unnamed: 7</th>\n",
       "      <th>No\\n</th>\n",
       "      <th>Unnamed: 9</th>\n",
       "      <th>Total Votes</th>\n",
       "      <th>Unnamed: 11</th>\n",
       "    </tr>\n",
       "  </thead>\n",
       "  <tbody>\n",
       "    <tr>\n",
       "      <th>0</th>\n",
       "      <td>Electionwide</td>\n",
       "      <td>NaN</td>\n",
       "      <td>NaN</td>\n",
       "      <td>NaN</td>\n",
       "      <td>NaN</td>\n",
       "      <td>Electionwide</td>\n",
       "      <td>NaN</td>\n",
       "      <td>NaN</td>\n",
       "      <td>NaN</td>\n",
       "      <td>NaN</td>\n",
       "      <td>NaN</td>\n",
       "      <td>NaN</td>\n",
       "    </tr>\n",
       "    <tr>\n",
       "      <th>1</th>\n",
       "      <td>Electionwide</td>\n",
       "      <td>NaN</td>\n",
       "      <td>NaN</td>\n",
       "      <td>NaN</td>\n",
       "      <td>NaN</td>\n",
       "      <td>Electionwide</td>\n",
       "      <td>NaN</td>\n",
       "      <td>NaN</td>\n",
       "      <td>NaN</td>\n",
       "      <td>NaN</td>\n",
       "      <td>NaN</td>\n",
       "      <td>NaN</td>\n",
       "    </tr>\n",
       "    <tr>\n",
       "      <th>2</th>\n",
       "      <td>PCT 9401</td>\n",
       "      <td>NaN</td>\n",
       "      <td>NaN</td>\n",
       "      <td>NaN</td>\n",
       "      <td>NaN</td>\n",
       "      <td>PCT 9401</td>\n",
       "      <td>NaN</td>\n",
       "      <td>NaN</td>\n",
       "      <td>NaN</td>\n",
       "      <td>NaN</td>\n",
       "      <td>NaN</td>\n",
       "      <td>NaN</td>\n",
       "    </tr>\n",
       "    <tr>\n",
       "      <th>3</th>\n",
       "      <td>Election Day</td>\n",
       "      <td>2566.0</td>\n",
       "      <td>0.0</td>\n",
       "      <td>NaN</td>\n",
       "      <td>0.0</td>\n",
       "      <td>Election Day</td>\n",
       "      <td>0.0</td>\n",
       "      <td>NaN</td>\n",
       "      <td>0.0</td>\n",
       "      <td>NaN</td>\n",
       "      <td>0.0</td>\n",
       "      <td>NaN</td>\n",
       "    </tr>\n",
       "    <tr>\n",
       "      <th>4</th>\n",
       "      <td>Vote by Mail</td>\n",
       "      <td>2566.0</td>\n",
       "      <td>0.0</td>\n",
       "      <td>NaN</td>\n",
       "      <td>0.0</td>\n",
       "      <td>Vote by Mail</td>\n",
       "      <td>0.0</td>\n",
       "      <td>NaN</td>\n",
       "      <td>0.0</td>\n",
       "      <td>NaN</td>\n",
       "      <td>0.0</td>\n",
       "      <td>NaN</td>\n",
       "    </tr>\n",
       "    <tr>\n",
       "      <th>...</th>\n",
       "      <td>...</td>\n",
       "      <td>...</td>\n",
       "      <td>...</td>\n",
       "      <td>...</td>\n",
       "      <td>...</td>\n",
       "      <td>...</td>\n",
       "      <td>...</td>\n",
       "      <td>...</td>\n",
       "      <td>...</td>\n",
       "      <td>...</td>\n",
       "      <td>...</td>\n",
       "      <td>...</td>\n",
       "    </tr>\n",
       "    <tr>\n",
       "      <th>77</th>\n",
       "      <td>Total</td>\n",
       "      <td>594.0</td>\n",
       "      <td>0.0</td>\n",
       "      <td>NaN</td>\n",
       "      <td>0.0</td>\n",
       "      <td>Total</td>\n",
       "      <td>0.0</td>\n",
       "      <td>NaN</td>\n",
       "      <td>0.0</td>\n",
       "      <td>NaN</td>\n",
       "      <td>0.0</td>\n",
       "      <td>NaN</td>\n",
       "    </tr>\n",
       "    <tr>\n",
       "      <th>78</th>\n",
       "      <td>PCT 9451</td>\n",
       "      <td>NaN</td>\n",
       "      <td>NaN</td>\n",
       "      <td>NaN</td>\n",
       "      <td>NaN</td>\n",
       "      <td>PCT 9451</td>\n",
       "      <td>NaN</td>\n",
       "      <td>NaN</td>\n",
       "      <td>NaN</td>\n",
       "      <td>NaN</td>\n",
       "      <td>NaN</td>\n",
       "      <td>NaN</td>\n",
       "    </tr>\n",
       "    <tr>\n",
       "      <th>79</th>\n",
       "      <td>Election Day</td>\n",
       "      <td>2383.0</td>\n",
       "      <td>0.0</td>\n",
       "      <td>NaN</td>\n",
       "      <td>0.0</td>\n",
       "      <td>Election Day</td>\n",
       "      <td>0.0</td>\n",
       "      <td>NaN</td>\n",
       "      <td>0.0</td>\n",
       "      <td>NaN</td>\n",
       "      <td>0.0</td>\n",
       "      <td>NaN</td>\n",
       "    </tr>\n",
       "    <tr>\n",
       "      <th>80</th>\n",
       "      <td>Vote by Mail</td>\n",
       "      <td>2383.0</td>\n",
       "      <td>0.0</td>\n",
       "      <td>NaN</td>\n",
       "      <td>0.0</td>\n",
       "      <td>Vote by Mail</td>\n",
       "      <td>0.0</td>\n",
       "      <td>NaN</td>\n",
       "      <td>0.0</td>\n",
       "      <td>NaN</td>\n",
       "      <td>0.0</td>\n",
       "      <td>NaN</td>\n",
       "    </tr>\n",
       "    <tr>\n",
       "      <th>81</th>\n",
       "      <td>Total</td>\n",
       "      <td>2383.0</td>\n",
       "      <td>0.0</td>\n",
       "      <td>NaN</td>\n",
       "      <td>0.0</td>\n",
       "      <td>Total</td>\n",
       "      <td>0.0</td>\n",
       "      <td>NaN</td>\n",
       "      <td>0.0</td>\n",
       "      <td>NaN</td>\n",
       "      <td>0.0</td>\n",
       "      <td>NaN</td>\n",
       "    </tr>\n",
       "  </tbody>\n",
       "</table>\n",
       "<p>82 rows × 12 columns</p>\n",
       "</div>"
      ],
      "text/plain": [
       "        Precinct  Registered \\nVoters  Undervotes  Unnamed: 3  Overvotes  \\\n",
       "0   Electionwide                  NaN         NaN         NaN        NaN   \n",
       "1   Electionwide                  NaN         NaN         NaN        NaN   \n",
       "2       PCT 9401                  NaN         NaN         NaN        NaN   \n",
       "3   Election Day               2566.0         0.0         NaN        0.0   \n",
       "4   Vote by Mail               2566.0         0.0         NaN        0.0   \n",
       "..           ...                  ...         ...         ...        ...   \n",
       "77         Total                594.0         0.0         NaN        0.0   \n",
       "78      PCT 9451                  NaN         NaN         NaN        NaN   \n",
       "79  Election Day               2383.0         0.0         NaN        0.0   \n",
       "80  Vote by Mail               2383.0         0.0         NaN        0.0   \n",
       "81         Total               2383.0         0.0         NaN        0.0   \n",
       "\n",
       "      Precinct.1  Yes\\n   Unnamed: 7  No\\n   Unnamed: 9  Total Votes  \\\n",
       "0   Electionwide     NaN         NaN    NaN         NaN          NaN   \n",
       "1   Electionwide     NaN         NaN    NaN         NaN          NaN   \n",
       "2       PCT 9401     NaN         NaN    NaN         NaN          NaN   \n",
       "3   Election Day     0.0         NaN    0.0         NaN          0.0   \n",
       "4   Vote by Mail     0.0         NaN    0.0         NaN          0.0   \n",
       "..           ...     ...         ...    ...         ...          ...   \n",
       "77         Total     0.0         NaN    0.0         NaN          0.0   \n",
       "78      PCT 9451     NaN         NaN    NaN         NaN          NaN   \n",
       "79  Election Day     0.0         NaN    0.0         NaN          0.0   \n",
       "80  Vote by Mail     0.0         NaN    0.0         NaN          0.0   \n",
       "81         Total     0.0         NaN    0.0         NaN          0.0   \n",
       "\n",
       "    Unnamed: 11  \n",
       "0           NaN  \n",
       "1           NaN  \n",
       "2           NaN  \n",
       "3           NaN  \n",
       "4           NaN  \n",
       "..          ...  \n",
       "77          NaN  \n",
       "78          NaN  \n",
       "79          NaN  \n",
       "80          NaN  \n",
       "81          NaN  \n",
       "\n",
       "[82 rows x 12 columns]"
      ]
     },
     "execution_count": 7,
     "metadata": {},
     "output_type": "execute_result"
    }
   ],
   "source": [
    "dfA"
   ]
  },
  {
   "cell_type": "markdown",
   "metadata": {},
   "source": [
    "### Formatting"
   ]
  },
  {
   "cell_type": "code",
   "execution_count": 8,
   "metadata": {
    "execution": {
     "iopub.execute_input": "2025-09-16T20:41:21.450886Z",
     "iopub.status.busy": "2025-09-16T20:41:21.450706Z",
     "iopub.status.idle": "2025-09-16T20:41:21.458537Z",
     "shell.execute_reply": "2025-09-16T20:41:21.458045Z"
    }
   },
   "outputs": [],
   "source": [
    "###\n",
    "### TURNOUT\n",
    "###\n",
    "\n",
    "#trim and rename columns\n",
    "dfTurnout = dfTurnout[['Precinct','Registered\\nVoters','Voters Cast']]\n",
    "dfTurnout.columns = ['precinct','registered_voters','votes_cast']\n",
    "\n",
    "# shift precinct column\n",
    "\n",
    "dfTurnout['precinct'] = dfTurnout['precinct'].shift(3)\n",
    "\n",
    "#drop unnecessary ones\n",
    "dfTurnout = dfTurnout.dropna()\n",
    "dfTurnout = dfTurnout[dfTurnout[\"precinct\"].str.contains('PCT')]\n",
    "\n",
    "#tidy up precinct column data\n",
    "dfTurnout['precinct'] = dfTurnout['precinct'].str.replace('PCT ','').str.replace(' MB','')\n",
    "\n",
    "#change data types\n",
    "dfTurnout.registered_voters = dfTurnout.registered_voters.astype(int)\n",
    "dfTurnout.votes_cast = dfTurnout.votes_cast.astype(int)\n",
    "\n",
    "#create turnout column\n",
    "dfTurnout['turnout'] = round((dfTurnout['votes_cast'] / dfTurnout['registered_voters']) * 100, 1)\n",
    "dfTurnout['turnout'] = dfTurnout['turnout'].fillna(0)"
   ]
  },
  {
   "cell_type": "code",
   "execution_count": 9,
   "metadata": {
    "execution": {
     "iopub.execute_input": "2025-09-16T20:41:21.460123Z",
     "iopub.status.busy": "2025-09-16T20:41:21.459968Z",
     "iopub.status.idle": "2025-09-16T20:41:21.466885Z",
     "shell.execute_reply": "2025-09-16T20:41:21.466452Z"
    }
   },
   "outputs": [
    {
     "data": {
      "text/html": [
       "<div>\n",
       "<style scoped>\n",
       "    .dataframe tbody tr th:only-of-type {\n",
       "        vertical-align: middle;\n",
       "    }\n",
       "\n",
       "    .dataframe tbody tr th {\n",
       "        vertical-align: top;\n",
       "    }\n",
       "\n",
       "    .dataframe thead th {\n",
       "        text-align: right;\n",
       "    }\n",
       "</style>\n",
       "<table border=\"1\" class=\"dataframe\">\n",
       "  <thead>\n",
       "    <tr style=\"text-align: right;\">\n",
       "      <th></th>\n",
       "      <th>precinct</th>\n",
       "      <th>registered_voters</th>\n",
       "      <th>votes_cast</th>\n",
       "      <th>turnout</th>\n",
       "    </tr>\n",
       "  </thead>\n",
       "  <tbody>\n",
       "    <tr>\n",
       "      <th>5</th>\n",
       "      <td>9401</td>\n",
       "      <td>2566</td>\n",
       "      <td>0</td>\n",
       "      <td>0.0</td>\n",
       "    </tr>\n",
       "    <tr>\n",
       "      <th>9</th>\n",
       "      <td>9403</td>\n",
       "      <td>2247</td>\n",
       "      <td>0</td>\n",
       "      <td>0.0</td>\n",
       "    </tr>\n",
       "    <tr>\n",
       "      <th>13</th>\n",
       "      <td>9404</td>\n",
       "      <td>3243</td>\n",
       "      <td>0</td>\n",
       "      <td>0.0</td>\n",
       "    </tr>\n",
       "    <tr>\n",
       "      <th>17</th>\n",
       "      <td>9406</td>\n",
       "      <td>2415</td>\n",
       "      <td>0</td>\n",
       "      <td>0.0</td>\n",
       "    </tr>\n",
       "    <tr>\n",
       "      <th>21</th>\n",
       "      <td>9408</td>\n",
       "      <td>2979</td>\n",
       "      <td>0</td>\n",
       "      <td>0.0</td>\n",
       "    </tr>\n",
       "    <tr>\n",
       "      <th>25</th>\n",
       "      <td>9413</td>\n",
       "      <td>3296</td>\n",
       "      <td>0</td>\n",
       "      <td>0.0</td>\n",
       "    </tr>\n",
       "    <tr>\n",
       "      <th>29</th>\n",
       "      <td>9414</td>\n",
       "      <td>2227</td>\n",
       "      <td>0</td>\n",
       "      <td>0.0</td>\n",
       "    </tr>\n",
       "    <tr>\n",
       "      <th>33</th>\n",
       "      <td>9417</td>\n",
       "      <td>2211</td>\n",
       "      <td>0</td>\n",
       "      <td>0.0</td>\n",
       "    </tr>\n",
       "    <tr>\n",
       "      <th>37</th>\n",
       "      <td>9421</td>\n",
       "      <td>2106</td>\n",
       "      <td>0</td>\n",
       "      <td>0.0</td>\n",
       "    </tr>\n",
       "    <tr>\n",
       "      <th>41</th>\n",
       "      <td>9423</td>\n",
       "      <td>2363</td>\n",
       "      <td>0</td>\n",
       "      <td>0.0</td>\n",
       "    </tr>\n",
       "    <tr>\n",
       "      <th>45</th>\n",
       "      <td>9425</td>\n",
       "      <td>2761</td>\n",
       "      <td>0</td>\n",
       "      <td>0.0</td>\n",
       "    </tr>\n",
       "    <tr>\n",
       "      <th>49</th>\n",
       "      <td>9427</td>\n",
       "      <td>3041</td>\n",
       "      <td>0</td>\n",
       "      <td>0.0</td>\n",
       "    </tr>\n",
       "    <tr>\n",
       "      <th>53</th>\n",
       "      <td>9429</td>\n",
       "      <td>3029</td>\n",
       "      <td>0</td>\n",
       "      <td>0.0</td>\n",
       "    </tr>\n",
       "    <tr>\n",
       "      <th>57</th>\n",
       "      <td>9432</td>\n",
       "      <td>2164</td>\n",
       "      <td>0</td>\n",
       "      <td>0.0</td>\n",
       "    </tr>\n",
       "    <tr>\n",
       "      <th>61</th>\n",
       "      <td>9435</td>\n",
       "      <td>2214</td>\n",
       "      <td>0</td>\n",
       "      <td>0.0</td>\n",
       "    </tr>\n",
       "    <tr>\n",
       "      <th>65</th>\n",
       "      <td>9437</td>\n",
       "      <td>3233</td>\n",
       "      <td>0</td>\n",
       "      <td>0.0</td>\n",
       "    </tr>\n",
       "    <tr>\n",
       "      <th>69</th>\n",
       "      <td>9439</td>\n",
       "      <td>2006</td>\n",
       "      <td>0</td>\n",
       "      <td>0.0</td>\n",
       "    </tr>\n",
       "    <tr>\n",
       "      <th>73</th>\n",
       "      <td>9442</td>\n",
       "      <td>3195</td>\n",
       "      <td>0</td>\n",
       "      <td>0.0</td>\n",
       "    </tr>\n",
       "    <tr>\n",
       "      <th>77</th>\n",
       "      <td>9449</td>\n",
       "      <td>594</td>\n",
       "      <td>0</td>\n",
       "      <td>0.0</td>\n",
       "    </tr>\n",
       "    <tr>\n",
       "      <th>81</th>\n",
       "      <td>9451</td>\n",
       "      <td>2383</td>\n",
       "      <td>0</td>\n",
       "      <td>0.0</td>\n",
       "    </tr>\n",
       "  </tbody>\n",
       "</table>\n",
       "</div>"
      ],
      "text/plain": [
       "   precinct  registered_voters  votes_cast  turnout\n",
       "5      9401               2566           0      0.0\n",
       "9      9403               2247           0      0.0\n",
       "13     9404               3243           0      0.0\n",
       "17     9406               2415           0      0.0\n",
       "21     9408               2979           0      0.0\n",
       "25     9413               3296           0      0.0\n",
       "29     9414               2227           0      0.0\n",
       "33     9417               2211           0      0.0\n",
       "37     9421               2106           0      0.0\n",
       "41     9423               2363           0      0.0\n",
       "45     9425               2761           0      0.0\n",
       "49     9427               3041           0      0.0\n",
       "53     9429               3029           0      0.0\n",
       "57     9432               2164           0      0.0\n",
       "61     9435               2214           0      0.0\n",
       "65     9437               3233           0      0.0\n",
       "69     9439               2006           0      0.0\n",
       "73     9442               3195           0      0.0\n",
       "77     9449                594           0      0.0\n",
       "81     9451               2383           0      0.0"
      ]
     },
     "execution_count": 9,
     "metadata": {},
     "output_type": "execute_result"
    }
   ],
   "source": [
    "dfTurnout"
   ]
  },
  {
   "cell_type": "code",
   "execution_count": 10,
   "metadata": {
    "execution": {
     "iopub.execute_input": "2025-09-16T20:41:21.468415Z",
     "iopub.status.busy": "2025-09-16T20:41:21.468246Z",
     "iopub.status.idle": "2025-09-16T20:41:21.473757Z",
     "shell.execute_reply": "2025-09-16T20:41:21.473241Z"
    }
   },
   "outputs": [],
   "source": [
    "###\n",
    "### PROPS\n",
    "###\n",
    "\n",
    "def process_proposition(df):\n",
    "    # Standardize column names\n",
    "    df.columns = df.columns.str.replace('\\n', '', regex=True)\n",
    "    df.columns = df.columns.str.replace('\"', '', regex=True)\n",
    "    df.columns = df.columns.str.replace('.', '', regex=True)\n",
    "    df.columns = df.columns.str.lower().str.replace(' ', '_', regex=True)\n",
    "    df.columns = df.columns.str.replace('_$', '', regex=True)\n",
    "\n",
    "    # if the column name contains \"bonds_-_yes\", replace it with \"yes\"\n",
    "\n",
    "    df.columns = df.columns.str.replace('bonds_-_yes', 'yes', regex=True)\n",
    "    df.columns = df.columns.str.replace('bonds_-_no', 'no', regex=True)\n",
    "    \n",
    "    # Trim and rename columns to focus on necessary data\n",
    "    df = df[['precinct', 'registered_voters', 'yes', 'no', 'total_votes']]\n",
    "    df.columns = ['precinct', 'registered_voters', 'yes', 'no', 'votes_cast']\n",
    "\n",
    "    # shift the precinct column up by 3 rows\n",
    "\n",
    "    df['precinct'] = df['precinct'].shift(3)\n",
    "\n",
    "    # Drop rows where precinct is NaN after the shift\n",
    "    df = df.dropna(subset=['precinct'])\n",
    "    df = df[df['precinct'].str.contains('PCT', na=False)]\n",
    "\n",
    "    # Clean up precinct column data\n",
    "    df['precinct'] = df['precinct'].str.replace('PCT ', '', regex=True).str.replace(' MB', '', regex=True)\n",
    "\n",
    "    # Ensure numeric columns are of the correct type\n",
    "    # df['registered_voters'] = pd.to_numeric(df['registered_voters'], errors='coerce').fillna(0).astype(int)\n",
    "    # df['votes_cast'] = pd.to_numeric(df['votes_cast'], errors='coerce').fillna(0).astype(int)\n",
    "\n",
    "    # Calculate turnout\n",
    "    df['turnout'] = round((df['votes_cast'] / df['registered_voters']) * 100, 1).fillna(0)\n",
    "\n",
    "    return df"
   ]
  },
  {
   "cell_type": "code",
   "execution_count": 11,
   "metadata": {
    "execution": {
     "iopub.execute_input": "2025-09-16T20:41:21.475219Z",
     "iopub.status.busy": "2025-09-16T20:41:21.475050Z",
     "iopub.status.idle": "2025-09-16T20:41:22.196348Z",
     "shell.execute_reply": "2025-09-16T20:41:22.195650Z"
    }
   },
   "outputs": [
    {
     "ename": "KeyError",
     "evalue": "\"None of [Index(['precinct', 'registered_voters', 'yes', 'no', 'total_votes'], dtype='object')] are in the [columns]\"",
     "output_type": "error",
     "traceback": [
      "\u001b[31m---------------------------------------------------------------------------\u001b[39m",
      "\u001b[31mKeyError\u001b[39m                                  Traceback (most recent call last)",
      "\u001b[36mCell\u001b[39m\u001b[36m \u001b[39m\u001b[32mIn[11]\u001b[39m\u001b[32m, line 1\u001b[39m\n\u001b[32m----> \u001b[39m\u001b[32m1\u001b[39m dfA = \u001b[43mprocess_proposition\u001b[49m\u001b[43m(\u001b[49m\u001b[43mdfA\u001b[49m\u001b[43m)\u001b[49m\n",
      "\u001b[36mCell\u001b[39m\u001b[36m \u001b[39m\u001b[32mIn[10]\u001b[39m\u001b[32m, line 19\u001b[39m, in \u001b[36mprocess_proposition\u001b[39m\u001b[34m(df)\u001b[39m\n\u001b[32m     16\u001b[39m df.columns = df.columns.str.replace(\u001b[33m'\u001b[39m\u001b[33mbonds_-_no\u001b[39m\u001b[33m'\u001b[39m, \u001b[33m'\u001b[39m\u001b[33mno\u001b[39m\u001b[33m'\u001b[39m, regex=\u001b[38;5;28;01mTrue\u001b[39;00m)\n\u001b[32m     18\u001b[39m \u001b[38;5;66;03m# Trim and rename columns to focus on necessary data\u001b[39;00m\n\u001b[32m---> \u001b[39m\u001b[32m19\u001b[39m df = \u001b[43mdf\u001b[49m\u001b[43m[\u001b[49m\u001b[43m[\u001b[49m\u001b[33;43m'\u001b[39;49m\u001b[33;43mprecinct\u001b[39;49m\u001b[33;43m'\u001b[39;49m\u001b[43m,\u001b[49m\u001b[43m \u001b[49m\u001b[33;43m'\u001b[39;49m\u001b[33;43mregistered_voters\u001b[39;49m\u001b[33;43m'\u001b[39;49m\u001b[43m,\u001b[49m\u001b[43m \u001b[49m\u001b[33;43m'\u001b[39;49m\u001b[33;43myes\u001b[39;49m\u001b[33;43m'\u001b[39;49m\u001b[43m,\u001b[49m\u001b[43m \u001b[49m\u001b[33;43m'\u001b[39;49m\u001b[33;43mno\u001b[39;49m\u001b[33;43m'\u001b[39;49m\u001b[43m,\u001b[49m\u001b[43m \u001b[49m\u001b[33;43m'\u001b[39;49m\u001b[33;43mtotal_votes\u001b[39;49m\u001b[33;43m'\u001b[39;49m\u001b[43m]\u001b[49m\u001b[43m]\u001b[49m\n\u001b[32m     20\u001b[39m df.columns = [\u001b[33m'\u001b[39m\u001b[33mprecinct\u001b[39m\u001b[33m'\u001b[39m, \u001b[33m'\u001b[39m\u001b[33mregistered_voters\u001b[39m\u001b[33m'\u001b[39m, \u001b[33m'\u001b[39m\u001b[33myes\u001b[39m\u001b[33m'\u001b[39m, \u001b[33m'\u001b[39m\u001b[33mno\u001b[39m\u001b[33m'\u001b[39m, \u001b[33m'\u001b[39m\u001b[33mvotes_cast\u001b[39m\u001b[33m'\u001b[39m]\n\u001b[32m     22\u001b[39m \u001b[38;5;66;03m# shift the precinct column up by 3 rows\u001b[39;00m\n",
      "\u001b[36mFile \u001b[39m\u001b[32m/opt/hostedtoolcache/Python/3.11.13/x64/lib/python3.11/site-packages/pandas/core/frame.py:4113\u001b[39m, in \u001b[36mDataFrame.__getitem__\u001b[39m\u001b[34m(self, key)\u001b[39m\n\u001b[32m   4111\u001b[39m     \u001b[38;5;28;01mif\u001b[39;00m is_iterator(key):\n\u001b[32m   4112\u001b[39m         key = \u001b[38;5;28mlist\u001b[39m(key)\n\u001b[32m-> \u001b[39m\u001b[32m4113\u001b[39m     indexer = \u001b[38;5;28;43mself\u001b[39;49m\u001b[43m.\u001b[49m\u001b[43mcolumns\u001b[49m\u001b[43m.\u001b[49m\u001b[43m_get_indexer_strict\u001b[49m\u001b[43m(\u001b[49m\u001b[43mkey\u001b[49m\u001b[43m,\u001b[49m\u001b[43m \u001b[49m\u001b[33;43m\"\u001b[39;49m\u001b[33;43mcolumns\u001b[39;49m\u001b[33;43m\"\u001b[39;49m\u001b[43m)\u001b[49m[\u001b[32m1\u001b[39m]\n\u001b[32m   4115\u001b[39m \u001b[38;5;66;03m# take() does not accept boolean indexers\u001b[39;00m\n\u001b[32m   4116\u001b[39m \u001b[38;5;28;01mif\u001b[39;00m \u001b[38;5;28mgetattr\u001b[39m(indexer, \u001b[33m\"\u001b[39m\u001b[33mdtype\u001b[39m\u001b[33m\"\u001b[39m, \u001b[38;5;28;01mNone\u001b[39;00m) == \u001b[38;5;28mbool\u001b[39m:\n",
      "\u001b[36mFile \u001b[39m\u001b[32m/opt/hostedtoolcache/Python/3.11.13/x64/lib/python3.11/site-packages/pandas/core/indexes/base.py:6212\u001b[39m, in \u001b[36mIndex._get_indexer_strict\u001b[39m\u001b[34m(self, key, axis_name)\u001b[39m\n\u001b[32m   6209\u001b[39m \u001b[38;5;28;01melse\u001b[39;00m:\n\u001b[32m   6210\u001b[39m     keyarr, indexer, new_indexer = \u001b[38;5;28mself\u001b[39m._reindex_non_unique(keyarr)\n\u001b[32m-> \u001b[39m\u001b[32m6212\u001b[39m \u001b[38;5;28;43mself\u001b[39;49m\u001b[43m.\u001b[49m\u001b[43m_raise_if_missing\u001b[49m\u001b[43m(\u001b[49m\u001b[43mkeyarr\u001b[49m\u001b[43m,\u001b[49m\u001b[43m \u001b[49m\u001b[43mindexer\u001b[49m\u001b[43m,\u001b[49m\u001b[43m \u001b[49m\u001b[43maxis_name\u001b[49m\u001b[43m)\u001b[49m\n\u001b[32m   6214\u001b[39m keyarr = \u001b[38;5;28mself\u001b[39m.take(indexer)\n\u001b[32m   6215\u001b[39m \u001b[38;5;28;01mif\u001b[39;00m \u001b[38;5;28misinstance\u001b[39m(key, Index):\n\u001b[32m   6216\u001b[39m     \u001b[38;5;66;03m# GH 42790 - Preserve name from an Index\u001b[39;00m\n",
      "\u001b[36mFile \u001b[39m\u001b[32m/opt/hostedtoolcache/Python/3.11.13/x64/lib/python3.11/site-packages/pandas/core/indexes/base.py:6261\u001b[39m, in \u001b[36mIndex._raise_if_missing\u001b[39m\u001b[34m(self, key, indexer, axis_name)\u001b[39m\n\u001b[32m   6259\u001b[39m \u001b[38;5;28;01mif\u001b[39;00m nmissing:\n\u001b[32m   6260\u001b[39m     \u001b[38;5;28;01mif\u001b[39;00m nmissing == \u001b[38;5;28mlen\u001b[39m(indexer):\n\u001b[32m-> \u001b[39m\u001b[32m6261\u001b[39m         \u001b[38;5;28;01mraise\u001b[39;00m \u001b[38;5;167;01mKeyError\u001b[39;00m(\u001b[33mf\u001b[39m\u001b[33m\"\u001b[39m\u001b[33mNone of [\u001b[39m\u001b[38;5;132;01m{\u001b[39;00mkey\u001b[38;5;132;01m}\u001b[39;00m\u001b[33m] are in the [\u001b[39m\u001b[38;5;132;01m{\u001b[39;00maxis_name\u001b[38;5;132;01m}\u001b[39;00m\u001b[33m]\u001b[39m\u001b[33m\"\u001b[39m)\n\u001b[32m   6263\u001b[39m     not_found = \u001b[38;5;28mlist\u001b[39m(ensure_index(key)[missing_mask.nonzero()[\u001b[32m0\u001b[39m]].unique())\n\u001b[32m   6264\u001b[39m     \u001b[38;5;28;01mraise\u001b[39;00m \u001b[38;5;167;01mKeyError\u001b[39;00m(\u001b[33mf\u001b[39m\u001b[33m\"\u001b[39m\u001b[38;5;132;01m{\u001b[39;00mnot_found\u001b[38;5;132;01m}\u001b[39;00m\u001b[33m not in index\u001b[39m\u001b[33m\"\u001b[39m)\n",
      "\u001b[31mKeyError\u001b[39m: \"None of [Index(['precinct', 'registered_voters', 'yes', 'no', 'total_votes'], dtype='object')] are in the [columns]\""
     ]
    }
   ],
   "source": [
    "dfA = process_proposition(dfA)"
   ]
  },
  {
   "cell_type": "code",
   "execution_count": 12,
   "metadata": {
    "execution": {
     "iopub.execute_input": "2025-09-16T20:41:22.198560Z",
     "iopub.status.busy": "2025-09-16T20:41:22.198373Z",
     "iopub.status.idle": "2025-09-16T20:41:22.201257Z",
     "shell.execute_reply": "2025-09-16T20:41:22.200806Z"
    }
   },
   "outputs": [],
   "source": [
    "bins = [0, 25, 30, 35, 40, 45, 50, 55, 60, 65, 70, 75, 100]\n",
    "labels = ['Less than 25%', '25-30%', '30-35%', '35-40%', '40-45%', '45-50%', '50-55%', '55-60%', '60-65%', '65-70%', '70-75%', '75% and more']"
   ]
  },
  {
   "cell_type": "code",
   "execution_count": 13,
   "metadata": {
    "execution": {
     "iopub.execute_input": "2025-09-16T20:41:22.202765Z",
     "iopub.status.busy": "2025-09-16T20:41:22.202615Z",
     "iopub.status.idle": "2025-09-16T20:41:22.204937Z",
     "shell.execute_reply": "2025-09-16T20:41:22.204505Z"
    }
   },
   "outputs": [],
   "source": [
    "# I want to generate random numbers for yes and no columns in dfA, but the sum of yes and no should be  no more than registered_voters\n",
    "\n",
    "# def generate_yes_no(row):\n",
    "#     registered_voters = row['registered_voters']\n",
    "#     if registered_voters == 0:\n",
    "#         return pd.Series([0, 0])\n",
    "    \n",
    "#     yes = randint(0, registered_voters)\n",
    "#     no = randint(0, registered_voters - yes)\n",
    "    \n",
    "#     return pd.Series([yes, no])\n",
    "\n",
    "# # make votes_cast the sum of yes and no\n",
    "\n",
    "# dfA[['yes', 'no']] = dfA.apply(generate_yes_no, axis=1)\n",
    "# dfA['votes_cast'] = dfA['yes'] + dfA['no']\n",
    "# dfA['turnout'] = round((dfA['votes_cast'] / dfA['registered_voters']) * 100, 1).fillna(0)"
   ]
  },
  {
   "cell_type": "code",
   "execution_count": 14,
   "metadata": {
    "execution": {
     "iopub.execute_input": "2025-09-16T20:41:22.206373Z",
     "iopub.status.busy": "2025-09-16T20:41:22.206230Z",
     "iopub.status.idle": "2025-09-16T20:41:22.212526Z",
     "shell.execute_reply": "2025-09-16T20:41:22.211943Z"
    }
   },
   "outputs": [
    {
     "data": {
      "text/html": [
       "<div>\n",
       "<style scoped>\n",
       "    .dataframe tbody tr th:only-of-type {\n",
       "        vertical-align: middle;\n",
       "    }\n",
       "\n",
       "    .dataframe tbody tr th {\n",
       "        vertical-align: top;\n",
       "    }\n",
       "\n",
       "    .dataframe thead th {\n",
       "        text-align: right;\n",
       "    }\n",
       "</style>\n",
       "<table border=\"1\" class=\"dataframe\">\n",
       "  <thead>\n",
       "    <tr style=\"text-align: right;\">\n",
       "      <th></th>\n",
       "      <th>precinct</th>\n",
       "      <th>registered_voters</th>\n",
       "      <th>votes_cast</th>\n",
       "      <th>turnout</th>\n",
       "    </tr>\n",
       "  </thead>\n",
       "  <tbody>\n",
       "    <tr>\n",
       "      <th>5</th>\n",
       "      <td>9401</td>\n",
       "      <td>2566</td>\n",
       "      <td>0</td>\n",
       "      <td>0.0</td>\n",
       "    </tr>\n",
       "    <tr>\n",
       "      <th>9</th>\n",
       "      <td>9403</td>\n",
       "      <td>2247</td>\n",
       "      <td>0</td>\n",
       "      <td>0.0</td>\n",
       "    </tr>\n",
       "    <tr>\n",
       "      <th>13</th>\n",
       "      <td>9404</td>\n",
       "      <td>3243</td>\n",
       "      <td>0</td>\n",
       "      <td>0.0</td>\n",
       "    </tr>\n",
       "    <tr>\n",
       "      <th>17</th>\n",
       "      <td>9406</td>\n",
       "      <td>2415</td>\n",
       "      <td>0</td>\n",
       "      <td>0.0</td>\n",
       "    </tr>\n",
       "    <tr>\n",
       "      <th>21</th>\n",
       "      <td>9408</td>\n",
       "      <td>2979</td>\n",
       "      <td>0</td>\n",
       "      <td>0.0</td>\n",
       "    </tr>\n",
       "  </tbody>\n",
       "</table>\n",
       "</div>"
      ],
      "text/plain": [
       "   precinct  registered_voters  votes_cast  turnout\n",
       "5      9401               2566           0      0.0\n",
       "9      9403               2247           0      0.0\n",
       "13     9404               3243           0      0.0\n",
       "17     9406               2415           0      0.0\n",
       "21     9408               2979           0      0.0"
      ]
     },
     "execution_count": 14,
     "metadata": {},
     "output_type": "execute_result"
    }
   ],
   "source": [
    "dfTurnout.head()"
   ]
  },
  {
   "cell_type": "code",
   "execution_count": 15,
   "metadata": {
    "execution": {
     "iopub.execute_input": "2025-09-16T20:41:22.214041Z",
     "iopub.status.busy": "2025-09-16T20:41:22.213879Z",
     "iopub.status.idle": "2025-09-16T20:41:22.218168Z",
     "shell.execute_reply": "2025-09-16T20:41:22.217596Z"
    }
   },
   "outputs": [],
   "source": [
    "# do the same thing for dfTurnout. This time we are just populating the votes_cast column with random numbers\n",
    "\n",
    "dfTurnout['votes_cast'] = dfTurnout.apply(\n",
    "    lambda row: randint(0, row['registered_voters']) if row['registered_voters'] > 0 else 0,\n",
    "    axis=1\n",
    ")\n",
    "dfTurnout['turnout'] = round((dfTurnout['votes_cast'] / dfTurnout['registered_voters']) * 100, 1).fillna(0)"
   ]
  },
  {
   "cell_type": "code",
   "execution_count": 16,
   "metadata": {
    "execution": {
     "iopub.execute_input": "2025-09-16T20:41:22.219798Z",
     "iopub.status.busy": "2025-09-16T20:41:22.219639Z",
     "iopub.status.idle": "2025-09-16T20:41:22.231439Z",
     "shell.execute_reply": "2025-09-16T20:41:22.230841Z"
    }
   },
   "outputs": [
    {
     "data": {
      "text/html": [
       "<div>\n",
       "<style scoped>\n",
       "    .dataframe tbody tr th:only-of-type {\n",
       "        vertical-align: middle;\n",
       "    }\n",
       "\n",
       "    .dataframe tbody tr th {\n",
       "        vertical-align: top;\n",
       "    }\n",
       "\n",
       "    .dataframe thead th {\n",
       "        text-align: right;\n",
       "    }\n",
       "</style>\n",
       "<table border=\"1\" class=\"dataframe\">\n",
       "  <thead>\n",
       "    <tr style=\"text-align: right;\">\n",
       "      <th></th>\n",
       "      <th></th>\n",
       "      <th></th>\n",
       "      <th></th>\n",
       "      <th></th>\n",
       "      <th></th>\n",
       "      <th></th>\n",
       "      <th></th>\n",
       "      <th></th>\n",
       "      <th></th>\n",
       "      <th></th>\n",
       "      <th></th>\n",
       "      <th></th>\n",
       "    </tr>\n",
       "  </thead>\n",
       "  <tbody>\n",
       "    <tr>\n",
       "      <th>0</th>\n",
       "      <td>Electionwide</td>\n",
       "      <td>NaN</td>\n",
       "      <td>NaN</td>\n",
       "      <td>NaN</td>\n",
       "      <td>NaN</td>\n",
       "      <td>Electionwide</td>\n",
       "      <td>NaN</td>\n",
       "      <td>NaN</td>\n",
       "      <td>NaN</td>\n",
       "      <td>NaN</td>\n",
       "      <td>NaN</td>\n",
       "      <td>NaN</td>\n",
       "    </tr>\n",
       "    <tr>\n",
       "      <th>1</th>\n",
       "      <td>Electionwide</td>\n",
       "      <td>NaN</td>\n",
       "      <td>NaN</td>\n",
       "      <td>NaN</td>\n",
       "      <td>NaN</td>\n",
       "      <td>Electionwide</td>\n",
       "      <td>NaN</td>\n",
       "      <td>NaN</td>\n",
       "      <td>NaN</td>\n",
       "      <td>NaN</td>\n",
       "      <td>NaN</td>\n",
       "      <td>NaN</td>\n",
       "    </tr>\n",
       "    <tr>\n",
       "      <th>2</th>\n",
       "      <td>PCT 9401</td>\n",
       "      <td>NaN</td>\n",
       "      <td>NaN</td>\n",
       "      <td>NaN</td>\n",
       "      <td>NaN</td>\n",
       "      <td>PCT 9401</td>\n",
       "      <td>NaN</td>\n",
       "      <td>NaN</td>\n",
       "      <td>NaN</td>\n",
       "      <td>NaN</td>\n",
       "      <td>NaN</td>\n",
       "      <td>NaN</td>\n",
       "    </tr>\n",
       "    <tr>\n",
       "      <th>3</th>\n",
       "      <td>Election Day</td>\n",
       "      <td>2566.0</td>\n",
       "      <td>0.0</td>\n",
       "      <td>NaN</td>\n",
       "      <td>0.0</td>\n",
       "      <td>Election Day</td>\n",
       "      <td>0.0</td>\n",
       "      <td>NaN</td>\n",
       "      <td>0.0</td>\n",
       "      <td>NaN</td>\n",
       "      <td>0.0</td>\n",
       "      <td>NaN</td>\n",
       "    </tr>\n",
       "    <tr>\n",
       "      <th>4</th>\n",
       "      <td>Vote by Mail</td>\n",
       "      <td>2566.0</td>\n",
       "      <td>0.0</td>\n",
       "      <td>NaN</td>\n",
       "      <td>0.0</td>\n",
       "      <td>Vote by Mail</td>\n",
       "      <td>0.0</td>\n",
       "      <td>NaN</td>\n",
       "      <td>0.0</td>\n",
       "      <td>NaN</td>\n",
       "      <td>0.0</td>\n",
       "      <td>NaN</td>\n",
       "    </tr>\n",
       "    <tr>\n",
       "      <th>...</th>\n",
       "      <td>...</td>\n",
       "      <td>...</td>\n",
       "      <td>...</td>\n",
       "      <td>...</td>\n",
       "      <td>...</td>\n",
       "      <td>...</td>\n",
       "      <td>...</td>\n",
       "      <td>...</td>\n",
       "      <td>...</td>\n",
       "      <td>...</td>\n",
       "      <td>...</td>\n",
       "      <td>...</td>\n",
       "    </tr>\n",
       "    <tr>\n",
       "      <th>77</th>\n",
       "      <td>Total</td>\n",
       "      <td>594.0</td>\n",
       "      <td>0.0</td>\n",
       "      <td>NaN</td>\n",
       "      <td>0.0</td>\n",
       "      <td>Total</td>\n",
       "      <td>0.0</td>\n",
       "      <td>NaN</td>\n",
       "      <td>0.0</td>\n",
       "      <td>NaN</td>\n",
       "      <td>0.0</td>\n",
       "      <td>NaN</td>\n",
       "    </tr>\n",
       "    <tr>\n",
       "      <th>78</th>\n",
       "      <td>PCT 9451</td>\n",
       "      <td>NaN</td>\n",
       "      <td>NaN</td>\n",
       "      <td>NaN</td>\n",
       "      <td>NaN</td>\n",
       "      <td>PCT 9451</td>\n",
       "      <td>NaN</td>\n",
       "      <td>NaN</td>\n",
       "      <td>NaN</td>\n",
       "      <td>NaN</td>\n",
       "      <td>NaN</td>\n",
       "      <td>NaN</td>\n",
       "    </tr>\n",
       "    <tr>\n",
       "      <th>79</th>\n",
       "      <td>Election Day</td>\n",
       "      <td>2383.0</td>\n",
       "      <td>0.0</td>\n",
       "      <td>NaN</td>\n",
       "      <td>0.0</td>\n",
       "      <td>Election Day</td>\n",
       "      <td>0.0</td>\n",
       "      <td>NaN</td>\n",
       "      <td>0.0</td>\n",
       "      <td>NaN</td>\n",
       "      <td>0.0</td>\n",
       "      <td>NaN</td>\n",
       "    </tr>\n",
       "    <tr>\n",
       "      <th>80</th>\n",
       "      <td>Vote by Mail</td>\n",
       "      <td>2383.0</td>\n",
       "      <td>0.0</td>\n",
       "      <td>NaN</td>\n",
       "      <td>0.0</td>\n",
       "      <td>Vote by Mail</td>\n",
       "      <td>0.0</td>\n",
       "      <td>NaN</td>\n",
       "      <td>0.0</td>\n",
       "      <td>NaN</td>\n",
       "      <td>0.0</td>\n",
       "      <td>NaN</td>\n",
       "    </tr>\n",
       "    <tr>\n",
       "      <th>81</th>\n",
       "      <td>Total</td>\n",
       "      <td>2383.0</td>\n",
       "      <td>0.0</td>\n",
       "      <td>NaN</td>\n",
       "      <td>0.0</td>\n",
       "      <td>Total</td>\n",
       "      <td>0.0</td>\n",
       "      <td>NaN</td>\n",
       "      <td>0.0</td>\n",
       "      <td>NaN</td>\n",
       "      <td>0.0</td>\n",
       "      <td>NaN</td>\n",
       "    </tr>\n",
       "  </tbody>\n",
       "</table>\n",
       "<p>82 rows × 12 columns</p>\n",
       "</div>"
      ],
      "text/plain": [
       "                                                                             \\\n",
       "0   Electionwide     NaN  NaN NaN  NaN  Electionwide  NaN NaN  NaN NaN  NaN   \n",
       "1   Electionwide     NaN  NaN NaN  NaN  Electionwide  NaN NaN  NaN NaN  NaN   \n",
       "2       PCT 9401     NaN  NaN NaN  NaN      PCT 9401  NaN NaN  NaN NaN  NaN   \n",
       "3   Election Day  2566.0  0.0 NaN  0.0  Election Day  0.0 NaN  0.0 NaN  0.0   \n",
       "4   Vote by Mail  2566.0  0.0 NaN  0.0  Vote by Mail  0.0 NaN  0.0 NaN  0.0   \n",
       "..           ...     ...  ...  ..  ...           ...  ...  ..  ...  ..  ...   \n",
       "77         Total   594.0  0.0 NaN  0.0         Total  0.0 NaN  0.0 NaN  0.0   \n",
       "78      PCT 9451     NaN  NaN NaN  NaN      PCT 9451  NaN NaN  NaN NaN  NaN   \n",
       "79  Election Day  2383.0  0.0 NaN  0.0  Election Day  0.0 NaN  0.0 NaN  0.0   \n",
       "80  Vote by Mail  2383.0  0.0 NaN  0.0  Vote by Mail  0.0 NaN  0.0 NaN  0.0   \n",
       "81         Total  2383.0  0.0 NaN  0.0         Total  0.0 NaN  0.0 NaN  0.0   \n",
       "\n",
       "        \n",
       "0  NaN  \n",
       "1  NaN  \n",
       "2  NaN  \n",
       "3  NaN  \n",
       "4  NaN  \n",
       "..  ..  \n",
       "77 NaN  \n",
       "78 NaN  \n",
       "79 NaN  \n",
       "80 NaN  \n",
       "81 NaN  \n",
       "\n",
       "[82 rows x 12 columns]"
      ]
     },
     "execution_count": 16,
     "metadata": {},
     "output_type": "execute_result"
    }
   ],
   "source": [
    "dfA"
   ]
  },
  {
   "cell_type": "code",
   "execution_count": 17,
   "metadata": {
    "execution": {
     "iopub.execute_input": "2025-09-16T20:41:22.233071Z",
     "iopub.status.busy": "2025-09-16T20:41:22.232905Z",
     "iopub.status.idle": "2025-09-16T20:41:22.237318Z",
     "shell.execute_reply": "2025-09-16T20:41:22.236846Z"
    }
   },
   "outputs": [],
   "source": [
    "# Calculate voter turnout percentage\n",
    "dfTurnout['yes_perc'] = (dfTurnout['votes_cast'] / dfTurnout['registered_voters']) * 100\n",
    "\n",
    "# Categorize turnout percentages into bins\n",
    "dfTurnout['yes_perc'] = pd.cut(dfTurnout['yes_perc'], bins=bins, labels=labels, include_lowest=True)"
   ]
  },
  {
   "cell_type": "code",
   "execution_count": 18,
   "metadata": {
    "execution": {
     "iopub.execute_input": "2025-09-16T20:41:22.238760Z",
     "iopub.status.busy": "2025-09-16T20:41:22.238594Z",
     "iopub.status.idle": "2025-09-16T20:41:22.309816Z",
     "shell.execute_reply": "2025-09-16T20:41:22.309168Z"
    }
   },
   "outputs": [
    {
     "ename": "KeyError",
     "evalue": "'precinct'",
     "output_type": "error",
     "traceback": [
      "\u001b[31m---------------------------------------------------------------------------\u001b[39m",
      "\u001b[31mKeyError\u001b[39m                                  Traceback (most recent call last)",
      "\u001b[36mFile \u001b[39m\u001b[32m/opt/hostedtoolcache/Python/3.11.13/x64/lib/python3.11/site-packages/pandas/core/indexes/base.py:3812\u001b[39m, in \u001b[36mIndex.get_loc\u001b[39m\u001b[34m(self, key)\u001b[39m\n\u001b[32m   3811\u001b[39m \u001b[38;5;28;01mtry\u001b[39;00m:\n\u001b[32m-> \u001b[39m\u001b[32m3812\u001b[39m     \u001b[38;5;28;01mreturn\u001b[39;00m \u001b[38;5;28;43mself\u001b[39;49m\u001b[43m.\u001b[49m\u001b[43m_engine\u001b[49m\u001b[43m.\u001b[49m\u001b[43mget_loc\u001b[49m\u001b[43m(\u001b[49m\u001b[43mcasted_key\u001b[49m\u001b[43m)\u001b[49m\n\u001b[32m   3813\u001b[39m \u001b[38;5;28;01mexcept\u001b[39;00m \u001b[38;5;167;01mKeyError\u001b[39;00m \u001b[38;5;28;01mas\u001b[39;00m err:\n",
      "\u001b[36mFile \u001b[39m\u001b[32mpandas/_libs/index.pyx:167\u001b[39m, in \u001b[36mpandas._libs.index.IndexEngine.get_loc\u001b[39m\u001b[34m()\u001b[39m\n",
      "\u001b[36mFile \u001b[39m\u001b[32mpandas/_libs/index.pyx:191\u001b[39m, in \u001b[36mpandas._libs.index.IndexEngine.get_loc\u001b[39m\u001b[34m()\u001b[39m\n",
      "\u001b[36mFile \u001b[39m\u001b[32mpandas/_libs/index.pyx:228\u001b[39m, in \u001b[36mpandas._libs.index.IndexEngine._get_loc_duplicates\u001b[39m\u001b[34m()\u001b[39m\n",
      "\u001b[31mKeyError\u001b[39m: 'precinct'",
      "\nThe above exception was the direct cause of the following exception:\n",
      "\u001b[31mKeyError\u001b[39m                                  Traceback (most recent call last)",
      "\u001b[36mCell\u001b[39m\u001b[36m \u001b[39m\u001b[32mIn[18]\u001b[39m\u001b[32m, line 1\u001b[39m\n\u001b[32m----> \u001b[39m\u001b[32m1\u001b[39m dfA[\u001b[33m'\u001b[39m\u001b[33mprecinct\u001b[39m\u001b[33m'\u001b[39m] = \u001b[43mdfA\u001b[49m\u001b[43m[\u001b[49m\u001b[33;43m'\u001b[39;49m\u001b[33;43mprecinct\u001b[39;49m\u001b[33;43m'\u001b[39;49m\u001b[43m]\u001b[49m.astype(\u001b[38;5;28mint\u001b[39m)\n\u001b[32m      2\u001b[39m dfA[\u001b[33m'\u001b[39m\u001b[33myes_perc\u001b[39m\u001b[33m'\u001b[39m] = (dfA[\u001b[33m'\u001b[39m\u001b[33myes\u001b[39m\u001b[33m'\u001b[39m] / dfA[\u001b[33m'\u001b[39m\u001b[33mvotes_cast\u001b[39m\u001b[33m'\u001b[39m]) * \u001b[32m100\u001b[39m\n\u001b[32m      3\u001b[39m dfA[\u001b[33m'\u001b[39m\u001b[33myes_perc_bin\u001b[39m\u001b[33m'\u001b[39m] = pd.cut(dfA[\u001b[33m'\u001b[39m\u001b[33myes_perc\u001b[39m\u001b[33m'\u001b[39m], bins=bins, labels=labels, include_lowest=\u001b[38;5;28;01mTrue\u001b[39;00m)\n",
      "\u001b[36mFile \u001b[39m\u001b[32m/opt/hostedtoolcache/Python/3.11.13/x64/lib/python3.11/site-packages/pandas/core/frame.py:4107\u001b[39m, in \u001b[36mDataFrame.__getitem__\u001b[39m\u001b[34m(self, key)\u001b[39m\n\u001b[32m   4105\u001b[39m \u001b[38;5;28;01mif\u001b[39;00m \u001b[38;5;28mself\u001b[39m.columns.nlevels > \u001b[32m1\u001b[39m:\n\u001b[32m   4106\u001b[39m     \u001b[38;5;28;01mreturn\u001b[39;00m \u001b[38;5;28mself\u001b[39m._getitem_multilevel(key)\n\u001b[32m-> \u001b[39m\u001b[32m4107\u001b[39m indexer = \u001b[38;5;28;43mself\u001b[39;49m\u001b[43m.\u001b[49m\u001b[43mcolumns\u001b[49m\u001b[43m.\u001b[49m\u001b[43mget_loc\u001b[49m\u001b[43m(\u001b[49m\u001b[43mkey\u001b[49m\u001b[43m)\u001b[49m\n\u001b[32m   4108\u001b[39m \u001b[38;5;28;01mif\u001b[39;00m is_integer(indexer):\n\u001b[32m   4109\u001b[39m     indexer = [indexer]\n",
      "\u001b[36mFile \u001b[39m\u001b[32m/opt/hostedtoolcache/Python/3.11.13/x64/lib/python3.11/site-packages/pandas/core/indexes/base.py:3819\u001b[39m, in \u001b[36mIndex.get_loc\u001b[39m\u001b[34m(self, key)\u001b[39m\n\u001b[32m   3814\u001b[39m     \u001b[38;5;28;01mif\u001b[39;00m \u001b[38;5;28misinstance\u001b[39m(casted_key, \u001b[38;5;28mslice\u001b[39m) \u001b[38;5;129;01mor\u001b[39;00m (\n\u001b[32m   3815\u001b[39m         \u001b[38;5;28misinstance\u001b[39m(casted_key, abc.Iterable)\n\u001b[32m   3816\u001b[39m         \u001b[38;5;129;01mand\u001b[39;00m \u001b[38;5;28many\u001b[39m(\u001b[38;5;28misinstance\u001b[39m(x, \u001b[38;5;28mslice\u001b[39m) \u001b[38;5;28;01mfor\u001b[39;00m x \u001b[38;5;129;01min\u001b[39;00m casted_key)\n\u001b[32m   3817\u001b[39m     ):\n\u001b[32m   3818\u001b[39m         \u001b[38;5;28;01mraise\u001b[39;00m InvalidIndexError(key)\n\u001b[32m-> \u001b[39m\u001b[32m3819\u001b[39m     \u001b[38;5;28;01mraise\u001b[39;00m \u001b[38;5;167;01mKeyError\u001b[39;00m(key) \u001b[38;5;28;01mfrom\u001b[39;00m\u001b[38;5;250m \u001b[39m\u001b[34;01merr\u001b[39;00m\n\u001b[32m   3820\u001b[39m \u001b[38;5;28;01mexcept\u001b[39;00m \u001b[38;5;167;01mTypeError\u001b[39;00m:\n\u001b[32m   3821\u001b[39m     \u001b[38;5;66;03m# If we have a listlike key, _check_indexing_error will raise\u001b[39;00m\n\u001b[32m   3822\u001b[39m     \u001b[38;5;66;03m#  InvalidIndexError. Otherwise we fall through and re-raise\u001b[39;00m\n\u001b[32m   3823\u001b[39m     \u001b[38;5;66;03m#  the TypeError.\u001b[39;00m\n\u001b[32m   3824\u001b[39m     \u001b[38;5;28mself\u001b[39m._check_indexing_error(key)\n",
      "\u001b[31mKeyError\u001b[39m: 'precinct'"
     ]
    }
   ],
   "source": [
    "dfA['precinct'] = dfA['precinct'].astype(int)\n",
    "dfA['yes_perc'] = (dfA['yes'] / dfA['votes_cast']) * 100\n",
    "dfA['yes_perc_bin'] = pd.cut(dfA['yes_perc'], bins=bins, labels=labels, include_lowest=True)\n",
    "dfA['yes_perc'] = dfA['yes_perc'].fillna('no data')\n",
    "dfA['yes_perc_bin'] = dfA['yes_perc_bin'].astype(str)"
   ]
  },
  {
   "cell_type": "markdown",
   "metadata": {},
   "source": [
    "## Bar chart"
   ]
  },
  {
   "cell_type": "markdown",
   "metadata": {},
   "source": [
    "copy for bar chart"
   ]
  },
  {
   "cell_type": "code",
   "execution_count": 19,
   "metadata": {
    "execution": {
     "iopub.execute_input": "2025-09-16T20:41:22.311774Z",
     "iopub.status.busy": "2025-09-16T20:41:22.311618Z",
     "iopub.status.idle": "2025-09-16T20:41:22.313851Z",
     "shell.execute_reply": "2025-09-16T20:41:22.313389Z"
    }
   },
   "outputs": [],
   "source": [
    "# yes,no,margin,threshold,total,Proposition,yes_p,no_p\n",
    "# 282968.0,94329.0,188639.0,50.0,377297.0,A,75.0,25.0"
   ]
  },
  {
   "cell_type": "code",
   "execution_count": 20,
   "metadata": {
    "execution": {
     "iopub.execute_input": "2025-09-16T20:41:22.315332Z",
     "iopub.status.busy": "2025-09-16T20:41:22.315180Z",
     "iopub.status.idle": "2025-09-16T20:41:22.382570Z",
     "shell.execute_reply": "2025-09-16T20:41:22.382022Z"
    }
   },
   "outputs": [
    {
     "ename": "KeyError",
     "evalue": "'registered_voters'",
     "output_type": "error",
     "traceback": [
      "\u001b[31m---------------------------------------------------------------------------\u001b[39m",
      "\u001b[31mKeyError\u001b[39m                                  Traceback (most recent call last)",
      "\u001b[36mFile \u001b[39m\u001b[32m/opt/hostedtoolcache/Python/3.11.13/x64/lib/python3.11/site-packages/pandas/core/indexes/base.py:3812\u001b[39m, in \u001b[36mIndex.get_loc\u001b[39m\u001b[34m(self, key)\u001b[39m\n\u001b[32m   3811\u001b[39m \u001b[38;5;28;01mtry\u001b[39;00m:\n\u001b[32m-> \u001b[39m\u001b[32m3812\u001b[39m     \u001b[38;5;28;01mreturn\u001b[39;00m \u001b[38;5;28;43mself\u001b[39;49m\u001b[43m.\u001b[49m\u001b[43m_engine\u001b[49m\u001b[43m.\u001b[49m\u001b[43mget_loc\u001b[49m\u001b[43m(\u001b[49m\u001b[43mcasted_key\u001b[49m\u001b[43m)\u001b[49m\n\u001b[32m   3813\u001b[39m \u001b[38;5;28;01mexcept\u001b[39;00m \u001b[38;5;167;01mKeyError\u001b[39;00m \u001b[38;5;28;01mas\u001b[39;00m err:\n",
      "\u001b[36mFile \u001b[39m\u001b[32mpandas/_libs/index.pyx:167\u001b[39m, in \u001b[36mpandas._libs.index.IndexEngine.get_loc\u001b[39m\u001b[34m()\u001b[39m\n",
      "\u001b[36mFile \u001b[39m\u001b[32mpandas/_libs/index.pyx:191\u001b[39m, in \u001b[36mpandas._libs.index.IndexEngine.get_loc\u001b[39m\u001b[34m()\u001b[39m\n",
      "\u001b[36mFile \u001b[39m\u001b[32mpandas/_libs/index.pyx:228\u001b[39m, in \u001b[36mpandas._libs.index.IndexEngine._get_loc_duplicates\u001b[39m\u001b[34m()\u001b[39m\n",
      "\u001b[31mKeyError\u001b[39m: 'registered_voters'",
      "\nThe above exception was the direct cause of the following exception:\n",
      "\u001b[31mKeyError\u001b[39m                                  Traceback (most recent call last)",
      "\u001b[36mCell\u001b[39m\u001b[36m \u001b[39m\u001b[32mIn[20]\u001b[39m\u001b[32m, line 5\u001b[39m\n\u001b[32m      1\u001b[39m \u001b[38;5;66;03m# make a bottom row with the totals of each column\u001b[39;00m\n\u001b[32m      3\u001b[39m total_row = pd.DataFrame({\n\u001b[32m      4\u001b[39m     \u001b[33m'\u001b[39m\u001b[33mprecinct\u001b[39m\u001b[33m'\u001b[39m: [\u001b[33m'\u001b[39m\u001b[33mTotal\u001b[39m\u001b[33m'\u001b[39m],\n\u001b[32m----> \u001b[39m\u001b[32m5\u001b[39m     \u001b[33m'\u001b[39m\u001b[33mregistered_voters\u001b[39m\u001b[33m'\u001b[39m: [\u001b[43mdfA\u001b[49m\u001b[43m[\u001b[49m\u001b[33;43m'\u001b[39;49m\u001b[33;43mregistered_voters\u001b[39;49m\u001b[33;43m'\u001b[39;49m\u001b[43m]\u001b[49m.sum()],\n\u001b[32m      6\u001b[39m     \u001b[33m'\u001b[39m\u001b[33myes\u001b[39m\u001b[33m'\u001b[39m: [dfA[\u001b[33m'\u001b[39m\u001b[33myes\u001b[39m\u001b[33m'\u001b[39m].sum()],\n\u001b[32m      7\u001b[39m     \u001b[33m'\u001b[39m\u001b[33mno\u001b[39m\u001b[33m'\u001b[39m: [dfA[\u001b[33m'\u001b[39m\u001b[33mno\u001b[39m\u001b[33m'\u001b[39m].sum()],\n\u001b[32m      8\u001b[39m     \u001b[33m'\u001b[39m\u001b[33mvotes_cast\u001b[39m\u001b[33m'\u001b[39m: [dfA[\u001b[33m'\u001b[39m\u001b[33mvotes_cast\u001b[39m\u001b[33m'\u001b[39m].sum()]\n\u001b[32m      9\u001b[39m     })\n\u001b[32m     11\u001b[39m total_row\n",
      "\u001b[36mFile \u001b[39m\u001b[32m/opt/hostedtoolcache/Python/3.11.13/x64/lib/python3.11/site-packages/pandas/core/frame.py:4107\u001b[39m, in \u001b[36mDataFrame.__getitem__\u001b[39m\u001b[34m(self, key)\u001b[39m\n\u001b[32m   4105\u001b[39m \u001b[38;5;28;01mif\u001b[39;00m \u001b[38;5;28mself\u001b[39m.columns.nlevels > \u001b[32m1\u001b[39m:\n\u001b[32m   4106\u001b[39m     \u001b[38;5;28;01mreturn\u001b[39;00m \u001b[38;5;28mself\u001b[39m._getitem_multilevel(key)\n\u001b[32m-> \u001b[39m\u001b[32m4107\u001b[39m indexer = \u001b[38;5;28;43mself\u001b[39;49m\u001b[43m.\u001b[49m\u001b[43mcolumns\u001b[49m\u001b[43m.\u001b[49m\u001b[43mget_loc\u001b[49m\u001b[43m(\u001b[49m\u001b[43mkey\u001b[49m\u001b[43m)\u001b[49m\n\u001b[32m   4108\u001b[39m \u001b[38;5;28;01mif\u001b[39;00m is_integer(indexer):\n\u001b[32m   4109\u001b[39m     indexer = [indexer]\n",
      "\u001b[36mFile \u001b[39m\u001b[32m/opt/hostedtoolcache/Python/3.11.13/x64/lib/python3.11/site-packages/pandas/core/indexes/base.py:3819\u001b[39m, in \u001b[36mIndex.get_loc\u001b[39m\u001b[34m(self, key)\u001b[39m\n\u001b[32m   3814\u001b[39m     \u001b[38;5;28;01mif\u001b[39;00m \u001b[38;5;28misinstance\u001b[39m(casted_key, \u001b[38;5;28mslice\u001b[39m) \u001b[38;5;129;01mor\u001b[39;00m (\n\u001b[32m   3815\u001b[39m         \u001b[38;5;28misinstance\u001b[39m(casted_key, abc.Iterable)\n\u001b[32m   3816\u001b[39m         \u001b[38;5;129;01mand\u001b[39;00m \u001b[38;5;28many\u001b[39m(\u001b[38;5;28misinstance\u001b[39m(x, \u001b[38;5;28mslice\u001b[39m) \u001b[38;5;28;01mfor\u001b[39;00m x \u001b[38;5;129;01min\u001b[39;00m casted_key)\n\u001b[32m   3817\u001b[39m     ):\n\u001b[32m   3818\u001b[39m         \u001b[38;5;28;01mraise\u001b[39;00m InvalidIndexError(key)\n\u001b[32m-> \u001b[39m\u001b[32m3819\u001b[39m     \u001b[38;5;28;01mraise\u001b[39;00m \u001b[38;5;167;01mKeyError\u001b[39;00m(key) \u001b[38;5;28;01mfrom\u001b[39;00m\u001b[38;5;250m \u001b[39m\u001b[34;01merr\u001b[39;00m\n\u001b[32m   3820\u001b[39m \u001b[38;5;28;01mexcept\u001b[39;00m \u001b[38;5;167;01mTypeError\u001b[39;00m:\n\u001b[32m   3821\u001b[39m     \u001b[38;5;66;03m# If we have a listlike key, _check_indexing_error will raise\u001b[39;00m\n\u001b[32m   3822\u001b[39m     \u001b[38;5;66;03m#  InvalidIndexError. Otherwise we fall through and re-raise\u001b[39;00m\n\u001b[32m   3823\u001b[39m     \u001b[38;5;66;03m#  the TypeError.\u001b[39;00m\n\u001b[32m   3824\u001b[39m     \u001b[38;5;28mself\u001b[39m._check_indexing_error(key)\n",
      "\u001b[31mKeyError\u001b[39m: 'registered_voters'"
     ]
    }
   ],
   "source": [
    "# make a bottom row with the totals of each column\n",
    "\n",
    "total_row = pd.DataFrame({\n",
    "    'precinct': ['Total'],\n",
    "    'registered_voters': [dfA['registered_voters'].sum()],\n",
    "    'yes': [dfA['yes'].sum()],\n",
    "    'no': [dfA['no'].sum()],\n",
    "    'votes_cast': [dfA['votes_cast'].sum()]\n",
    "    })\n",
    "\n",
    "total_row"
   ]
  },
  {
   "cell_type": "code",
   "execution_count": 21,
   "metadata": {
    "execution": {
     "iopub.execute_input": "2025-09-16T20:41:22.384463Z",
     "iopub.status.busy": "2025-09-16T20:41:22.384266Z",
     "iopub.status.idle": "2025-09-16T20:41:22.405170Z",
     "shell.execute_reply": "2025-09-16T20:41:22.404676Z"
    }
   },
   "outputs": [
    {
     "ename": "NameError",
     "evalue": "name 'total_row' is not defined",
     "output_type": "error",
     "traceback": [
      "\u001b[31m---------------------------------------------------------------------------\u001b[39m",
      "\u001b[31mNameError\u001b[39m                                 Traceback (most recent call last)",
      "\u001b[36mCell\u001b[39m\u001b[36m \u001b[39m\u001b[32mIn[21]\u001b[39m\u001b[32m, line 3\u001b[39m\n\u001b[32m      1\u001b[39m \u001b[38;5;66;03m# make a yes_p and no_p column that is the percentage of yes and no votes\u001b[39;00m\n\u001b[32m----> \u001b[39m\u001b[32m3\u001b[39m total_row[\u001b[33m'\u001b[39m\u001b[33myes_p\u001b[39m\u001b[33m'\u001b[39m] = \u001b[38;5;28mround\u001b[39m((\u001b[43mtotal_row\u001b[49m[\u001b[33m'\u001b[39m\u001b[33myes\u001b[39m\u001b[33m'\u001b[39m] / total_row[\u001b[33m'\u001b[39m\u001b[33mvotes_cast\u001b[39m\u001b[33m'\u001b[39m]) * \u001b[32m100\u001b[39m, \u001b[32m1\u001b[39m).fillna(\u001b[32m0\u001b[39m)\n\u001b[32m      4\u001b[39m total_row[\u001b[33m'\u001b[39m\u001b[33mno_p\u001b[39m\u001b[33m'\u001b[39m] = \u001b[38;5;28mround\u001b[39m((total_row[\u001b[33m'\u001b[39m\u001b[33mno\u001b[39m\u001b[33m'\u001b[39m] / total_row[\u001b[33m'\u001b[39m\u001b[33mvotes_cast\u001b[39m\u001b[33m'\u001b[39m]) * \u001b[32m100\u001b[39m, \u001b[32m1\u001b[39m).fillna(\u001b[32m0\u001b[39m)\n",
      "\u001b[31mNameError\u001b[39m: name 'total_row' is not defined"
     ]
    }
   ],
   "source": [
    "# make a yes_p and no_p column that is the percentage of yes and no votes\n",
    "\n",
    "total_row['yes_p'] = round((total_row['yes'] / total_row['votes_cast']) * 100, 1).fillna(0)\n",
    "total_row['no_p'] = round((total_row['no'] / total_row['votes_cast']) * 100, 1).fillna(0)"
   ]
  },
  {
   "cell_type": "code",
   "execution_count": 22,
   "metadata": {
    "execution": {
     "iopub.execute_input": "2025-09-16T20:41:22.406841Z",
     "iopub.status.busy": "2025-09-16T20:41:22.406671Z",
     "iopub.status.idle": "2025-09-16T20:41:22.424792Z",
     "shell.execute_reply": "2025-09-16T20:41:22.424286Z"
    }
   },
   "outputs": [
    {
     "ename": "NameError",
     "evalue": "name 'total_row' is not defined",
     "output_type": "error",
     "traceback": [
      "\u001b[31m---------------------------------------------------------------------------\u001b[39m",
      "\u001b[31mNameError\u001b[39m                                 Traceback (most recent call last)",
      "\u001b[36mCell\u001b[39m\u001b[36m \u001b[39m\u001b[32mIn[22]\u001b[39m\u001b[32m, line 3\u001b[39m\n\u001b[32m      1\u001b[39m \u001b[38;5;66;03m# make a column that is called proposition and set it to A\u001b[39;00m\n\u001b[32m----> \u001b[39m\u001b[32m3\u001b[39m \u001b[43mtotal_row\u001b[49m[\u001b[33m'\u001b[39m\u001b[33mproposition\u001b[39m\u001b[33m'\u001b[39m] = \u001b[33m'\u001b[39m\u001b[33mA\u001b[39m\u001b[33m'\u001b[39m\n\u001b[32m      4\u001b[39m total_row[\u001b[33m'\u001b[39m\u001b[33mthreshold\u001b[39m\u001b[33m'\u001b[39m] = \u001b[32m50.0\u001b[39m\n",
      "\u001b[31mNameError\u001b[39m: name 'total_row' is not defined"
     ]
    }
   ],
   "source": [
    "# make a column that is called proposition and set it to A\n",
    "\n",
    "total_row['proposition'] = 'A'\n",
    "total_row['threshold'] = 50.0"
   ]
  },
  {
   "cell_type": "code",
   "execution_count": 23,
   "metadata": {
    "execution": {
     "iopub.execute_input": "2025-09-16T20:41:22.426362Z",
     "iopub.status.busy": "2025-09-16T20:41:22.426205Z",
     "iopub.status.idle": "2025-09-16T20:41:22.443640Z",
     "shell.execute_reply": "2025-09-16T20:41:22.443142Z"
    }
   },
   "outputs": [
    {
     "ename": "NameError",
     "evalue": "name 'total_row' is not defined",
     "output_type": "error",
     "traceback": [
      "\u001b[31m---------------------------------------------------------------------------\u001b[39m",
      "\u001b[31mNameError\u001b[39m                                 Traceback (most recent call last)",
      "\u001b[36mCell\u001b[39m\u001b[36m \u001b[39m\u001b[32mIn[23]\u001b[39m\u001b[32m, line 1\u001b[39m\n\u001b[32m----> \u001b[39m\u001b[32m1\u001b[39m \u001b[43mtotal_row\u001b[49m\n",
      "\u001b[31mNameError\u001b[39m: name 'total_row' is not defined"
     ]
    }
   ],
   "source": [
    "total_row"
   ]
  },
  {
   "cell_type": "code",
   "execution_count": 24,
   "metadata": {
    "execution": {
     "iopub.execute_input": "2025-09-16T20:41:22.445242Z",
     "iopub.status.busy": "2025-09-16T20:41:22.445086Z",
     "iopub.status.idle": "2025-09-16T20:41:22.465281Z",
     "shell.execute_reply": "2025-09-16T20:41:22.464820Z"
    }
   },
   "outputs": [
    {
     "ename": "NameError",
     "evalue": "name 'total_row' is not defined",
     "output_type": "error",
     "traceback": [
      "\u001b[31m---------------------------------------------------------------------------\u001b[39m",
      "\u001b[31mNameError\u001b[39m                                 Traceback (most recent call last)",
      "\u001b[36mCell\u001b[39m\u001b[36m \u001b[39m\u001b[32mIn[24]\u001b[39m\u001b[32m, line 3\u001b[39m\n\u001b[32m      1\u001b[39m \u001b[38;5;66;03m# add a turnout column\u001b[39;00m\n\u001b[32m----> \u001b[39m\u001b[32m3\u001b[39m total_row[\u001b[33m'\u001b[39m\u001b[33mturnout\u001b[39m\u001b[33m'\u001b[39m] = \u001b[38;5;28mround\u001b[39m((\u001b[43mtotal_row\u001b[49m[\u001b[33m'\u001b[39m\u001b[33mvotes_cast\u001b[39m\u001b[33m'\u001b[39m] / total_row[\u001b[33m'\u001b[39m\u001b[33mregistered_voters\u001b[39m\u001b[33m'\u001b[39m]) * \u001b[32m100\u001b[39m, \u001b[32m1\u001b[39m).fillna(\u001b[32m0\u001b[39m)\n",
      "\u001b[31mNameError\u001b[39m: name 'total_row' is not defined"
     ]
    }
   ],
   "source": [
    "# add a turnout column\n",
    "\n",
    "total_row['turnout'] = round((total_row['votes_cast'] / total_row['registered_voters']) * 100, 1).fillna(0)"
   ]
  },
  {
   "cell_type": "code",
   "execution_count": 25,
   "metadata": {
    "execution": {
     "iopub.execute_input": "2025-09-16T20:41:22.466948Z",
     "iopub.status.busy": "2025-09-16T20:41:22.466788Z",
     "iopub.status.idle": "2025-09-16T20:41:22.484459Z",
     "shell.execute_reply": "2025-09-16T20:41:22.483987Z"
    }
   },
   "outputs": [
    {
     "ename": "NameError",
     "evalue": "name 'total_row' is not defined",
     "output_type": "error",
     "traceback": [
      "\u001b[31m---------------------------------------------------------------------------\u001b[39m",
      "\u001b[31mNameError\u001b[39m                                 Traceback (most recent call last)",
      "\u001b[36mCell\u001b[39m\u001b[36m \u001b[39m\u001b[32mIn[25]\u001b[39m\u001b[32m, line 3\u001b[39m\n\u001b[32m      1\u001b[39m \u001b[38;5;66;03m# export to docs/bar-chart/data.csv\u001b[39;00m\n\u001b[32m----> \u001b[39m\u001b[32m3\u001b[39m \u001b[43mtotal_row\u001b[49m.to_csv(\u001b[33m'\u001b[39m\u001b[33m./docs/bar-chart/data.csv\u001b[39m\u001b[33m'\u001b[39m, index=\u001b[38;5;28;01mFalse\u001b[39;00m)\n",
      "\u001b[31mNameError\u001b[39m: name 'total_row' is not defined"
     ]
    }
   ],
   "source": [
    "# export to docs/bar-chart/data.csv\n",
    "\n",
    "total_row.to_csv('./docs/bar-chart/data.csv', index=False)"
   ]
  },
  {
   "cell_type": "markdown",
   "metadata": {},
   "source": [
    "## Reading files for 2022"
   ]
  },
  {
   "cell_type": "code",
   "execution_count": 26,
   "metadata": {
    "execution": {
     "iopub.execute_input": "2025-09-16T20:41:22.486154Z",
     "iopub.status.busy": "2025-09-16T20:41:22.485990Z",
     "iopub.status.idle": "2025-09-16T20:41:22.488305Z",
     "shell.execute_reply": "2025-09-16T20:41:22.487860Z"
    }
   },
   "outputs": [],
   "source": [
    "url = 'https://www.sfelections.org/results/20221108/data/20221201/sov.xlsx'"
   ]
  },
  {
   "cell_type": "code",
   "execution_count": 27,
   "metadata": {
    "execution": {
     "iopub.execute_input": "2025-09-16T20:41:22.489836Z",
     "iopub.status.busy": "2025-09-16T20:41:22.489671Z",
     "iopub.status.idle": "2025-09-16T20:41:22.607356Z",
     "shell.execute_reply": "2025-09-16T20:41:22.606870Z"
    }
   },
   "outputs": [],
   "source": [
    "response = requests.get(url)"
   ]
  },
  {
   "cell_type": "code",
   "execution_count": 28,
   "metadata": {
    "execution": {
     "iopub.execute_input": "2025-09-16T20:41:22.609536Z",
     "iopub.status.busy": "2025-09-16T20:41:22.609361Z",
     "iopub.status.idle": "2025-09-16T20:41:30.213045Z",
     "shell.execute_reply": "2025-09-16T20:41:30.212369Z"
    }
   },
   "outputs": [],
   "source": [
    "dfd4 = pd.read_excel(BytesIO(response.content), sheet_name='Sheet43', header=3, skipfooter=8)"
   ]
  },
  {
   "cell_type": "code",
   "execution_count": 29,
   "metadata": {
    "execution": {
     "iopub.execute_input": "2025-09-16T20:41:30.215074Z",
     "iopub.status.busy": "2025-09-16T20:41:30.214896Z",
     "iopub.status.idle": "2025-09-16T20:41:30.225776Z",
     "shell.execute_reply": "2025-09-16T20:41:30.225186Z"
    }
   },
   "outputs": [
    {
     "data": {
      "text/html": [
       "<div>\n",
       "<style scoped>\n",
       "    .dataframe tbody tr th:only-of-type {\n",
       "        vertical-align: middle;\n",
       "    }\n",
       "\n",
       "    .dataframe tbody tr th {\n",
       "        vertical-align: top;\n",
       "    }\n",
       "\n",
       "    .dataframe thead th {\n",
       "        text-align: right;\n",
       "    }\n",
       "</style>\n",
       "<table border=\"1\" class=\"dataframe\">\n",
       "  <thead>\n",
       "    <tr style=\"text-align: right;\">\n",
       "      <th></th>\n",
       "      <th>Precinct</th>\n",
       "      <th>Registered \\nVoters</th>\n",
       "      <th>Undervotes</th>\n",
       "      <th>Unnamed: 3</th>\n",
       "      <th>Overvotes</th>\n",
       "      <th>Precinct.1</th>\n",
       "      <th>JOEL ENGARDIO\\n</th>\n",
       "      <th>Unnamed: 7</th>\n",
       "      <th>GORDON MAR\\n</th>\n",
       "      <th>Unnamed: 9</th>\n",
       "      <th>Write-in\\n</th>\n",
       "      <th>Unnamed: 11</th>\n",
       "      <th>Unnamed: 12</th>\n",
       "      <th>Total Votes</th>\n",
       "    </tr>\n",
       "  </thead>\n",
       "  <tbody>\n",
       "    <tr>\n",
       "      <th>0</th>\n",
       "      <td>Countywide</td>\n",
       "      <td>NaN</td>\n",
       "      <td>NaN</td>\n",
       "      <td>NaN</td>\n",
       "      <td>NaN</td>\n",
       "      <td>Countywide</td>\n",
       "      <td>NaN</td>\n",
       "      <td>NaN</td>\n",
       "      <td>NaN</td>\n",
       "      <td>NaN</td>\n",
       "      <td>NaN</td>\n",
       "      <td>NaN</td>\n",
       "      <td>NaN</td>\n",
       "      <td>NaN</td>\n",
       "    </tr>\n",
       "    <tr>\n",
       "      <th>1</th>\n",
       "      <td>Electionwide</td>\n",
       "      <td>NaN</td>\n",
       "      <td>NaN</td>\n",
       "      <td>NaN</td>\n",
       "      <td>NaN</td>\n",
       "      <td>Electionwide</td>\n",
       "      <td>NaN</td>\n",
       "      <td>NaN</td>\n",
       "      <td>NaN</td>\n",
       "      <td>NaN</td>\n",
       "      <td>NaN</td>\n",
       "      <td>NaN</td>\n",
       "      <td>NaN</td>\n",
       "      <td>NaN</td>\n",
       "    </tr>\n",
       "    <tr>\n",
       "      <th>2</th>\n",
       "      <td>PCT 9401</td>\n",
       "      <td>NaN</td>\n",
       "      <td>NaN</td>\n",
       "      <td>NaN</td>\n",
       "      <td>NaN</td>\n",
       "      <td>PCT 9401</td>\n",
       "      <td>NaN</td>\n",
       "      <td>NaN</td>\n",
       "      <td>NaN</td>\n",
       "      <td>NaN</td>\n",
       "      <td>NaN</td>\n",
       "      <td>NaN</td>\n",
       "      <td>NaN</td>\n",
       "      <td>NaN</td>\n",
       "    </tr>\n",
       "    <tr>\n",
       "      <th>3</th>\n",
       "      <td>Election Day</td>\n",
       "      <td>1215.0</td>\n",
       "      <td>9.0</td>\n",
       "      <td>NaN</td>\n",
       "      <td>0.0</td>\n",
       "      <td>Election Day</td>\n",
       "      <td>44.0</td>\n",
       "      <td>41.90%</td>\n",
       "      <td>61.0</td>\n",
       "      <td>58.10%</td>\n",
       "      <td>0.0</td>\n",
       "      <td>NaN</td>\n",
       "      <td>0.00%</td>\n",
       "      <td>105.0</td>\n",
       "    </tr>\n",
       "    <tr>\n",
       "      <th>4</th>\n",
       "      <td>Vote by Mail</td>\n",
       "      <td>1215.0</td>\n",
       "      <td>56.0</td>\n",
       "      <td>NaN</td>\n",
       "      <td>0.0</td>\n",
       "      <td>Vote by Mail</td>\n",
       "      <td>223.0</td>\n",
       "      <td>38.65%</td>\n",
       "      <td>354.0</td>\n",
       "      <td>61.35%</td>\n",
       "      <td>0.0</td>\n",
       "      <td>NaN</td>\n",
       "      <td>0.00%</td>\n",
       "      <td>577.0</td>\n",
       "    </tr>\n",
       "  </tbody>\n",
       "</table>\n",
       "</div>"
      ],
      "text/plain": [
       "       Precinct  Registered \\nVoters  Undervotes  Unnamed: 3  Overvotes  \\\n",
       "0    Countywide                  NaN         NaN         NaN        NaN   \n",
       "1  Electionwide                  NaN         NaN         NaN        NaN   \n",
       "2      PCT 9401                  NaN         NaN         NaN        NaN   \n",
       "3  Election Day               1215.0         9.0         NaN        0.0   \n",
       "4  Vote by Mail               1215.0        56.0         NaN        0.0   \n",
       "\n",
       "     Precinct.1  JOEL ENGARDIO\\n  Unnamed: 7  GORDON MAR\\n  Unnamed: 9  \\\n",
       "0    Countywide               NaN        NaN            NaN        NaN   \n",
       "1  Electionwide               NaN        NaN            NaN        NaN   \n",
       "2      PCT 9401               NaN        NaN            NaN        NaN   \n",
       "3  Election Day              44.0     41.90%           61.0     58.10%   \n",
       "4  Vote by Mail             223.0     38.65%          354.0     61.35%   \n",
       "\n",
       "   Write-in\\n   Unnamed: 11 Unnamed: 12  Total Votes  \n",
       "0          NaN          NaN         NaN          NaN  \n",
       "1          NaN          NaN         NaN          NaN  \n",
       "2          NaN          NaN         NaN          NaN  \n",
       "3          0.0          NaN       0.00%        105.0  \n",
       "4          0.0          NaN       0.00%        577.0  "
      ]
     },
     "execution_count": 29,
     "metadata": {},
     "output_type": "execute_result"
    }
   ],
   "source": [
    "dfd4.head()"
   ]
  },
  {
   "cell_type": "code",
   "execution_count": 30,
   "metadata": {
    "execution": {
     "iopub.execute_input": "2025-09-16T20:41:30.227390Z",
     "iopub.status.busy": "2025-09-16T20:41:30.227236Z",
     "iopub.status.idle": "2025-09-16T20:41:30.288697Z",
     "shell.execute_reply": "2025-09-16T20:41:30.288211Z"
    }
   },
   "outputs": [
    {
     "ename": "KeyError",
     "evalue": "\"['joel_engardio', 'gordon_mar'] not in index\"",
     "output_type": "error",
     "traceback": [
      "\u001b[31m---------------------------------------------------------------------------\u001b[39m",
      "\u001b[31mKeyError\u001b[39m                                  Traceback (most recent call last)",
      "\u001b[36mCell\u001b[39m\u001b[36m \u001b[39m\u001b[32mIn[30]\u001b[39m\u001b[32m, line 10\u001b[39m\n\u001b[32m      6\u001b[39m dfd4.columns = dfd4.columns.str.replace(\u001b[33m'\u001b[39m\u001b[33m_$\u001b[39m\u001b[33m'\u001b[39m, \u001b[33m'\u001b[39m\u001b[33m'\u001b[39m)\n\u001b[32m      8\u001b[39m dfd4[\u001b[33m'\u001b[39m\u001b[33mprecinct\u001b[39m\u001b[33m'\u001b[39m] = dfd4[\u001b[33m'\u001b[39m\u001b[33mprecinct\u001b[39m\u001b[33m'\u001b[39m].shift(\u001b[32m3\u001b[39m)\n\u001b[32m---> \u001b[39m\u001b[32m10\u001b[39m dfd4 = \u001b[43mdfd4\u001b[49m\u001b[43m[\u001b[49m\u001b[43m[\u001b[49m\u001b[33;43m'\u001b[39;49m\u001b[33;43mprecinct\u001b[39;49m\u001b[33;43m'\u001b[39;49m\u001b[43m,\u001b[49m\u001b[43m \u001b[49m\u001b[33;43m'\u001b[39;49m\u001b[33;43mregistered_voters\u001b[39;49m\u001b[33;43m'\u001b[39;49m\u001b[43m,\u001b[49m\u001b[43m \u001b[49m\u001b[33;43m'\u001b[39;49m\u001b[33;43mjoel_engardio\u001b[39;49m\u001b[33;43m'\u001b[39;49m\u001b[43m,\u001b[49m\u001b[43m \u001b[49m\u001b[33;43m'\u001b[39;49m\u001b[33;43mgordon_mar\u001b[39;49m\u001b[33;43m'\u001b[39;49m\u001b[43m,\u001b[49m\u001b[33;43m'\u001b[39;49m\u001b[33;43mtotal_votes\u001b[39;49m\u001b[33;43m'\u001b[39;49m\u001b[43m]\u001b[49m\u001b[43m]\u001b[49m\n\u001b[32m     12\u001b[39m \u001b[38;5;66;03m#drop unnecessary ones\u001b[39;00m\n\u001b[32m     13\u001b[39m dfd4 = dfd4.dropna()\n",
      "\u001b[36mFile \u001b[39m\u001b[32m/opt/hostedtoolcache/Python/3.11.13/x64/lib/python3.11/site-packages/pandas/core/frame.py:4113\u001b[39m, in \u001b[36mDataFrame.__getitem__\u001b[39m\u001b[34m(self, key)\u001b[39m\n\u001b[32m   4111\u001b[39m     \u001b[38;5;28;01mif\u001b[39;00m is_iterator(key):\n\u001b[32m   4112\u001b[39m         key = \u001b[38;5;28mlist\u001b[39m(key)\n\u001b[32m-> \u001b[39m\u001b[32m4113\u001b[39m     indexer = \u001b[38;5;28;43mself\u001b[39;49m\u001b[43m.\u001b[49m\u001b[43mcolumns\u001b[49m\u001b[43m.\u001b[49m\u001b[43m_get_indexer_strict\u001b[49m\u001b[43m(\u001b[49m\u001b[43mkey\u001b[49m\u001b[43m,\u001b[49m\u001b[43m \u001b[49m\u001b[33;43m\"\u001b[39;49m\u001b[33;43mcolumns\u001b[39;49m\u001b[33;43m\"\u001b[39;49m\u001b[43m)\u001b[49m[\u001b[32m1\u001b[39m]\n\u001b[32m   4115\u001b[39m \u001b[38;5;66;03m# take() does not accept boolean indexers\u001b[39;00m\n\u001b[32m   4116\u001b[39m \u001b[38;5;28;01mif\u001b[39;00m \u001b[38;5;28mgetattr\u001b[39m(indexer, \u001b[33m\"\u001b[39m\u001b[33mdtype\u001b[39m\u001b[33m\"\u001b[39m, \u001b[38;5;28;01mNone\u001b[39;00m) == \u001b[38;5;28mbool\u001b[39m:\n",
      "\u001b[36mFile \u001b[39m\u001b[32m/opt/hostedtoolcache/Python/3.11.13/x64/lib/python3.11/site-packages/pandas/core/indexes/base.py:6212\u001b[39m, in \u001b[36mIndex._get_indexer_strict\u001b[39m\u001b[34m(self, key, axis_name)\u001b[39m\n\u001b[32m   6209\u001b[39m \u001b[38;5;28;01melse\u001b[39;00m:\n\u001b[32m   6210\u001b[39m     keyarr, indexer, new_indexer = \u001b[38;5;28mself\u001b[39m._reindex_non_unique(keyarr)\n\u001b[32m-> \u001b[39m\u001b[32m6212\u001b[39m \u001b[38;5;28;43mself\u001b[39;49m\u001b[43m.\u001b[49m\u001b[43m_raise_if_missing\u001b[49m\u001b[43m(\u001b[49m\u001b[43mkeyarr\u001b[49m\u001b[43m,\u001b[49m\u001b[43m \u001b[49m\u001b[43mindexer\u001b[49m\u001b[43m,\u001b[49m\u001b[43m \u001b[49m\u001b[43maxis_name\u001b[49m\u001b[43m)\u001b[49m\n\u001b[32m   6214\u001b[39m keyarr = \u001b[38;5;28mself\u001b[39m.take(indexer)\n\u001b[32m   6215\u001b[39m \u001b[38;5;28;01mif\u001b[39;00m \u001b[38;5;28misinstance\u001b[39m(key, Index):\n\u001b[32m   6216\u001b[39m     \u001b[38;5;66;03m# GH 42790 - Preserve name from an Index\u001b[39;00m\n",
      "\u001b[36mFile \u001b[39m\u001b[32m/opt/hostedtoolcache/Python/3.11.13/x64/lib/python3.11/site-packages/pandas/core/indexes/base.py:6264\u001b[39m, in \u001b[36mIndex._raise_if_missing\u001b[39m\u001b[34m(self, key, indexer, axis_name)\u001b[39m\n\u001b[32m   6261\u001b[39m     \u001b[38;5;28;01mraise\u001b[39;00m \u001b[38;5;167;01mKeyError\u001b[39;00m(\u001b[33mf\u001b[39m\u001b[33m\"\u001b[39m\u001b[33mNone of [\u001b[39m\u001b[38;5;132;01m{\u001b[39;00mkey\u001b[38;5;132;01m}\u001b[39;00m\u001b[33m] are in the [\u001b[39m\u001b[38;5;132;01m{\u001b[39;00maxis_name\u001b[38;5;132;01m}\u001b[39;00m\u001b[33m]\u001b[39m\u001b[33m\"\u001b[39m)\n\u001b[32m   6263\u001b[39m not_found = \u001b[38;5;28mlist\u001b[39m(ensure_index(key)[missing_mask.nonzero()[\u001b[32m0\u001b[39m]].unique())\n\u001b[32m-> \u001b[39m\u001b[32m6264\u001b[39m \u001b[38;5;28;01mraise\u001b[39;00m \u001b[38;5;167;01mKeyError\u001b[39;00m(\u001b[33mf\u001b[39m\u001b[33m\"\u001b[39m\u001b[38;5;132;01m{\u001b[39;00mnot_found\u001b[38;5;132;01m}\u001b[39;00m\u001b[33m not in index\u001b[39m\u001b[33m\"\u001b[39m)\n",
      "\u001b[31mKeyError\u001b[39m: \"['joel_engardio', 'gordon_mar'] not in index\""
     ]
    }
   ],
   "source": [
    "### DISTRICT 4\n",
    "\n",
    "# make all columns lowercase and remove spaces\n",
    "dfd4.columns = dfd4.columns.str.replace('\\n', '')\n",
    "dfd4.columns = dfd4.columns.str.lower().str.replace(' ', '_')\n",
    "dfd4.columns = dfd4.columns.str.replace('_$', '')\n",
    "\n",
    "dfd4['precinct'] = dfd4['precinct'].shift(3)\n",
    "\n",
    "dfd4 = dfd4[['precinct', 'registered_voters', 'joel_engardio', 'gordon_mar','total_votes']]\n",
    "\n",
    "#drop unnecessary ones\n",
    "dfd4 = dfd4.dropna()\n",
    "dfd4 = dfd4[dfd4[\"precinct\"].str.contains('PCT')]\n",
    "\n",
    "#tidy up precinct column data\n",
    "dfd4['precinct'] = dfd4['precinct'].str.replace('PCT ','').str.replace(' MB','')"
   ]
  },
  {
   "cell_type": "code",
   "execution_count": 31,
   "metadata": {
    "execution": {
     "iopub.execute_input": "2025-09-16T20:41:30.290273Z",
     "iopub.status.busy": "2025-09-16T20:41:30.290122Z",
     "iopub.status.idle": "2025-09-16T20:41:30.294131Z",
     "shell.execute_reply": "2025-09-16T20:41:30.293684Z"
    }
   },
   "outputs": [],
   "source": [
    "groupings = {\n",
    "    \"9401\": [\"9401\", \"9402\"], \n",
    "    \"9403\": [\"9403\", \"9411\"],\n",
    "    \"9404\": [\"9404\", \"9405\", \"9412\"],\n",
    "    \"9406\": [\"9406\", \"9407\"],\n",
    "    \"9408\": [\"9408\", \"9409\", \"9416\"],\n",
    "    \"9413\": [\"9413\", \"9418\", \"9419\"], \n",
    "    \"9414\": [\"9414\", \"9415\"],\n",
    "    \"9417\": [\"9417\", \"9424\"],\n",
    "    \"9421\": [\"9421\", \"9422\"], \n",
    "    \"9423\": [\"9423\", \"9428\"], \n",
    "    \"9425\": [\"9425\", \"9426\", \"9431\"],\n",
    "    \"9427\": [\"9427\", \"9433\", \"9434\"],\n",
    "    \"9429\": [\"9429\", \"9436\", \"9438\"], \n",
    "    \"9432\": [\"9432\", \"9441\"], \n",
    "    \"9435\": [\"9435\", \"9443\"],\n",
    "    \"9437\": [\"9437\", \"9444\", \"9445\"],\n",
    "    \"9439\": [\"9439\",\"9446\"], \n",
    "    \"9442\": [\"9442\", \"9447\", \"9448\"],\n",
    "    \"9449\": [\"9449\"],\n",
    "    \"9451\": [\"9451\", \"9452\"]\n",
    "}"
   ]
  },
  {
   "cell_type": "code",
   "execution_count": 32,
   "metadata": {
    "execution": {
     "iopub.execute_input": "2025-09-16T20:41:30.295650Z",
     "iopub.status.busy": "2025-09-16T20:41:30.295489Z",
     "iopub.status.idle": "2025-09-16T20:41:30.308310Z",
     "shell.execute_reply": "2025-09-16T20:41:30.307869Z"
    }
   },
   "outputs": [
    {
     "data": {
      "text/html": [
       "<div>\n",
       "<style scoped>\n",
       "    .dataframe tbody tr th:only-of-type {\n",
       "        vertical-align: middle;\n",
       "    }\n",
       "\n",
       "    .dataframe tbody tr th {\n",
       "        vertical-align: top;\n",
       "    }\n",
       "\n",
       "    .dataframe thead th {\n",
       "        text-align: right;\n",
       "    }\n",
       "</style>\n",
       "<table border=\"1\" class=\"dataframe\">\n",
       "  <thead>\n",
       "    <tr style=\"text-align: right;\">\n",
       "      <th></th>\n",
       "      <th>precinct</th>\n",
       "      <th>registered_voters</th>\n",
       "      <th>undervotes</th>\n",
       "      <th>unnamed:_3</th>\n",
       "      <th>overvotes</th>\n",
       "      <th>precinct.1</th>\n",
       "      <th>joel_engardio_</th>\n",
       "      <th>unnamed:_7</th>\n",
       "      <th>gordon_mar_</th>\n",
       "      <th>unnamed:_9</th>\n",
       "      <th>write-in_</th>\n",
       "      <th>unnamed:_11</th>\n",
       "      <th>unnamed:_12</th>\n",
       "      <th>total_votes</th>\n",
       "    </tr>\n",
       "  </thead>\n",
       "  <tbody>\n",
       "    <tr>\n",
       "      <th>0</th>\n",
       "      <td>None</td>\n",
       "      <td>NaN</td>\n",
       "      <td>NaN</td>\n",
       "      <td>NaN</td>\n",
       "      <td>NaN</td>\n",
       "      <td>Countywide</td>\n",
       "      <td>NaN</td>\n",
       "      <td>NaN</td>\n",
       "      <td>NaN</td>\n",
       "      <td>NaN</td>\n",
       "      <td>NaN</td>\n",
       "      <td>NaN</td>\n",
       "      <td>NaN</td>\n",
       "      <td>NaN</td>\n",
       "    </tr>\n",
       "    <tr>\n",
       "      <th>1</th>\n",
       "      <td>None</td>\n",
       "      <td>NaN</td>\n",
       "      <td>NaN</td>\n",
       "      <td>NaN</td>\n",
       "      <td>NaN</td>\n",
       "      <td>Electionwide</td>\n",
       "      <td>NaN</td>\n",
       "      <td>NaN</td>\n",
       "      <td>NaN</td>\n",
       "      <td>NaN</td>\n",
       "      <td>NaN</td>\n",
       "      <td>NaN</td>\n",
       "      <td>NaN</td>\n",
       "      <td>NaN</td>\n",
       "    </tr>\n",
       "    <tr>\n",
       "      <th>2</th>\n",
       "      <td>None</td>\n",
       "      <td>NaN</td>\n",
       "      <td>NaN</td>\n",
       "      <td>NaN</td>\n",
       "      <td>NaN</td>\n",
       "      <td>PCT 9401</td>\n",
       "      <td>NaN</td>\n",
       "      <td>NaN</td>\n",
       "      <td>NaN</td>\n",
       "      <td>NaN</td>\n",
       "      <td>NaN</td>\n",
       "      <td>NaN</td>\n",
       "      <td>NaN</td>\n",
       "      <td>NaN</td>\n",
       "    </tr>\n",
       "    <tr>\n",
       "      <th>3</th>\n",
       "      <td>Countywide</td>\n",
       "      <td>1215.0</td>\n",
       "      <td>9.0</td>\n",
       "      <td>NaN</td>\n",
       "      <td>0.0</td>\n",
       "      <td>Election Day</td>\n",
       "      <td>44.0</td>\n",
       "      <td>41.90%</td>\n",
       "      <td>61.0</td>\n",
       "      <td>58.10%</td>\n",
       "      <td>0.0</td>\n",
       "      <td>NaN</td>\n",
       "      <td>0.00%</td>\n",
       "      <td>105.0</td>\n",
       "    </tr>\n",
       "    <tr>\n",
       "      <th>4</th>\n",
       "      <td>Electionwide</td>\n",
       "      <td>1215.0</td>\n",
       "      <td>56.0</td>\n",
       "      <td>NaN</td>\n",
       "      <td>0.0</td>\n",
       "      <td>Vote by Mail</td>\n",
       "      <td>223.0</td>\n",
       "      <td>38.65%</td>\n",
       "      <td>354.0</td>\n",
       "      <td>61.35%</td>\n",
       "      <td>0.0</td>\n",
       "      <td>NaN</td>\n",
       "      <td>0.00%</td>\n",
       "      <td>577.0</td>\n",
       "    </tr>\n",
       "    <tr>\n",
       "      <th>...</th>\n",
       "      <td>...</td>\n",
       "      <td>...</td>\n",
       "      <td>...</td>\n",
       "      <td>...</td>\n",
       "      <td>...</td>\n",
       "      <td>...</td>\n",
       "      <td>...</td>\n",
       "      <td>...</td>\n",
       "      <td>...</td>\n",
       "      <td>...</td>\n",
       "      <td>...</td>\n",
       "      <td>...</td>\n",
       "      <td>...</td>\n",
       "      <td>...</td>\n",
       "    </tr>\n",
       "    <tr>\n",
       "      <th>185</th>\n",
       "      <td>PCT 9451</td>\n",
       "      <td>1168.0</td>\n",
       "      <td>96.0</td>\n",
       "      <td>NaN</td>\n",
       "      <td>1.0</td>\n",
       "      <td>Total</td>\n",
       "      <td>489.0</td>\n",
       "      <td>69.66%</td>\n",
       "      <td>213.0</td>\n",
       "      <td>30.34%</td>\n",
       "      <td>0.0</td>\n",
       "      <td>NaN</td>\n",
       "      <td>0.00%</td>\n",
       "      <td>702.0</td>\n",
       "    </tr>\n",
       "    <tr>\n",
       "      <th>186</th>\n",
       "      <td>Election Day</td>\n",
       "      <td>NaN</td>\n",
       "      <td>NaN</td>\n",
       "      <td>NaN</td>\n",
       "      <td>NaN</td>\n",
       "      <td>PCT 9452</td>\n",
       "      <td>NaN</td>\n",
       "      <td>NaN</td>\n",
       "      <td>NaN</td>\n",
       "      <td>NaN</td>\n",
       "      <td>NaN</td>\n",
       "      <td>NaN</td>\n",
       "      <td>NaN</td>\n",
       "      <td>NaN</td>\n",
       "    </tr>\n",
       "    <tr>\n",
       "      <th>187</th>\n",
       "      <td>Vote by Mail</td>\n",
       "      <td>1052.0</td>\n",
       "      <td>8.0</td>\n",
       "      <td>NaN</td>\n",
       "      <td>0.0</td>\n",
       "      <td>Election Day</td>\n",
       "      <td>32.0</td>\n",
       "      <td>72.73%</td>\n",
       "      <td>12.0</td>\n",
       "      <td>27.27%</td>\n",
       "      <td>0.0</td>\n",
       "      <td>NaN</td>\n",
       "      <td>0.00%</td>\n",
       "      <td>44.0</td>\n",
       "    </tr>\n",
       "    <tr>\n",
       "      <th>188</th>\n",
       "      <td>Total</td>\n",
       "      <td>1052.0</td>\n",
       "      <td>58.0</td>\n",
       "      <td>NaN</td>\n",
       "      <td>0.0</td>\n",
       "      <td>Vote by Mail</td>\n",
       "      <td>361.0</td>\n",
       "      <td>66.61%</td>\n",
       "      <td>181.0</td>\n",
       "      <td>33.39%</td>\n",
       "      <td>0.0</td>\n",
       "      <td>NaN</td>\n",
       "      <td>0.00%</td>\n",
       "      <td>542.0</td>\n",
       "    </tr>\n",
       "    <tr>\n",
       "      <th>189</th>\n",
       "      <td>PCT 9452</td>\n",
       "      <td>1052.0</td>\n",
       "      <td>66.0</td>\n",
       "      <td>NaN</td>\n",
       "      <td>0.0</td>\n",
       "      <td>Total</td>\n",
       "      <td>393.0</td>\n",
       "      <td>67.06%</td>\n",
       "      <td>193.0</td>\n",
       "      <td>32.94%</td>\n",
       "      <td>0.0</td>\n",
       "      <td>NaN</td>\n",
       "      <td>0.00%</td>\n",
       "      <td>586.0</td>\n",
       "    </tr>\n",
       "  </tbody>\n",
       "</table>\n",
       "<p>190 rows × 14 columns</p>\n",
       "</div>"
      ],
      "text/plain": [
       "         precinct  registered_voters  undervotes  unnamed:_3  overvotes  \\\n",
       "0            None                NaN         NaN         NaN        NaN   \n",
       "1            None                NaN         NaN         NaN        NaN   \n",
       "2            None                NaN         NaN         NaN        NaN   \n",
       "3      Countywide             1215.0         9.0         NaN        0.0   \n",
       "4    Electionwide             1215.0        56.0         NaN        0.0   \n",
       "..            ...                ...         ...         ...        ...   \n",
       "185      PCT 9451             1168.0        96.0         NaN        1.0   \n",
       "186  Election Day                NaN         NaN         NaN        NaN   \n",
       "187  Vote by Mail             1052.0         8.0         NaN        0.0   \n",
       "188         Total             1052.0        58.0         NaN        0.0   \n",
       "189      PCT 9452             1052.0        66.0         NaN        0.0   \n",
       "\n",
       "       precinct.1  joel_engardio_ unnamed:_7  gordon_mar_ unnamed:_9  \\\n",
       "0      Countywide             NaN        NaN          NaN        NaN   \n",
       "1    Electionwide             NaN        NaN          NaN        NaN   \n",
       "2        PCT 9401             NaN        NaN          NaN        NaN   \n",
       "3    Election Day            44.0     41.90%         61.0     58.10%   \n",
       "4    Vote by Mail           223.0     38.65%        354.0     61.35%   \n",
       "..            ...             ...        ...          ...        ...   \n",
       "185         Total           489.0     69.66%        213.0     30.34%   \n",
       "186      PCT 9452             NaN        NaN          NaN        NaN   \n",
       "187  Election Day            32.0     72.73%         12.0     27.27%   \n",
       "188  Vote by Mail           361.0     66.61%        181.0     33.39%   \n",
       "189         Total           393.0     67.06%        193.0     32.94%   \n",
       "\n",
       "     write-in_  unnamed:_11 unnamed:_12  total_votes  \n",
       "0          NaN          NaN         NaN          NaN  \n",
       "1          NaN          NaN         NaN          NaN  \n",
       "2          NaN          NaN         NaN          NaN  \n",
       "3          0.0          NaN       0.00%        105.0  \n",
       "4          0.0          NaN       0.00%        577.0  \n",
       "..         ...          ...         ...          ...  \n",
       "185        0.0          NaN       0.00%        702.0  \n",
       "186        NaN          NaN         NaN          NaN  \n",
       "187        0.0          NaN       0.00%         44.0  \n",
       "188        0.0          NaN       0.00%        542.0  \n",
       "189        0.0          NaN       0.00%        586.0  \n",
       "\n",
       "[190 rows x 14 columns]"
      ]
     },
     "execution_count": 32,
     "metadata": {},
     "output_type": "execute_result"
    }
   ],
   "source": [
    "dfd4"
   ]
  },
  {
   "cell_type": "code",
   "execution_count": 33,
   "metadata": {
    "execution": {
     "iopub.execute_input": "2025-09-16T20:41:30.309783Z",
     "iopub.status.busy": "2025-09-16T20:41:30.309622Z",
     "iopub.status.idle": "2025-09-16T20:41:30.318404Z",
     "shell.execute_reply": "2025-09-16T20:41:30.317901Z"
    }
   },
   "outputs": [],
   "source": [
    "# If a precint matches a key in the groupings dictionary, add up the rows that match the values in the list and create a new row with the key as the precinct\n",
    "\n",
    "def group_precincts(df, groupings):\n",
    "    grouped_data = []\n",
    "\n",
    "    for key, values in groupings.items():\n",
    "        subset = df[df['precinct'].isin(values)]\n",
    "        if not subset.empty:\n",
    "            aggregated_row = {\n",
    "                'precinct': key,\n",
    "                'registered_voters': subset['registered_voters'].sum(),\n",
    "                'joel_engardio': subset['joel_engardio'].sum(),\n",
    "                'gordon_mar': subset['gordon_mar'].sum(),\n",
    "                'total_votes': subset['total_votes'].sum()\n",
    "            }\n",
    "            grouped_data.append(aggregated_row)\n",
    "\n",
    "    grouped_df = pd.DataFrame(grouped_data)\n",
    "    return grouped_df\n",
    "\n",
    "dfd4_grouped = group_precincts(dfd4, groupings)"
   ]
  },
  {
   "cell_type": "code",
   "execution_count": 34,
   "metadata": {
    "execution": {
     "iopub.execute_input": "2025-09-16T20:41:30.319917Z",
     "iopub.status.busy": "2025-09-16T20:41:30.319769Z",
     "iopub.status.idle": "2025-09-16T20:41:30.323884Z",
     "shell.execute_reply": "2025-09-16T20:41:30.323288Z"
    }
   },
   "outputs": [
    {
     "data": {
      "text/html": [
       "<div>\n",
       "<style scoped>\n",
       "    .dataframe tbody tr th:only-of-type {\n",
       "        vertical-align: middle;\n",
       "    }\n",
       "\n",
       "    .dataframe tbody tr th {\n",
       "        vertical-align: top;\n",
       "    }\n",
       "\n",
       "    .dataframe thead th {\n",
       "        text-align: right;\n",
       "    }\n",
       "</style>\n",
       "<table border=\"1\" class=\"dataframe\">\n",
       "  <thead>\n",
       "    <tr style=\"text-align: right;\">\n",
       "      <th></th>\n",
       "    </tr>\n",
       "  </thead>\n",
       "  <tbody>\n",
       "  </tbody>\n",
       "</table>\n",
       "</div>"
      ],
      "text/plain": [
       "Empty DataFrame\n",
       "Columns: []\n",
       "Index: []"
      ]
     },
     "execution_count": 34,
     "metadata": {},
     "output_type": "execute_result"
    }
   ],
   "source": [
    "dfd4_grouped"
   ]
  },
  {
   "cell_type": "code",
   "execution_count": 35,
   "metadata": {
    "execution": {
     "iopub.execute_input": "2025-09-16T20:41:30.325368Z",
     "iopub.status.busy": "2025-09-16T20:41:30.325219Z",
     "iopub.status.idle": "2025-09-16T20:41:30.409475Z",
     "shell.execute_reply": "2025-09-16T20:41:30.408840Z"
    }
   },
   "outputs": [
    {
     "ename": "KeyError",
     "evalue": "'joel_engardio'",
     "output_type": "error",
     "traceback": [
      "\u001b[31m---------------------------------------------------------------------------\u001b[39m",
      "\u001b[31mKeyError\u001b[39m                                  Traceback (most recent call last)",
      "\u001b[36mCell\u001b[39m\u001b[36m \u001b[39m\u001b[32mIn[35]\u001b[39m\u001b[32m, line 1\u001b[39m\n\u001b[32m----> \u001b[39m\u001b[32m1\u001b[39m dfd4_grouped[\u001b[33m\"\u001b[39m\u001b[33mjoel_engardio_p\u001b[39m\u001b[33m\"\u001b[39m] = \u001b[38;5;28mround\u001b[39m((\u001b[43mdfd4_grouped\u001b[49m\u001b[43m[\u001b[49m\u001b[33;43m\"\u001b[39;49m\u001b[33;43mjoel_engardio\u001b[39;49m\u001b[33;43m\"\u001b[39;49m\u001b[43m]\u001b[49m / dfd4_grouped[\u001b[33m\"\u001b[39m\u001b[33mtotal_votes\u001b[39m\u001b[33m\"\u001b[39m]) * \u001b[32m100\u001b[39m, \u001b[32m1\u001b[39m)\n\u001b[32m      2\u001b[39m dfd4_grouped[\u001b[33m\"\u001b[39m\u001b[33mgordon_mar_p\u001b[39m\u001b[33m\"\u001b[39m] = \u001b[38;5;28mround\u001b[39m((dfd4_grouped[\u001b[33m\"\u001b[39m\u001b[33mgordon_mar\u001b[39m\u001b[33m\"\u001b[39m] / dfd4_grouped[\u001b[33m\"\u001b[39m\u001b[33mtotal_votes\u001b[39m\u001b[33m\"\u001b[39m]) * \u001b[32m100\u001b[39m, \u001b[32m1\u001b[39m)\n",
      "\u001b[36mFile \u001b[39m\u001b[32m/opt/hostedtoolcache/Python/3.11.13/x64/lib/python3.11/site-packages/pandas/core/frame.py:4107\u001b[39m, in \u001b[36mDataFrame.__getitem__\u001b[39m\u001b[34m(self, key)\u001b[39m\n\u001b[32m   4105\u001b[39m \u001b[38;5;28;01mif\u001b[39;00m \u001b[38;5;28mself\u001b[39m.columns.nlevels > \u001b[32m1\u001b[39m:\n\u001b[32m   4106\u001b[39m     \u001b[38;5;28;01mreturn\u001b[39;00m \u001b[38;5;28mself\u001b[39m._getitem_multilevel(key)\n\u001b[32m-> \u001b[39m\u001b[32m4107\u001b[39m indexer = \u001b[38;5;28;43mself\u001b[39;49m\u001b[43m.\u001b[49m\u001b[43mcolumns\u001b[49m\u001b[43m.\u001b[49m\u001b[43mget_loc\u001b[49m\u001b[43m(\u001b[49m\u001b[43mkey\u001b[49m\u001b[43m)\u001b[49m\n\u001b[32m   4108\u001b[39m \u001b[38;5;28;01mif\u001b[39;00m is_integer(indexer):\n\u001b[32m   4109\u001b[39m     indexer = [indexer]\n",
      "\u001b[36mFile \u001b[39m\u001b[32m/opt/hostedtoolcache/Python/3.11.13/x64/lib/python3.11/site-packages/pandas/core/indexes/range.py:417\u001b[39m, in \u001b[36mRangeIndex.get_loc\u001b[39m\u001b[34m(self, key)\u001b[39m\n\u001b[32m    415\u001b[39m         \u001b[38;5;28;01mraise\u001b[39;00m \u001b[38;5;167;01mKeyError\u001b[39;00m(key) \u001b[38;5;28;01mfrom\u001b[39;00m\u001b[38;5;250m \u001b[39m\u001b[34;01merr\u001b[39;00m\n\u001b[32m    416\u001b[39m \u001b[38;5;28;01mif\u001b[39;00m \u001b[38;5;28misinstance\u001b[39m(key, Hashable):\n\u001b[32m--> \u001b[39m\u001b[32m417\u001b[39m     \u001b[38;5;28;01mraise\u001b[39;00m \u001b[38;5;167;01mKeyError\u001b[39;00m(key)\n\u001b[32m    418\u001b[39m \u001b[38;5;28mself\u001b[39m._check_indexing_error(key)\n\u001b[32m    419\u001b[39m \u001b[38;5;28;01mraise\u001b[39;00m \u001b[38;5;167;01mKeyError\u001b[39;00m(key)\n",
      "\u001b[31mKeyError\u001b[39m: 'joel_engardio'"
     ]
    }
   ],
   "source": [
    "dfd4_grouped[\"joel_engardio_p\"] = round((dfd4_grouped[\"joel_engardio\"] / dfd4_grouped[\"total_votes\"]) * 100, 1)\n",
    "dfd4_grouped[\"gordon_mar_p\"] = round((dfd4_grouped[\"gordon_mar\"] / dfd4_grouped[\"total_votes\"]) * 100, 1)"
   ]
  },
  {
   "cell_type": "code",
   "execution_count": 36,
   "metadata": {
    "execution": {
     "iopub.execute_input": "2025-09-16T20:41:30.411215Z",
     "iopub.status.busy": "2025-09-16T20:41:30.411048Z",
     "iopub.status.idle": "2025-09-16T20:41:30.415383Z",
     "shell.execute_reply": "2025-09-16T20:41:30.414821Z"
    }
   },
   "outputs": [
    {
     "data": {
      "text/html": [
       "<div>\n",
       "<style scoped>\n",
       "    .dataframe tbody tr th:only-of-type {\n",
       "        vertical-align: middle;\n",
       "    }\n",
       "\n",
       "    .dataframe tbody tr th {\n",
       "        vertical-align: top;\n",
       "    }\n",
       "\n",
       "    .dataframe thead th {\n",
       "        text-align: right;\n",
       "    }\n",
       "</style>\n",
       "<table border=\"1\" class=\"dataframe\">\n",
       "  <thead>\n",
       "    <tr style=\"text-align: right;\">\n",
       "      <th></th>\n",
       "    </tr>\n",
       "  </thead>\n",
       "  <tbody>\n",
       "  </tbody>\n",
       "</table>\n",
       "</div>"
      ],
      "text/plain": [
       "Empty DataFrame\n",
       "Columns: []\n",
       "Index: []"
      ]
     },
     "execution_count": 36,
     "metadata": {},
     "output_type": "execute_result"
    }
   ],
   "source": [
    "dfd4_grouped"
   ]
  },
  {
   "cell_type": "code",
   "execution_count": 37,
   "metadata": {
    "execution": {
     "iopub.execute_input": "2025-09-16T20:41:30.416913Z",
     "iopub.status.busy": "2025-09-16T20:41:30.416753Z",
     "iopub.status.idle": "2025-09-16T20:41:30.474402Z",
     "shell.execute_reply": "2025-09-16T20:41:30.473797Z"
    }
   },
   "outputs": [
    {
     "ename": "KeyError",
     "evalue": "\"None of [Index(['joel_engardio_p', 'gordon_mar_p'], dtype='object')] are in the [columns]\"",
     "output_type": "error",
     "traceback": [
      "\u001b[31m---------------------------------------------------------------------------\u001b[39m",
      "\u001b[31mKeyError\u001b[39m                                  Traceback (most recent call last)",
      "\u001b[36mCell\u001b[39m\u001b[36m \u001b[39m\u001b[32mIn[37]\u001b[39m\u001b[32m, line 1\u001b[39m\n\u001b[32m----> \u001b[39m\u001b[32m1\u001b[39m dfd4_grouped[\u001b[33m'\u001b[39m\u001b[33mwinner\u001b[39m\u001b[33m'\u001b[39m] = \u001b[43mdfd4_grouped\u001b[49m\u001b[43m[\u001b[49m\u001b[43m[\u001b[49m\u001b[33;43m'\u001b[39;49m\u001b[33;43mjoel_engardio_p\u001b[39;49m\u001b[33;43m'\u001b[39;49m\u001b[43m,\u001b[49m\u001b[43m \u001b[49m\u001b[33;43m'\u001b[39;49m\u001b[33;43mgordon_mar_p\u001b[39;49m\u001b[33;43m'\u001b[39;49m\u001b[43m]\u001b[49m\u001b[43m]\u001b[49m.idxmax(axis=\u001b[32m1\u001b[39m).str.replace(\u001b[33m'\u001b[39m\u001b[33m_p\u001b[39m\u001b[33m'\u001b[39m, \u001b[33m'\u001b[39m\u001b[33m'\u001b[39m)\n",
      "\u001b[36mFile \u001b[39m\u001b[32m/opt/hostedtoolcache/Python/3.11.13/x64/lib/python3.11/site-packages/pandas/core/frame.py:4113\u001b[39m, in \u001b[36mDataFrame.__getitem__\u001b[39m\u001b[34m(self, key)\u001b[39m\n\u001b[32m   4111\u001b[39m     \u001b[38;5;28;01mif\u001b[39;00m is_iterator(key):\n\u001b[32m   4112\u001b[39m         key = \u001b[38;5;28mlist\u001b[39m(key)\n\u001b[32m-> \u001b[39m\u001b[32m4113\u001b[39m     indexer = \u001b[38;5;28;43mself\u001b[39;49m\u001b[43m.\u001b[49m\u001b[43mcolumns\u001b[49m\u001b[43m.\u001b[49m\u001b[43m_get_indexer_strict\u001b[49m\u001b[43m(\u001b[49m\u001b[43mkey\u001b[49m\u001b[43m,\u001b[49m\u001b[43m \u001b[49m\u001b[33;43m\"\u001b[39;49m\u001b[33;43mcolumns\u001b[39;49m\u001b[33;43m\"\u001b[39;49m\u001b[43m)\u001b[49m[\u001b[32m1\u001b[39m]\n\u001b[32m   4115\u001b[39m \u001b[38;5;66;03m# take() does not accept boolean indexers\u001b[39;00m\n\u001b[32m   4116\u001b[39m \u001b[38;5;28;01mif\u001b[39;00m \u001b[38;5;28mgetattr\u001b[39m(indexer, \u001b[33m\"\u001b[39m\u001b[33mdtype\u001b[39m\u001b[33m\"\u001b[39m, \u001b[38;5;28;01mNone\u001b[39;00m) == \u001b[38;5;28mbool\u001b[39m:\n",
      "\u001b[36mFile \u001b[39m\u001b[32m/opt/hostedtoolcache/Python/3.11.13/x64/lib/python3.11/site-packages/pandas/core/indexes/base.py:6212\u001b[39m, in \u001b[36mIndex._get_indexer_strict\u001b[39m\u001b[34m(self, key, axis_name)\u001b[39m\n\u001b[32m   6209\u001b[39m \u001b[38;5;28;01melse\u001b[39;00m:\n\u001b[32m   6210\u001b[39m     keyarr, indexer, new_indexer = \u001b[38;5;28mself\u001b[39m._reindex_non_unique(keyarr)\n\u001b[32m-> \u001b[39m\u001b[32m6212\u001b[39m \u001b[38;5;28;43mself\u001b[39;49m\u001b[43m.\u001b[49m\u001b[43m_raise_if_missing\u001b[49m\u001b[43m(\u001b[49m\u001b[43mkeyarr\u001b[49m\u001b[43m,\u001b[49m\u001b[43m \u001b[49m\u001b[43mindexer\u001b[49m\u001b[43m,\u001b[49m\u001b[43m \u001b[49m\u001b[43maxis_name\u001b[49m\u001b[43m)\u001b[49m\n\u001b[32m   6214\u001b[39m keyarr = \u001b[38;5;28mself\u001b[39m.take(indexer)\n\u001b[32m   6215\u001b[39m \u001b[38;5;28;01mif\u001b[39;00m \u001b[38;5;28misinstance\u001b[39m(key, Index):\n\u001b[32m   6216\u001b[39m     \u001b[38;5;66;03m# GH 42790 - Preserve name from an Index\u001b[39;00m\n",
      "\u001b[36mFile \u001b[39m\u001b[32m/opt/hostedtoolcache/Python/3.11.13/x64/lib/python3.11/site-packages/pandas/core/indexes/base.py:6261\u001b[39m, in \u001b[36mIndex._raise_if_missing\u001b[39m\u001b[34m(self, key, indexer, axis_name)\u001b[39m\n\u001b[32m   6259\u001b[39m \u001b[38;5;28;01mif\u001b[39;00m nmissing:\n\u001b[32m   6260\u001b[39m     \u001b[38;5;28;01mif\u001b[39;00m nmissing == \u001b[38;5;28mlen\u001b[39m(indexer):\n\u001b[32m-> \u001b[39m\u001b[32m6261\u001b[39m         \u001b[38;5;28;01mraise\u001b[39;00m \u001b[38;5;167;01mKeyError\u001b[39;00m(\u001b[33mf\u001b[39m\u001b[33m\"\u001b[39m\u001b[33mNone of [\u001b[39m\u001b[38;5;132;01m{\u001b[39;00mkey\u001b[38;5;132;01m}\u001b[39;00m\u001b[33m] are in the [\u001b[39m\u001b[38;5;132;01m{\u001b[39;00maxis_name\u001b[38;5;132;01m}\u001b[39;00m\u001b[33m]\u001b[39m\u001b[33m\"\u001b[39m)\n\u001b[32m   6263\u001b[39m     not_found = \u001b[38;5;28mlist\u001b[39m(ensure_index(key)[missing_mask.nonzero()[\u001b[32m0\u001b[39m]].unique())\n\u001b[32m   6264\u001b[39m     \u001b[38;5;28;01mraise\u001b[39;00m \u001b[38;5;167;01mKeyError\u001b[39;00m(\u001b[33mf\u001b[39m\u001b[33m\"\u001b[39m\u001b[38;5;132;01m{\u001b[39;00mnot_found\u001b[38;5;132;01m}\u001b[39;00m\u001b[33m not in index\u001b[39m\u001b[33m\"\u001b[39m)\n",
      "\u001b[31mKeyError\u001b[39m: \"None of [Index(['joel_engardio_p', 'gordon_mar_p'], dtype='object')] are in the [columns]\""
     ]
    }
   ],
   "source": [
    "dfd4_grouped['winner'] = dfd4_grouped[['joel_engardio_p', 'gordon_mar_p']].idxmax(axis=1).str.replace('_p', '')"
   ]
  },
  {
   "cell_type": "markdown",
   "metadata": {},
   "source": [
    "# Reading files for 2024"
   ]
  },
  {
   "cell_type": "code",
   "execution_count": 38,
   "metadata": {
    "execution": {
     "iopub.execute_input": "2025-09-16T20:41:30.476332Z",
     "iopub.status.busy": "2025-09-16T20:41:30.476116Z",
     "iopub.status.idle": "2025-09-16T20:41:30.479155Z",
     "shell.execute_reply": "2025-09-16T20:41:30.478570Z"
    }
   },
   "outputs": [],
   "source": [
    "url = 'https://www.sfelections.org/results/20241105/data/20241203/sov.xlsx'"
   ]
  },
  {
   "cell_type": "code",
   "execution_count": 39,
   "metadata": {
    "execution": {
     "iopub.execute_input": "2025-09-16T20:41:30.480813Z",
     "iopub.status.busy": "2025-09-16T20:41:30.480650Z",
     "iopub.status.idle": "2025-09-16T20:41:30.594305Z",
     "shell.execute_reply": "2025-09-16T20:41:30.593674Z"
    }
   },
   "outputs": [],
   "source": [
    "response = requests.get(url)"
   ]
  },
  {
   "cell_type": "code",
   "execution_count": 40,
   "metadata": {
    "execution": {
     "iopub.execute_input": "2025-09-16T20:41:30.596628Z",
     "iopub.status.busy": "2025-09-16T20:41:30.596452Z",
     "iopub.status.idle": "2025-09-16T20:41:37.183049Z",
     "shell.execute_reply": "2025-09-16T20:41:37.182508Z"
    }
   },
   "outputs": [],
   "source": [
    "dfK = pd.read_excel(BytesIO(response.content), sheet_name='Sheet50', header=3, skipfooter=6)"
   ]
  },
  {
   "cell_type": "code",
   "execution_count": 41,
   "metadata": {
    "execution": {
     "iopub.execute_input": "2025-09-16T20:41:37.184931Z",
     "iopub.status.busy": "2025-09-16T20:41:37.184773Z",
     "iopub.status.idle": "2025-09-16T20:41:37.256760Z",
     "shell.execute_reply": "2025-09-16T20:41:37.256258Z"
    }
   },
   "outputs": [
    {
     "ename": "KeyError",
     "evalue": "\"None of [Index(['precinct', 'registered_voters', 'yes', 'no', 'total_votes'], dtype='object')] are in the [columns]\"",
     "output_type": "error",
     "traceback": [
      "\u001b[31m---------------------------------------------------------------------------\u001b[39m",
      "\u001b[31mKeyError\u001b[39m                                  Traceback (most recent call last)",
      "\u001b[36mCell\u001b[39m\u001b[36m \u001b[39m\u001b[32mIn[41]\u001b[39m\u001b[32m, line 1\u001b[39m\n\u001b[32m----> \u001b[39m\u001b[32m1\u001b[39m dfK = \u001b[43mprocess_proposition\u001b[49m\u001b[43m(\u001b[49m\u001b[43mdfK\u001b[49m\u001b[43m)\u001b[49m\n",
      "\u001b[36mCell\u001b[39m\u001b[36m \u001b[39m\u001b[32mIn[10]\u001b[39m\u001b[32m, line 19\u001b[39m, in \u001b[36mprocess_proposition\u001b[39m\u001b[34m(df)\u001b[39m\n\u001b[32m     16\u001b[39m df.columns = df.columns.str.replace(\u001b[33m'\u001b[39m\u001b[33mbonds_-_no\u001b[39m\u001b[33m'\u001b[39m, \u001b[33m'\u001b[39m\u001b[33mno\u001b[39m\u001b[33m'\u001b[39m, regex=\u001b[38;5;28;01mTrue\u001b[39;00m)\n\u001b[32m     18\u001b[39m \u001b[38;5;66;03m# Trim and rename columns to focus on necessary data\u001b[39;00m\n\u001b[32m---> \u001b[39m\u001b[32m19\u001b[39m df = \u001b[43mdf\u001b[49m\u001b[43m[\u001b[49m\u001b[43m[\u001b[49m\u001b[33;43m'\u001b[39;49m\u001b[33;43mprecinct\u001b[39;49m\u001b[33;43m'\u001b[39;49m\u001b[43m,\u001b[49m\u001b[43m \u001b[49m\u001b[33;43m'\u001b[39;49m\u001b[33;43mregistered_voters\u001b[39;49m\u001b[33;43m'\u001b[39;49m\u001b[43m,\u001b[49m\u001b[43m \u001b[49m\u001b[33;43m'\u001b[39;49m\u001b[33;43myes\u001b[39;49m\u001b[33;43m'\u001b[39;49m\u001b[43m,\u001b[49m\u001b[43m \u001b[49m\u001b[33;43m'\u001b[39;49m\u001b[33;43mno\u001b[39;49m\u001b[33;43m'\u001b[39;49m\u001b[43m,\u001b[49m\u001b[43m \u001b[49m\u001b[33;43m'\u001b[39;49m\u001b[33;43mtotal_votes\u001b[39;49m\u001b[33;43m'\u001b[39;49m\u001b[43m]\u001b[49m\u001b[43m]\u001b[49m\n\u001b[32m     20\u001b[39m df.columns = [\u001b[33m'\u001b[39m\u001b[33mprecinct\u001b[39m\u001b[33m'\u001b[39m, \u001b[33m'\u001b[39m\u001b[33mregistered_voters\u001b[39m\u001b[33m'\u001b[39m, \u001b[33m'\u001b[39m\u001b[33myes\u001b[39m\u001b[33m'\u001b[39m, \u001b[33m'\u001b[39m\u001b[33mno\u001b[39m\u001b[33m'\u001b[39m, \u001b[33m'\u001b[39m\u001b[33mvotes_cast\u001b[39m\u001b[33m'\u001b[39m]\n\u001b[32m     22\u001b[39m \u001b[38;5;66;03m# shift the precinct column up by 3 rows\u001b[39;00m\n",
      "\u001b[36mFile \u001b[39m\u001b[32m/opt/hostedtoolcache/Python/3.11.13/x64/lib/python3.11/site-packages/pandas/core/frame.py:4113\u001b[39m, in \u001b[36mDataFrame.__getitem__\u001b[39m\u001b[34m(self, key)\u001b[39m\n\u001b[32m   4111\u001b[39m     \u001b[38;5;28;01mif\u001b[39;00m is_iterator(key):\n\u001b[32m   4112\u001b[39m         key = \u001b[38;5;28mlist\u001b[39m(key)\n\u001b[32m-> \u001b[39m\u001b[32m4113\u001b[39m     indexer = \u001b[38;5;28;43mself\u001b[39;49m\u001b[43m.\u001b[49m\u001b[43mcolumns\u001b[49m\u001b[43m.\u001b[49m\u001b[43m_get_indexer_strict\u001b[49m\u001b[43m(\u001b[49m\u001b[43mkey\u001b[49m\u001b[43m,\u001b[49m\u001b[43m \u001b[49m\u001b[33;43m\"\u001b[39;49m\u001b[33;43mcolumns\u001b[39;49m\u001b[33;43m\"\u001b[39;49m\u001b[43m)\u001b[49m[\u001b[32m1\u001b[39m]\n\u001b[32m   4115\u001b[39m \u001b[38;5;66;03m# take() does not accept boolean indexers\u001b[39;00m\n\u001b[32m   4116\u001b[39m \u001b[38;5;28;01mif\u001b[39;00m \u001b[38;5;28mgetattr\u001b[39m(indexer, \u001b[33m\"\u001b[39m\u001b[33mdtype\u001b[39m\u001b[33m\"\u001b[39m, \u001b[38;5;28;01mNone\u001b[39;00m) == \u001b[38;5;28mbool\u001b[39m:\n",
      "\u001b[36mFile \u001b[39m\u001b[32m/opt/hostedtoolcache/Python/3.11.13/x64/lib/python3.11/site-packages/pandas/core/indexes/base.py:6212\u001b[39m, in \u001b[36mIndex._get_indexer_strict\u001b[39m\u001b[34m(self, key, axis_name)\u001b[39m\n\u001b[32m   6209\u001b[39m \u001b[38;5;28;01melse\u001b[39;00m:\n\u001b[32m   6210\u001b[39m     keyarr, indexer, new_indexer = \u001b[38;5;28mself\u001b[39m._reindex_non_unique(keyarr)\n\u001b[32m-> \u001b[39m\u001b[32m6212\u001b[39m \u001b[38;5;28;43mself\u001b[39;49m\u001b[43m.\u001b[49m\u001b[43m_raise_if_missing\u001b[49m\u001b[43m(\u001b[49m\u001b[43mkeyarr\u001b[49m\u001b[43m,\u001b[49m\u001b[43m \u001b[49m\u001b[43mindexer\u001b[49m\u001b[43m,\u001b[49m\u001b[43m \u001b[49m\u001b[43maxis_name\u001b[49m\u001b[43m)\u001b[49m\n\u001b[32m   6214\u001b[39m keyarr = \u001b[38;5;28mself\u001b[39m.take(indexer)\n\u001b[32m   6215\u001b[39m \u001b[38;5;28;01mif\u001b[39;00m \u001b[38;5;28misinstance\u001b[39m(key, Index):\n\u001b[32m   6216\u001b[39m     \u001b[38;5;66;03m# GH 42790 - Preserve name from an Index\u001b[39;00m\n",
      "\u001b[36mFile \u001b[39m\u001b[32m/opt/hostedtoolcache/Python/3.11.13/x64/lib/python3.11/site-packages/pandas/core/indexes/base.py:6261\u001b[39m, in \u001b[36mIndex._raise_if_missing\u001b[39m\u001b[34m(self, key, indexer, axis_name)\u001b[39m\n\u001b[32m   6259\u001b[39m \u001b[38;5;28;01mif\u001b[39;00m nmissing:\n\u001b[32m   6260\u001b[39m     \u001b[38;5;28;01mif\u001b[39;00m nmissing == \u001b[38;5;28mlen\u001b[39m(indexer):\n\u001b[32m-> \u001b[39m\u001b[32m6261\u001b[39m         \u001b[38;5;28;01mraise\u001b[39;00m \u001b[38;5;167;01mKeyError\u001b[39;00m(\u001b[33mf\u001b[39m\u001b[33m\"\u001b[39m\u001b[33mNone of [\u001b[39m\u001b[38;5;132;01m{\u001b[39;00mkey\u001b[38;5;132;01m}\u001b[39;00m\u001b[33m] are in the [\u001b[39m\u001b[38;5;132;01m{\u001b[39;00maxis_name\u001b[38;5;132;01m}\u001b[39;00m\u001b[33m]\u001b[39m\u001b[33m\"\u001b[39m)\n\u001b[32m   6263\u001b[39m     not_found = \u001b[38;5;28mlist\u001b[39m(ensure_index(key)[missing_mask.nonzero()[\u001b[32m0\u001b[39m]].unique())\n\u001b[32m   6264\u001b[39m     \u001b[38;5;28;01mraise\u001b[39;00m \u001b[38;5;167;01mKeyError\u001b[39;00m(\u001b[33mf\u001b[39m\u001b[33m\"\u001b[39m\u001b[38;5;132;01m{\u001b[39;00mnot_found\u001b[38;5;132;01m}\u001b[39;00m\u001b[33m not in index\u001b[39m\u001b[33m\"\u001b[39m)\n",
      "\u001b[31mKeyError\u001b[39m: \"None of [Index(['precinct', 'registered_voters', 'yes', 'no', 'total_votes'], dtype='object')] are in the [columns]\""
     ]
    }
   ],
   "source": [
    "dfK = process_proposition(dfK)"
   ]
  },
  {
   "cell_type": "code",
   "execution_count": 42,
   "metadata": {
    "execution": {
     "iopub.execute_input": "2025-09-16T20:41:37.258368Z",
     "iopub.status.busy": "2025-09-16T20:41:37.258211Z",
     "iopub.status.idle": "2025-09-16T20:41:37.270227Z",
     "shell.execute_reply": "2025-09-16T20:41:37.269655Z"
    }
   },
   "outputs": [
    {
     "data": {
      "text/html": [
       "<div>\n",
       "<style scoped>\n",
       "    .dataframe tbody tr th:only-of-type {\n",
       "        vertical-align: middle;\n",
       "    }\n",
       "\n",
       "    .dataframe tbody tr th {\n",
       "        vertical-align: top;\n",
       "    }\n",
       "\n",
       "    .dataframe thead th {\n",
       "        text-align: right;\n",
       "    }\n",
       "</style>\n",
       "<table border=\"1\" class=\"dataframe\">\n",
       "  <thead>\n",
       "    <tr style=\"text-align: right;\">\n",
       "      <th></th>\n",
       "      <th></th>\n",
       "      <th></th>\n",
       "      <th></th>\n",
       "      <th></th>\n",
       "      <th></th>\n",
       "      <th></th>\n",
       "      <th></th>\n",
       "      <th></th>\n",
       "      <th></th>\n",
       "      <th></th>\n",
       "      <th></th>\n",
       "      <th></th>\n",
       "    </tr>\n",
       "  </thead>\n",
       "  <tbody>\n",
       "    <tr>\n",
       "      <th>0</th>\n",
       "      <td>Countywide</td>\n",
       "      <td>NaN</td>\n",
       "      <td>NaN</td>\n",
       "      <td>NaN</td>\n",
       "      <td>NaN</td>\n",
       "      <td>Countywide</td>\n",
       "      <td>NaN</td>\n",
       "      <td>NaN</td>\n",
       "      <td>NaN</td>\n",
       "      <td>NaN</td>\n",
       "      <td>NaN</td>\n",
       "      <td>NaN</td>\n",
       "    </tr>\n",
       "    <tr>\n",
       "      <th>1</th>\n",
       "      <td>Electionwide</td>\n",
       "      <td>NaN</td>\n",
       "      <td>NaN</td>\n",
       "      <td>NaN</td>\n",
       "      <td>NaN</td>\n",
       "      <td>Electionwide</td>\n",
       "      <td>NaN</td>\n",
       "      <td>NaN</td>\n",
       "      <td>NaN</td>\n",
       "      <td>NaN</td>\n",
       "      <td>NaN</td>\n",
       "      <td>NaN</td>\n",
       "    </tr>\n",
       "    <tr>\n",
       "      <th>2</th>\n",
       "      <td>PCT 1101</td>\n",
       "      <td>NaN</td>\n",
       "      <td>NaN</td>\n",
       "      <td>NaN</td>\n",
       "      <td>NaN</td>\n",
       "      <td>PCT 1101</td>\n",
       "      <td>NaN</td>\n",
       "      <td>NaN</td>\n",
       "      <td>NaN</td>\n",
       "      <td>NaN</td>\n",
       "      <td>NaN</td>\n",
       "      <td>NaN</td>\n",
       "    </tr>\n",
       "    <tr>\n",
       "      <th>3</th>\n",
       "      <td>Election Day</td>\n",
       "      <td>881.0</td>\n",
       "      <td>20.0</td>\n",
       "      <td>NaN</td>\n",
       "      <td>0.0</td>\n",
       "      <td>Election Day</td>\n",
       "      <td>31.0</td>\n",
       "      <td>35.63%</td>\n",
       "      <td>56.0</td>\n",
       "      <td>64.37%</td>\n",
       "      <td>87.0</td>\n",
       "      <td>NaN</td>\n",
       "    </tr>\n",
       "    <tr>\n",
       "      <th>4</th>\n",
       "      <td>Vote by Mail</td>\n",
       "      <td>881.0</td>\n",
       "      <td>35.0</td>\n",
       "      <td>NaN</td>\n",
       "      <td>0.0</td>\n",
       "      <td>Vote by Mail</td>\n",
       "      <td>201.0</td>\n",
       "      <td>38.95%</td>\n",
       "      <td>315.0</td>\n",
       "      <td>61.05%</td>\n",
       "      <td>516.0</td>\n",
       "      <td>NaN</td>\n",
       "    </tr>\n",
       "    <tr>\n",
       "      <th>...</th>\n",
       "      <td>...</td>\n",
       "      <td>...</td>\n",
       "      <td>...</td>\n",
       "      <td>...</td>\n",
       "      <td>...</td>\n",
       "      <td>...</td>\n",
       "      <td>...</td>\n",
       "      <td>...</td>\n",
       "      <td>...</td>\n",
       "      <td>...</td>\n",
       "      <td>...</td>\n",
       "      <td>...</td>\n",
       "    </tr>\n",
       "    <tr>\n",
       "      <th>2055</th>\n",
       "      <td>Election Day</td>\n",
       "      <td>0.0</td>\n",
       "      <td>0.0</td>\n",
       "      <td>NaN</td>\n",
       "      <td>0.0</td>\n",
       "      <td>Election Day</td>\n",
       "      <td>0.0</td>\n",
       "      <td>NaN</td>\n",
       "      <td>0.0</td>\n",
       "      <td>NaN</td>\n",
       "      <td>0.0</td>\n",
       "      <td>NaN</td>\n",
       "    </tr>\n",
       "    <tr>\n",
       "      <th>2056</th>\n",
       "      <td>Vote by Mail</td>\n",
       "      <td>0.0</td>\n",
       "      <td>0.0</td>\n",
       "      <td>NaN</td>\n",
       "      <td>0.0</td>\n",
       "      <td>Vote by Mail</td>\n",
       "      <td>0.0</td>\n",
       "      <td>NaN</td>\n",
       "      <td>0.0</td>\n",
       "      <td>NaN</td>\n",
       "      <td>0.0</td>\n",
       "      <td>NaN</td>\n",
       "    </tr>\n",
       "    <tr>\n",
       "      <th>2057</th>\n",
       "      <td>Total</td>\n",
       "      <td>0.0</td>\n",
       "      <td>0.0</td>\n",
       "      <td>NaN</td>\n",
       "      <td>0.0</td>\n",
       "      <td>Total</td>\n",
       "      <td>0.0</td>\n",
       "      <td>NaN</td>\n",
       "      <td>0.0</td>\n",
       "      <td>NaN</td>\n",
       "      <td>0.0</td>\n",
       "      <td>NaN</td>\n",
       "    </tr>\n",
       "    <tr>\n",
       "      <th>2058</th>\n",
       "      <td>Electionwide - Total</td>\n",
       "      <td>522265.0</td>\n",
       "      <td>32912.0</td>\n",
       "      <td>NaN</td>\n",
       "      <td>114.0</td>\n",
       "      <td>Electionwide - Total</td>\n",
       "      <td>206042.0</td>\n",
       "      <td>54.73%</td>\n",
       "      <td>170447.0</td>\n",
       "      <td>45.27%</td>\n",
       "      <td>376489.0</td>\n",
       "      <td>NaN</td>\n",
       "    </tr>\n",
       "    <tr>\n",
       "      <th>2059</th>\n",
       "      <td>Cumulative</td>\n",
       "      <td>NaN</td>\n",
       "      <td>NaN</td>\n",
       "      <td>NaN</td>\n",
       "      <td>NaN</td>\n",
       "      <td>Cumulative</td>\n",
       "      <td>NaN</td>\n",
       "      <td>NaN</td>\n",
       "      <td>NaN</td>\n",
       "      <td>NaN</td>\n",
       "      <td>NaN</td>\n",
       "      <td>NaN</td>\n",
       "    </tr>\n",
       "  </tbody>\n",
       "</table>\n",
       "<p>2060 rows × 12 columns</p>\n",
       "</div>"
      ],
      "text/plain": [
       "                                                          \\\n",
       "0               Countywide       NaN      NaN NaN    NaN   \n",
       "1             Electionwide       NaN      NaN NaN    NaN   \n",
       "2                 PCT 1101       NaN      NaN NaN    NaN   \n",
       "3             Election Day     881.0     20.0 NaN    0.0   \n",
       "4             Vote by Mail     881.0     35.0 NaN    0.0   \n",
       "...                    ...       ...      ...  ..    ...   \n",
       "2055          Election Day       0.0      0.0 NaN    0.0   \n",
       "2056          Vote by Mail       0.0      0.0 NaN    0.0   \n",
       "2057                 Total       0.0      0.0 NaN    0.0   \n",
       "2058  Electionwide - Total  522265.0  32912.0 NaN  114.0   \n",
       "2059            Cumulative       NaN      NaN NaN    NaN   \n",
       "\n",
       "                                                                              \n",
       "0               Countywide       NaN     NaN       NaN     NaN       NaN NaN  \n",
       "1             Electionwide       NaN     NaN       NaN     NaN       NaN NaN  \n",
       "2                 PCT 1101       NaN     NaN       NaN     NaN       NaN NaN  \n",
       "3             Election Day      31.0  35.63%      56.0  64.37%      87.0 NaN  \n",
       "4             Vote by Mail     201.0  38.95%     315.0  61.05%     516.0 NaN  \n",
       "...                    ...       ...     ...       ...     ...       ...  ..  \n",
       "2055          Election Day       0.0     NaN       0.0     NaN       0.0 NaN  \n",
       "2056          Vote by Mail       0.0     NaN       0.0     NaN       0.0 NaN  \n",
       "2057                 Total       0.0     NaN       0.0     NaN       0.0 NaN  \n",
       "2058  Electionwide - Total  206042.0  54.73%  170447.0  45.27%  376489.0 NaN  \n",
       "2059            Cumulative       NaN     NaN       NaN     NaN       NaN NaN  \n",
       "\n",
       "[2060 rows x 12 columns]"
      ]
     },
     "execution_count": 42,
     "metadata": {},
     "output_type": "execute_result"
    }
   ],
   "source": [
    "dfK"
   ]
  },
  {
   "cell_type": "code",
   "execution_count": 43,
   "metadata": {
    "execution": {
     "iopub.execute_input": "2025-09-16T20:41:37.271752Z",
     "iopub.status.busy": "2025-09-16T20:41:37.271591Z",
     "iopub.status.idle": "2025-09-16T20:41:37.275478Z",
     "shell.execute_reply": "2025-09-16T20:41:37.274895Z"
    }
   },
   "outputs": [],
   "source": [
    "def group_precincts_k(df, groupings):\n",
    "    grouped_data = []\n",
    "\n",
    "    for key, values in groupings.items():\n",
    "        subset = df[df['precinct'].isin(values)]\n",
    "        if not subset.empty:\n",
    "            aggregated_row = {\n",
    "                'precinct': key,\n",
    "                'registered_voters': subset['registered_voters'].sum(),\n",
    "                'yes': subset['yes'].sum(),\n",
    "                'no': subset['no'].sum(),\n",
    "                'registered_voters': subset['registered_voters'].sum(),\n",
    "                'votes_cast': subset['votes_cast'].sum()\n",
    "            }\n",
    "            grouped_data.append(aggregated_row)\n",
    "\n",
    "    grouped_df = pd.DataFrame(grouped_data)\n",
    "    return grouped_df"
   ]
  },
  {
   "cell_type": "code",
   "execution_count": 44,
   "metadata": {
    "execution": {
     "iopub.execute_input": "2025-09-16T20:41:37.277020Z",
     "iopub.status.busy": "2025-09-16T20:41:37.276867Z",
     "iopub.status.idle": "2025-09-16T20:41:37.355765Z",
     "shell.execute_reply": "2025-09-16T20:41:37.355238Z"
    }
   },
   "outputs": [
    {
     "ename": "KeyError",
     "evalue": "'precinct'",
     "output_type": "error",
     "traceback": [
      "\u001b[31m---------------------------------------------------------------------------\u001b[39m",
      "\u001b[31mKeyError\u001b[39m                                  Traceback (most recent call last)",
      "\u001b[36mFile \u001b[39m\u001b[32m/opt/hostedtoolcache/Python/3.11.13/x64/lib/python3.11/site-packages/pandas/core/indexes/base.py:3812\u001b[39m, in \u001b[36mIndex.get_loc\u001b[39m\u001b[34m(self, key)\u001b[39m\n\u001b[32m   3811\u001b[39m \u001b[38;5;28;01mtry\u001b[39;00m:\n\u001b[32m-> \u001b[39m\u001b[32m3812\u001b[39m     \u001b[38;5;28;01mreturn\u001b[39;00m \u001b[38;5;28;43mself\u001b[39;49m\u001b[43m.\u001b[49m\u001b[43m_engine\u001b[49m\u001b[43m.\u001b[49m\u001b[43mget_loc\u001b[49m\u001b[43m(\u001b[49m\u001b[43mcasted_key\u001b[49m\u001b[43m)\u001b[49m\n\u001b[32m   3813\u001b[39m \u001b[38;5;28;01mexcept\u001b[39;00m \u001b[38;5;167;01mKeyError\u001b[39;00m \u001b[38;5;28;01mas\u001b[39;00m err:\n",
      "\u001b[36mFile \u001b[39m\u001b[32mpandas/_libs/index.pyx:167\u001b[39m, in \u001b[36mpandas._libs.index.IndexEngine.get_loc\u001b[39m\u001b[34m()\u001b[39m\n",
      "\u001b[36mFile \u001b[39m\u001b[32mpandas/_libs/index.pyx:191\u001b[39m, in \u001b[36mpandas._libs.index.IndexEngine.get_loc\u001b[39m\u001b[34m()\u001b[39m\n",
      "\u001b[36mFile \u001b[39m\u001b[32mpandas/_libs/index.pyx:228\u001b[39m, in \u001b[36mpandas._libs.index.IndexEngine._get_loc_duplicates\u001b[39m\u001b[34m()\u001b[39m\n",
      "\u001b[31mKeyError\u001b[39m: 'precinct'",
      "\nThe above exception was the direct cause of the following exception:\n",
      "\u001b[31mKeyError\u001b[39m                                  Traceback (most recent call last)",
      "\u001b[36mCell\u001b[39m\u001b[36m \u001b[39m\u001b[32mIn[44]\u001b[39m\u001b[32m, line 1\u001b[39m\n\u001b[32m----> \u001b[39m\u001b[32m1\u001b[39m dfK = \u001b[43mgroup_precincts_k\u001b[49m\u001b[43m(\u001b[49m\u001b[43mdfK\u001b[49m\u001b[43m,\u001b[49m\u001b[43m \u001b[49m\u001b[43mgroupings\u001b[49m\u001b[43m)\u001b[49m\n",
      "\u001b[36mCell\u001b[39m\u001b[36m \u001b[39m\u001b[32mIn[43]\u001b[39m\u001b[32m, line 5\u001b[39m, in \u001b[36mgroup_precincts_k\u001b[39m\u001b[34m(df, groupings)\u001b[39m\n\u001b[32m      2\u001b[39m grouped_data = []\n\u001b[32m      4\u001b[39m \u001b[38;5;28;01mfor\u001b[39;00m key, values \u001b[38;5;129;01min\u001b[39;00m groupings.items():\n\u001b[32m----> \u001b[39m\u001b[32m5\u001b[39m     subset = df[\u001b[43mdf\u001b[49m\u001b[43m[\u001b[49m\u001b[33;43m'\u001b[39;49m\u001b[33;43mprecinct\u001b[39;49m\u001b[33;43m'\u001b[39;49m\u001b[43m]\u001b[49m.isin(values)]\n\u001b[32m      6\u001b[39m     \u001b[38;5;28;01mif\u001b[39;00m \u001b[38;5;129;01mnot\u001b[39;00m subset.empty:\n\u001b[32m      7\u001b[39m         aggregated_row = {\n\u001b[32m      8\u001b[39m             \u001b[33m'\u001b[39m\u001b[33mprecinct\u001b[39m\u001b[33m'\u001b[39m: key,\n\u001b[32m      9\u001b[39m             \u001b[33m'\u001b[39m\u001b[33mregistered_voters\u001b[39m\u001b[33m'\u001b[39m: subset[\u001b[33m'\u001b[39m\u001b[33mregistered_voters\u001b[39m\u001b[33m'\u001b[39m].sum(),\n\u001b[32m   (...)\u001b[39m\u001b[32m     13\u001b[39m             \u001b[33m'\u001b[39m\u001b[33mvotes_cast\u001b[39m\u001b[33m'\u001b[39m: subset[\u001b[33m'\u001b[39m\u001b[33mvotes_cast\u001b[39m\u001b[33m'\u001b[39m].sum()\n\u001b[32m     14\u001b[39m         }\n",
      "\u001b[36mFile \u001b[39m\u001b[32m/opt/hostedtoolcache/Python/3.11.13/x64/lib/python3.11/site-packages/pandas/core/frame.py:4107\u001b[39m, in \u001b[36mDataFrame.__getitem__\u001b[39m\u001b[34m(self, key)\u001b[39m\n\u001b[32m   4105\u001b[39m \u001b[38;5;28;01mif\u001b[39;00m \u001b[38;5;28mself\u001b[39m.columns.nlevels > \u001b[32m1\u001b[39m:\n\u001b[32m   4106\u001b[39m     \u001b[38;5;28;01mreturn\u001b[39;00m \u001b[38;5;28mself\u001b[39m._getitem_multilevel(key)\n\u001b[32m-> \u001b[39m\u001b[32m4107\u001b[39m indexer = \u001b[38;5;28;43mself\u001b[39;49m\u001b[43m.\u001b[49m\u001b[43mcolumns\u001b[49m\u001b[43m.\u001b[49m\u001b[43mget_loc\u001b[49m\u001b[43m(\u001b[49m\u001b[43mkey\u001b[49m\u001b[43m)\u001b[49m\n\u001b[32m   4108\u001b[39m \u001b[38;5;28;01mif\u001b[39;00m is_integer(indexer):\n\u001b[32m   4109\u001b[39m     indexer = [indexer]\n",
      "\u001b[36mFile \u001b[39m\u001b[32m/opt/hostedtoolcache/Python/3.11.13/x64/lib/python3.11/site-packages/pandas/core/indexes/base.py:3819\u001b[39m, in \u001b[36mIndex.get_loc\u001b[39m\u001b[34m(self, key)\u001b[39m\n\u001b[32m   3814\u001b[39m     \u001b[38;5;28;01mif\u001b[39;00m \u001b[38;5;28misinstance\u001b[39m(casted_key, \u001b[38;5;28mslice\u001b[39m) \u001b[38;5;129;01mor\u001b[39;00m (\n\u001b[32m   3815\u001b[39m         \u001b[38;5;28misinstance\u001b[39m(casted_key, abc.Iterable)\n\u001b[32m   3816\u001b[39m         \u001b[38;5;129;01mand\u001b[39;00m \u001b[38;5;28many\u001b[39m(\u001b[38;5;28misinstance\u001b[39m(x, \u001b[38;5;28mslice\u001b[39m) \u001b[38;5;28;01mfor\u001b[39;00m x \u001b[38;5;129;01min\u001b[39;00m casted_key)\n\u001b[32m   3817\u001b[39m     ):\n\u001b[32m   3818\u001b[39m         \u001b[38;5;28;01mraise\u001b[39;00m InvalidIndexError(key)\n\u001b[32m-> \u001b[39m\u001b[32m3819\u001b[39m     \u001b[38;5;28;01mraise\u001b[39;00m \u001b[38;5;167;01mKeyError\u001b[39;00m(key) \u001b[38;5;28;01mfrom\u001b[39;00m\u001b[38;5;250m \u001b[39m\u001b[34;01merr\u001b[39;00m\n\u001b[32m   3820\u001b[39m \u001b[38;5;28;01mexcept\u001b[39;00m \u001b[38;5;167;01mTypeError\u001b[39;00m:\n\u001b[32m   3821\u001b[39m     \u001b[38;5;66;03m# If we have a listlike key, _check_indexing_error will raise\u001b[39;00m\n\u001b[32m   3822\u001b[39m     \u001b[38;5;66;03m#  InvalidIndexError. Otherwise we fall through and re-raise\u001b[39;00m\n\u001b[32m   3823\u001b[39m     \u001b[38;5;66;03m#  the TypeError.\u001b[39;00m\n\u001b[32m   3824\u001b[39m     \u001b[38;5;28mself\u001b[39m._check_indexing_error(key)\n",
      "\u001b[31mKeyError\u001b[39m: 'precinct'"
     ]
    }
   ],
   "source": [
    "dfK = group_precincts_k(dfK, groupings)"
   ]
  },
  {
   "cell_type": "code",
   "execution_count": 45,
   "metadata": {
    "execution": {
     "iopub.execute_input": "2025-09-16T20:41:37.357558Z",
     "iopub.status.busy": "2025-09-16T20:41:37.357359Z",
     "iopub.status.idle": "2025-09-16T20:41:37.423080Z",
     "shell.execute_reply": "2025-09-16T20:41:37.422447Z"
    }
   },
   "outputs": [
    {
     "ename": "KeyError",
     "evalue": "'precinct'",
     "output_type": "error",
     "traceback": [
      "\u001b[31m---------------------------------------------------------------------------\u001b[39m",
      "\u001b[31mKeyError\u001b[39m                                  Traceback (most recent call last)",
      "\u001b[36mFile \u001b[39m\u001b[32m/opt/hostedtoolcache/Python/3.11.13/x64/lib/python3.11/site-packages/pandas/core/indexes/base.py:3812\u001b[39m, in \u001b[36mIndex.get_loc\u001b[39m\u001b[34m(self, key)\u001b[39m\n\u001b[32m   3811\u001b[39m \u001b[38;5;28;01mtry\u001b[39;00m:\n\u001b[32m-> \u001b[39m\u001b[32m3812\u001b[39m     \u001b[38;5;28;01mreturn\u001b[39;00m \u001b[38;5;28;43mself\u001b[39;49m\u001b[43m.\u001b[49m\u001b[43m_engine\u001b[49m\u001b[43m.\u001b[49m\u001b[43mget_loc\u001b[49m\u001b[43m(\u001b[49m\u001b[43mcasted_key\u001b[49m\u001b[43m)\u001b[49m\n\u001b[32m   3813\u001b[39m \u001b[38;5;28;01mexcept\u001b[39;00m \u001b[38;5;167;01mKeyError\u001b[39;00m \u001b[38;5;28;01mas\u001b[39;00m err:\n",
      "\u001b[36mFile \u001b[39m\u001b[32mpandas/_libs/index.pyx:167\u001b[39m, in \u001b[36mpandas._libs.index.IndexEngine.get_loc\u001b[39m\u001b[34m()\u001b[39m\n",
      "\u001b[36mFile \u001b[39m\u001b[32mpandas/_libs/index.pyx:191\u001b[39m, in \u001b[36mpandas._libs.index.IndexEngine.get_loc\u001b[39m\u001b[34m()\u001b[39m\n",
      "\u001b[36mFile \u001b[39m\u001b[32mpandas/_libs/index.pyx:228\u001b[39m, in \u001b[36mpandas._libs.index.IndexEngine._get_loc_duplicates\u001b[39m\u001b[34m()\u001b[39m\n",
      "\u001b[31mKeyError\u001b[39m: 'precinct'",
      "\nThe above exception was the direct cause of the following exception:\n",
      "\u001b[31mKeyError\u001b[39m                                  Traceback (most recent call last)",
      "\u001b[36mCell\u001b[39m\u001b[36m \u001b[39m\u001b[32mIn[45]\u001b[39m\u001b[32m, line 3\u001b[39m\n\u001b[32m      1\u001b[39m \u001b[38;5;66;03m# I only want to keep the precincts that are keys in the groupings dictionary\u001b[39;00m\n\u001b[32m----> \u001b[39m\u001b[32m3\u001b[39m dfK = dfK[\u001b[43mdfK\u001b[49m\u001b[43m[\u001b[49m\u001b[33;43m'\u001b[39;49m\u001b[33;43mprecinct\u001b[39;49m\u001b[33;43m'\u001b[39;49m\u001b[43m]\u001b[49m.isin(groupings.keys())]\n",
      "\u001b[36mFile \u001b[39m\u001b[32m/opt/hostedtoolcache/Python/3.11.13/x64/lib/python3.11/site-packages/pandas/core/frame.py:4107\u001b[39m, in \u001b[36mDataFrame.__getitem__\u001b[39m\u001b[34m(self, key)\u001b[39m\n\u001b[32m   4105\u001b[39m \u001b[38;5;28;01mif\u001b[39;00m \u001b[38;5;28mself\u001b[39m.columns.nlevels > \u001b[32m1\u001b[39m:\n\u001b[32m   4106\u001b[39m     \u001b[38;5;28;01mreturn\u001b[39;00m \u001b[38;5;28mself\u001b[39m._getitem_multilevel(key)\n\u001b[32m-> \u001b[39m\u001b[32m4107\u001b[39m indexer = \u001b[38;5;28;43mself\u001b[39;49m\u001b[43m.\u001b[49m\u001b[43mcolumns\u001b[49m\u001b[43m.\u001b[49m\u001b[43mget_loc\u001b[49m\u001b[43m(\u001b[49m\u001b[43mkey\u001b[49m\u001b[43m)\u001b[49m\n\u001b[32m   4108\u001b[39m \u001b[38;5;28;01mif\u001b[39;00m is_integer(indexer):\n\u001b[32m   4109\u001b[39m     indexer = [indexer]\n",
      "\u001b[36mFile \u001b[39m\u001b[32m/opt/hostedtoolcache/Python/3.11.13/x64/lib/python3.11/site-packages/pandas/core/indexes/base.py:3819\u001b[39m, in \u001b[36mIndex.get_loc\u001b[39m\u001b[34m(self, key)\u001b[39m\n\u001b[32m   3814\u001b[39m     \u001b[38;5;28;01mif\u001b[39;00m \u001b[38;5;28misinstance\u001b[39m(casted_key, \u001b[38;5;28mslice\u001b[39m) \u001b[38;5;129;01mor\u001b[39;00m (\n\u001b[32m   3815\u001b[39m         \u001b[38;5;28misinstance\u001b[39m(casted_key, abc.Iterable)\n\u001b[32m   3816\u001b[39m         \u001b[38;5;129;01mand\u001b[39;00m \u001b[38;5;28many\u001b[39m(\u001b[38;5;28misinstance\u001b[39m(x, \u001b[38;5;28mslice\u001b[39m) \u001b[38;5;28;01mfor\u001b[39;00m x \u001b[38;5;129;01min\u001b[39;00m casted_key)\n\u001b[32m   3817\u001b[39m     ):\n\u001b[32m   3818\u001b[39m         \u001b[38;5;28;01mraise\u001b[39;00m InvalidIndexError(key)\n\u001b[32m-> \u001b[39m\u001b[32m3819\u001b[39m     \u001b[38;5;28;01mraise\u001b[39;00m \u001b[38;5;167;01mKeyError\u001b[39;00m(key) \u001b[38;5;28;01mfrom\u001b[39;00m\u001b[38;5;250m \u001b[39m\u001b[34;01merr\u001b[39;00m\n\u001b[32m   3820\u001b[39m \u001b[38;5;28;01mexcept\u001b[39;00m \u001b[38;5;167;01mTypeError\u001b[39;00m:\n\u001b[32m   3821\u001b[39m     \u001b[38;5;66;03m# If we have a listlike key, _check_indexing_error will raise\u001b[39;00m\n\u001b[32m   3822\u001b[39m     \u001b[38;5;66;03m#  InvalidIndexError. Otherwise we fall through and re-raise\u001b[39;00m\n\u001b[32m   3823\u001b[39m     \u001b[38;5;66;03m#  the TypeError.\u001b[39;00m\n\u001b[32m   3824\u001b[39m     \u001b[38;5;28mself\u001b[39m._check_indexing_error(key)\n",
      "\u001b[31mKeyError\u001b[39m: 'precinct'"
     ]
    }
   ],
   "source": [
    "# I only want to keep the precincts that are keys in the groupings dictionary\n",
    "\n",
    "dfK = dfK[dfK['precinct'].isin(groupings.keys())]"
   ]
  },
  {
   "cell_type": "code",
   "execution_count": 46,
   "metadata": {
    "execution": {
     "iopub.execute_input": "2025-09-16T20:41:37.424744Z",
     "iopub.status.busy": "2025-09-16T20:41:37.424591Z",
     "iopub.status.idle": "2025-09-16T20:41:37.489172Z",
     "shell.execute_reply": "2025-09-16T20:41:37.488704Z"
    }
   },
   "outputs": [
    {
     "ename": "KeyError",
     "evalue": "'votes_cast'",
     "output_type": "error",
     "traceback": [
      "\u001b[31m---------------------------------------------------------------------------\u001b[39m",
      "\u001b[31mKeyError\u001b[39m                                  Traceback (most recent call last)",
      "\u001b[36mFile \u001b[39m\u001b[32m/opt/hostedtoolcache/Python/3.11.13/x64/lib/python3.11/site-packages/pandas/core/indexes/base.py:3812\u001b[39m, in \u001b[36mIndex.get_loc\u001b[39m\u001b[34m(self, key)\u001b[39m\n\u001b[32m   3811\u001b[39m \u001b[38;5;28;01mtry\u001b[39;00m:\n\u001b[32m-> \u001b[39m\u001b[32m3812\u001b[39m     \u001b[38;5;28;01mreturn\u001b[39;00m \u001b[38;5;28;43mself\u001b[39;49m\u001b[43m.\u001b[49m\u001b[43m_engine\u001b[49m\u001b[43m.\u001b[49m\u001b[43mget_loc\u001b[49m\u001b[43m(\u001b[49m\u001b[43mcasted_key\u001b[49m\u001b[43m)\u001b[49m\n\u001b[32m   3813\u001b[39m \u001b[38;5;28;01mexcept\u001b[39;00m \u001b[38;5;167;01mKeyError\u001b[39;00m \u001b[38;5;28;01mas\u001b[39;00m err:\n",
      "\u001b[36mFile \u001b[39m\u001b[32mpandas/_libs/index.pyx:167\u001b[39m, in \u001b[36mpandas._libs.index.IndexEngine.get_loc\u001b[39m\u001b[34m()\u001b[39m\n",
      "\u001b[36mFile \u001b[39m\u001b[32mpandas/_libs/index.pyx:191\u001b[39m, in \u001b[36mpandas._libs.index.IndexEngine.get_loc\u001b[39m\u001b[34m()\u001b[39m\n",
      "\u001b[36mFile \u001b[39m\u001b[32mpandas/_libs/index.pyx:228\u001b[39m, in \u001b[36mpandas._libs.index.IndexEngine._get_loc_duplicates\u001b[39m\u001b[34m()\u001b[39m\n",
      "\u001b[31mKeyError\u001b[39m: 'votes_cast'",
      "\nThe above exception was the direct cause of the following exception:\n",
      "\u001b[31mKeyError\u001b[39m                                  Traceback (most recent call last)",
      "\u001b[36mCell\u001b[39m\u001b[36m \u001b[39m\u001b[32mIn[46]\u001b[39m\u001b[32m, line 3\u001b[39m\n\u001b[32m      1\u001b[39m \u001b[38;5;66;03m# make a turnout column\u001b[39;00m\n\u001b[32m----> \u001b[39m\u001b[32m3\u001b[39m dfK[\u001b[33m'\u001b[39m\u001b[33mturnout\u001b[39m\u001b[33m'\u001b[39m] = \u001b[38;5;28mround\u001b[39m((\u001b[43mdfK\u001b[49m\u001b[43m[\u001b[49m\u001b[33;43m'\u001b[39;49m\u001b[33;43mvotes_cast\u001b[39;49m\u001b[33;43m'\u001b[39;49m\u001b[43m]\u001b[49m / dfK[\u001b[33m'\u001b[39m\u001b[33mregistered_voters\u001b[39m\u001b[33m'\u001b[39m]) * \u001b[32m100\u001b[39m, \u001b[32m1\u001b[39m).fillna(\u001b[32m0\u001b[39m)\n",
      "\u001b[36mFile \u001b[39m\u001b[32m/opt/hostedtoolcache/Python/3.11.13/x64/lib/python3.11/site-packages/pandas/core/frame.py:4107\u001b[39m, in \u001b[36mDataFrame.__getitem__\u001b[39m\u001b[34m(self, key)\u001b[39m\n\u001b[32m   4105\u001b[39m \u001b[38;5;28;01mif\u001b[39;00m \u001b[38;5;28mself\u001b[39m.columns.nlevels > \u001b[32m1\u001b[39m:\n\u001b[32m   4106\u001b[39m     \u001b[38;5;28;01mreturn\u001b[39;00m \u001b[38;5;28mself\u001b[39m._getitem_multilevel(key)\n\u001b[32m-> \u001b[39m\u001b[32m4107\u001b[39m indexer = \u001b[38;5;28;43mself\u001b[39;49m\u001b[43m.\u001b[49m\u001b[43mcolumns\u001b[49m\u001b[43m.\u001b[49m\u001b[43mget_loc\u001b[49m\u001b[43m(\u001b[49m\u001b[43mkey\u001b[49m\u001b[43m)\u001b[49m\n\u001b[32m   4108\u001b[39m \u001b[38;5;28;01mif\u001b[39;00m is_integer(indexer):\n\u001b[32m   4109\u001b[39m     indexer = [indexer]\n",
      "\u001b[36mFile \u001b[39m\u001b[32m/opt/hostedtoolcache/Python/3.11.13/x64/lib/python3.11/site-packages/pandas/core/indexes/base.py:3819\u001b[39m, in \u001b[36mIndex.get_loc\u001b[39m\u001b[34m(self, key)\u001b[39m\n\u001b[32m   3814\u001b[39m     \u001b[38;5;28;01mif\u001b[39;00m \u001b[38;5;28misinstance\u001b[39m(casted_key, \u001b[38;5;28mslice\u001b[39m) \u001b[38;5;129;01mor\u001b[39;00m (\n\u001b[32m   3815\u001b[39m         \u001b[38;5;28misinstance\u001b[39m(casted_key, abc.Iterable)\n\u001b[32m   3816\u001b[39m         \u001b[38;5;129;01mand\u001b[39;00m \u001b[38;5;28many\u001b[39m(\u001b[38;5;28misinstance\u001b[39m(x, \u001b[38;5;28mslice\u001b[39m) \u001b[38;5;28;01mfor\u001b[39;00m x \u001b[38;5;129;01min\u001b[39;00m casted_key)\n\u001b[32m   3817\u001b[39m     ):\n\u001b[32m   3818\u001b[39m         \u001b[38;5;28;01mraise\u001b[39;00m InvalidIndexError(key)\n\u001b[32m-> \u001b[39m\u001b[32m3819\u001b[39m     \u001b[38;5;28;01mraise\u001b[39;00m \u001b[38;5;167;01mKeyError\u001b[39;00m(key) \u001b[38;5;28;01mfrom\u001b[39;00m\u001b[38;5;250m \u001b[39m\u001b[34;01merr\u001b[39;00m\n\u001b[32m   3820\u001b[39m \u001b[38;5;28;01mexcept\u001b[39;00m \u001b[38;5;167;01mTypeError\u001b[39;00m:\n\u001b[32m   3821\u001b[39m     \u001b[38;5;66;03m# If we have a listlike key, _check_indexing_error will raise\u001b[39;00m\n\u001b[32m   3822\u001b[39m     \u001b[38;5;66;03m#  InvalidIndexError. Otherwise we fall through and re-raise\u001b[39;00m\n\u001b[32m   3823\u001b[39m     \u001b[38;5;66;03m#  the TypeError.\u001b[39;00m\n\u001b[32m   3824\u001b[39m     \u001b[38;5;28mself\u001b[39m._check_indexing_error(key)\n",
      "\u001b[31mKeyError\u001b[39m: 'votes_cast'"
     ]
    }
   ],
   "source": [
    "# make a turnout column\n",
    "\n",
    "dfK['turnout'] = round((dfK['votes_cast'] / dfK['registered_voters']) * 100, 1).fillna(0)"
   ]
  },
  {
   "cell_type": "code",
   "execution_count": 47,
   "metadata": {
    "execution": {
     "iopub.execute_input": "2025-09-16T20:41:37.490783Z",
     "iopub.status.busy": "2025-09-16T20:41:37.490631Z",
     "iopub.status.idle": "2025-09-16T20:41:37.557137Z",
     "shell.execute_reply": "2025-09-16T20:41:37.556678Z"
    }
   },
   "outputs": [
    {
     "ename": "KeyError",
     "evalue": "'precinct'",
     "output_type": "error",
     "traceback": [
      "\u001b[31m---------------------------------------------------------------------------\u001b[39m",
      "\u001b[31mKeyError\u001b[39m                                  Traceback (most recent call last)",
      "\u001b[36mFile \u001b[39m\u001b[32m/opt/hostedtoolcache/Python/3.11.13/x64/lib/python3.11/site-packages/pandas/core/indexes/base.py:3812\u001b[39m, in \u001b[36mIndex.get_loc\u001b[39m\u001b[34m(self, key)\u001b[39m\n\u001b[32m   3811\u001b[39m \u001b[38;5;28;01mtry\u001b[39;00m:\n\u001b[32m-> \u001b[39m\u001b[32m3812\u001b[39m     \u001b[38;5;28;01mreturn\u001b[39;00m \u001b[38;5;28;43mself\u001b[39;49m\u001b[43m.\u001b[49m\u001b[43m_engine\u001b[49m\u001b[43m.\u001b[49m\u001b[43mget_loc\u001b[49m\u001b[43m(\u001b[49m\u001b[43mcasted_key\u001b[49m\u001b[43m)\u001b[49m\n\u001b[32m   3813\u001b[39m \u001b[38;5;28;01mexcept\u001b[39;00m \u001b[38;5;167;01mKeyError\u001b[39;00m \u001b[38;5;28;01mas\u001b[39;00m err:\n",
      "\u001b[36mFile \u001b[39m\u001b[32mpandas/_libs/index.pyx:167\u001b[39m, in \u001b[36mpandas._libs.index.IndexEngine.get_loc\u001b[39m\u001b[34m()\u001b[39m\n",
      "\u001b[36mFile \u001b[39m\u001b[32mpandas/_libs/index.pyx:191\u001b[39m, in \u001b[36mpandas._libs.index.IndexEngine.get_loc\u001b[39m\u001b[34m()\u001b[39m\n",
      "\u001b[36mFile \u001b[39m\u001b[32mpandas/_libs/index.pyx:228\u001b[39m, in \u001b[36mpandas._libs.index.IndexEngine._get_loc_duplicates\u001b[39m\u001b[34m()\u001b[39m\n",
      "\u001b[31mKeyError\u001b[39m: 'precinct'",
      "\nThe above exception was the direct cause of the following exception:\n",
      "\u001b[31mKeyError\u001b[39m                                  Traceback (most recent call last)",
      "\u001b[36mCell\u001b[39m\u001b[36m \u001b[39m\u001b[32mIn[47]\u001b[39m\u001b[32m, line 1\u001b[39m\n\u001b[32m----> \u001b[39m\u001b[32m1\u001b[39m dfK[\u001b[33m'\u001b[39m\u001b[33mprecinct\u001b[39m\u001b[33m'\u001b[39m] = \u001b[43mdfK\u001b[49m\u001b[43m[\u001b[49m\u001b[33;43m'\u001b[39;49m\u001b[33;43mprecinct\u001b[39;49m\u001b[33;43m'\u001b[39;49m\u001b[43m]\u001b[49m.astype(\u001b[38;5;28mint\u001b[39m)\n\u001b[32m      2\u001b[39m dfK[\u001b[33m'\u001b[39m\u001b[33myes_perc\u001b[39m\u001b[33m'\u001b[39m] = (dfK[\u001b[33m'\u001b[39m\u001b[33myes\u001b[39m\u001b[33m'\u001b[39m] / dfK[\u001b[33m'\u001b[39m\u001b[33mvotes_cast\u001b[39m\u001b[33m'\u001b[39m]) * \u001b[32m100\u001b[39m\n\u001b[32m      3\u001b[39m dfK[\u001b[33m'\u001b[39m\u001b[33myes_perc_bin\u001b[39m\u001b[33m'\u001b[39m] = pd.cut(dfK[\u001b[33m'\u001b[39m\u001b[33myes_perc\u001b[39m\u001b[33m'\u001b[39m], bins=bins, labels=labels, include_lowest=\u001b[38;5;28;01mTrue\u001b[39;00m)\n",
      "\u001b[36mFile \u001b[39m\u001b[32m/opt/hostedtoolcache/Python/3.11.13/x64/lib/python3.11/site-packages/pandas/core/frame.py:4107\u001b[39m, in \u001b[36mDataFrame.__getitem__\u001b[39m\u001b[34m(self, key)\u001b[39m\n\u001b[32m   4105\u001b[39m \u001b[38;5;28;01mif\u001b[39;00m \u001b[38;5;28mself\u001b[39m.columns.nlevels > \u001b[32m1\u001b[39m:\n\u001b[32m   4106\u001b[39m     \u001b[38;5;28;01mreturn\u001b[39;00m \u001b[38;5;28mself\u001b[39m._getitem_multilevel(key)\n\u001b[32m-> \u001b[39m\u001b[32m4107\u001b[39m indexer = \u001b[38;5;28;43mself\u001b[39;49m\u001b[43m.\u001b[49m\u001b[43mcolumns\u001b[49m\u001b[43m.\u001b[49m\u001b[43mget_loc\u001b[49m\u001b[43m(\u001b[49m\u001b[43mkey\u001b[49m\u001b[43m)\u001b[49m\n\u001b[32m   4108\u001b[39m \u001b[38;5;28;01mif\u001b[39;00m is_integer(indexer):\n\u001b[32m   4109\u001b[39m     indexer = [indexer]\n",
      "\u001b[36mFile \u001b[39m\u001b[32m/opt/hostedtoolcache/Python/3.11.13/x64/lib/python3.11/site-packages/pandas/core/indexes/base.py:3819\u001b[39m, in \u001b[36mIndex.get_loc\u001b[39m\u001b[34m(self, key)\u001b[39m\n\u001b[32m   3814\u001b[39m     \u001b[38;5;28;01mif\u001b[39;00m \u001b[38;5;28misinstance\u001b[39m(casted_key, \u001b[38;5;28mslice\u001b[39m) \u001b[38;5;129;01mor\u001b[39;00m (\n\u001b[32m   3815\u001b[39m         \u001b[38;5;28misinstance\u001b[39m(casted_key, abc.Iterable)\n\u001b[32m   3816\u001b[39m         \u001b[38;5;129;01mand\u001b[39;00m \u001b[38;5;28many\u001b[39m(\u001b[38;5;28misinstance\u001b[39m(x, \u001b[38;5;28mslice\u001b[39m) \u001b[38;5;28;01mfor\u001b[39;00m x \u001b[38;5;129;01min\u001b[39;00m casted_key)\n\u001b[32m   3817\u001b[39m     ):\n\u001b[32m   3818\u001b[39m         \u001b[38;5;28;01mraise\u001b[39;00m InvalidIndexError(key)\n\u001b[32m-> \u001b[39m\u001b[32m3819\u001b[39m     \u001b[38;5;28;01mraise\u001b[39;00m \u001b[38;5;167;01mKeyError\u001b[39;00m(key) \u001b[38;5;28;01mfrom\u001b[39;00m\u001b[38;5;250m \u001b[39m\u001b[34;01merr\u001b[39;00m\n\u001b[32m   3820\u001b[39m \u001b[38;5;28;01mexcept\u001b[39;00m \u001b[38;5;167;01mTypeError\u001b[39;00m:\n\u001b[32m   3821\u001b[39m     \u001b[38;5;66;03m# If we have a listlike key, _check_indexing_error will raise\u001b[39;00m\n\u001b[32m   3822\u001b[39m     \u001b[38;5;66;03m#  InvalidIndexError. Otherwise we fall through and re-raise\u001b[39;00m\n\u001b[32m   3823\u001b[39m     \u001b[38;5;66;03m#  the TypeError.\u001b[39;00m\n\u001b[32m   3824\u001b[39m     \u001b[38;5;28mself\u001b[39m._check_indexing_error(key)\n",
      "\u001b[31mKeyError\u001b[39m: 'precinct'"
     ]
    }
   ],
   "source": [
    "dfK['precinct'] = dfK['precinct'].astype(int)\n",
    "dfK['yes_perc'] = (dfK['yes'] / dfK['votes_cast']) * 100\n",
    "dfK['yes_perc_bin'] = pd.cut(dfK['yes_perc'], bins=bins, labels=labels, include_lowest=True)\n",
    "dfK['yes_perc'] = dfK['yes_perc'].fillna('no data')\n",
    "dfK['yes_perc_bin'] = dfK['yes_perc_bin'].astype(str)"
   ]
  },
  {
   "cell_type": "code",
   "execution_count": 48,
   "metadata": {
    "execution": {
     "iopub.execute_input": "2025-09-16T20:41:37.558725Z",
     "iopub.status.busy": "2025-09-16T20:41:37.558575Z",
     "iopub.status.idle": "2025-09-16T20:41:37.570309Z",
     "shell.execute_reply": "2025-09-16T20:41:37.569763Z"
    }
   },
   "outputs": [
    {
     "data": {
      "text/html": [
       "<div>\n",
       "<style scoped>\n",
       "    .dataframe tbody tr th:only-of-type {\n",
       "        vertical-align: middle;\n",
       "    }\n",
       "\n",
       "    .dataframe tbody tr th {\n",
       "        vertical-align: top;\n",
       "    }\n",
       "\n",
       "    .dataframe thead th {\n",
       "        text-align: right;\n",
       "    }\n",
       "</style>\n",
       "<table border=\"1\" class=\"dataframe\">\n",
       "  <thead>\n",
       "    <tr style=\"text-align: right;\">\n",
       "      <th></th>\n",
       "      <th></th>\n",
       "      <th></th>\n",
       "      <th></th>\n",
       "      <th></th>\n",
       "      <th></th>\n",
       "      <th></th>\n",
       "      <th></th>\n",
       "      <th></th>\n",
       "      <th></th>\n",
       "      <th></th>\n",
       "      <th></th>\n",
       "      <th></th>\n",
       "    </tr>\n",
       "  </thead>\n",
       "  <tbody>\n",
       "    <tr>\n",
       "      <th>0</th>\n",
       "      <td>Countywide</td>\n",
       "      <td>NaN</td>\n",
       "      <td>NaN</td>\n",
       "      <td>NaN</td>\n",
       "      <td>NaN</td>\n",
       "      <td>Countywide</td>\n",
       "      <td>NaN</td>\n",
       "      <td>NaN</td>\n",
       "      <td>NaN</td>\n",
       "      <td>NaN</td>\n",
       "      <td>NaN</td>\n",
       "      <td>NaN</td>\n",
       "    </tr>\n",
       "    <tr>\n",
       "      <th>1</th>\n",
       "      <td>Electionwide</td>\n",
       "      <td>NaN</td>\n",
       "      <td>NaN</td>\n",
       "      <td>NaN</td>\n",
       "      <td>NaN</td>\n",
       "      <td>Electionwide</td>\n",
       "      <td>NaN</td>\n",
       "      <td>NaN</td>\n",
       "      <td>NaN</td>\n",
       "      <td>NaN</td>\n",
       "      <td>NaN</td>\n",
       "      <td>NaN</td>\n",
       "    </tr>\n",
       "    <tr>\n",
       "      <th>2</th>\n",
       "      <td>PCT 1101</td>\n",
       "      <td>NaN</td>\n",
       "      <td>NaN</td>\n",
       "      <td>NaN</td>\n",
       "      <td>NaN</td>\n",
       "      <td>PCT 1101</td>\n",
       "      <td>NaN</td>\n",
       "      <td>NaN</td>\n",
       "      <td>NaN</td>\n",
       "      <td>NaN</td>\n",
       "      <td>NaN</td>\n",
       "      <td>NaN</td>\n",
       "    </tr>\n",
       "    <tr>\n",
       "      <th>3</th>\n",
       "      <td>Election Day</td>\n",
       "      <td>881.0</td>\n",
       "      <td>20.0</td>\n",
       "      <td>NaN</td>\n",
       "      <td>0.0</td>\n",
       "      <td>Election Day</td>\n",
       "      <td>31.0</td>\n",
       "      <td>35.63%</td>\n",
       "      <td>56.0</td>\n",
       "      <td>64.37%</td>\n",
       "      <td>87.0</td>\n",
       "      <td>NaN</td>\n",
       "    </tr>\n",
       "    <tr>\n",
       "      <th>4</th>\n",
       "      <td>Vote by Mail</td>\n",
       "      <td>881.0</td>\n",
       "      <td>35.0</td>\n",
       "      <td>NaN</td>\n",
       "      <td>0.0</td>\n",
       "      <td>Vote by Mail</td>\n",
       "      <td>201.0</td>\n",
       "      <td>38.95%</td>\n",
       "      <td>315.0</td>\n",
       "      <td>61.05%</td>\n",
       "      <td>516.0</td>\n",
       "      <td>NaN</td>\n",
       "    </tr>\n",
       "    <tr>\n",
       "      <th>...</th>\n",
       "      <td>...</td>\n",
       "      <td>...</td>\n",
       "      <td>...</td>\n",
       "      <td>...</td>\n",
       "      <td>...</td>\n",
       "      <td>...</td>\n",
       "      <td>...</td>\n",
       "      <td>...</td>\n",
       "      <td>...</td>\n",
       "      <td>...</td>\n",
       "      <td>...</td>\n",
       "      <td>...</td>\n",
       "    </tr>\n",
       "    <tr>\n",
       "      <th>2055</th>\n",
       "      <td>Election Day</td>\n",
       "      <td>0.0</td>\n",
       "      <td>0.0</td>\n",
       "      <td>NaN</td>\n",
       "      <td>0.0</td>\n",
       "      <td>Election Day</td>\n",
       "      <td>0.0</td>\n",
       "      <td>NaN</td>\n",
       "      <td>0.0</td>\n",
       "      <td>NaN</td>\n",
       "      <td>0.0</td>\n",
       "      <td>NaN</td>\n",
       "    </tr>\n",
       "    <tr>\n",
       "      <th>2056</th>\n",
       "      <td>Vote by Mail</td>\n",
       "      <td>0.0</td>\n",
       "      <td>0.0</td>\n",
       "      <td>NaN</td>\n",
       "      <td>0.0</td>\n",
       "      <td>Vote by Mail</td>\n",
       "      <td>0.0</td>\n",
       "      <td>NaN</td>\n",
       "      <td>0.0</td>\n",
       "      <td>NaN</td>\n",
       "      <td>0.0</td>\n",
       "      <td>NaN</td>\n",
       "    </tr>\n",
       "    <tr>\n",
       "      <th>2057</th>\n",
       "      <td>Total</td>\n",
       "      <td>0.0</td>\n",
       "      <td>0.0</td>\n",
       "      <td>NaN</td>\n",
       "      <td>0.0</td>\n",
       "      <td>Total</td>\n",
       "      <td>0.0</td>\n",
       "      <td>NaN</td>\n",
       "      <td>0.0</td>\n",
       "      <td>NaN</td>\n",
       "      <td>0.0</td>\n",
       "      <td>NaN</td>\n",
       "    </tr>\n",
       "    <tr>\n",
       "      <th>2058</th>\n",
       "      <td>Electionwide - Total</td>\n",
       "      <td>522265.0</td>\n",
       "      <td>32912.0</td>\n",
       "      <td>NaN</td>\n",
       "      <td>114.0</td>\n",
       "      <td>Electionwide - Total</td>\n",
       "      <td>206042.0</td>\n",
       "      <td>54.73%</td>\n",
       "      <td>170447.0</td>\n",
       "      <td>45.27%</td>\n",
       "      <td>376489.0</td>\n",
       "      <td>NaN</td>\n",
       "    </tr>\n",
       "    <tr>\n",
       "      <th>2059</th>\n",
       "      <td>Cumulative</td>\n",
       "      <td>NaN</td>\n",
       "      <td>NaN</td>\n",
       "      <td>NaN</td>\n",
       "      <td>NaN</td>\n",
       "      <td>Cumulative</td>\n",
       "      <td>NaN</td>\n",
       "      <td>NaN</td>\n",
       "      <td>NaN</td>\n",
       "      <td>NaN</td>\n",
       "      <td>NaN</td>\n",
       "      <td>NaN</td>\n",
       "    </tr>\n",
       "  </tbody>\n",
       "</table>\n",
       "<p>2060 rows × 12 columns</p>\n",
       "</div>"
      ],
      "text/plain": [
       "                                                          \\\n",
       "0               Countywide       NaN      NaN NaN    NaN   \n",
       "1             Electionwide       NaN      NaN NaN    NaN   \n",
       "2                 PCT 1101       NaN      NaN NaN    NaN   \n",
       "3             Election Day     881.0     20.0 NaN    0.0   \n",
       "4             Vote by Mail     881.0     35.0 NaN    0.0   \n",
       "...                    ...       ...      ...  ..    ...   \n",
       "2055          Election Day       0.0      0.0 NaN    0.0   \n",
       "2056          Vote by Mail       0.0      0.0 NaN    0.0   \n",
       "2057                 Total       0.0      0.0 NaN    0.0   \n",
       "2058  Electionwide - Total  522265.0  32912.0 NaN  114.0   \n",
       "2059            Cumulative       NaN      NaN NaN    NaN   \n",
       "\n",
       "                                                                              \n",
       "0               Countywide       NaN     NaN       NaN     NaN       NaN NaN  \n",
       "1             Electionwide       NaN     NaN       NaN     NaN       NaN NaN  \n",
       "2                 PCT 1101       NaN     NaN       NaN     NaN       NaN NaN  \n",
       "3             Election Day      31.0  35.63%      56.0  64.37%      87.0 NaN  \n",
       "4             Vote by Mail     201.0  38.95%     315.0  61.05%     516.0 NaN  \n",
       "...                    ...       ...     ...       ...     ...       ...  ..  \n",
       "2055          Election Day       0.0     NaN       0.0     NaN       0.0 NaN  \n",
       "2056          Vote by Mail       0.0     NaN       0.0     NaN       0.0 NaN  \n",
       "2057                 Total       0.0     NaN       0.0     NaN       0.0 NaN  \n",
       "2058  Electionwide - Total  206042.0  54.73%  170447.0  45.27%  376489.0 NaN  \n",
       "2059            Cumulative       NaN     NaN       NaN     NaN       NaN NaN  \n",
       "\n",
       "[2060 rows x 12 columns]"
      ]
     },
     "execution_count": 48,
     "metadata": {},
     "output_type": "execute_result"
    }
   ],
   "source": [
    "dfK"
   ]
  },
  {
   "cell_type": "markdown",
   "metadata": {},
   "source": [
    "# Prepping gdf"
   ]
  },
  {
   "cell_type": "code",
   "execution_count": 49,
   "metadata": {
    "execution": {
     "iopub.execute_input": "2025-09-16T20:41:37.571909Z",
     "iopub.status.busy": "2025-09-16T20:41:37.571747Z",
     "iopub.status.idle": "2025-09-16T20:41:37.575711Z",
     "shell.execute_reply": "2025-09-16T20:41:37.575142Z"
    }
   },
   "outputs": [],
   "source": [
    "gdf = gdf[['Prec_2022','geometry']]\n",
    "gdf.Prec_2022 = gdf.Prec_2022.astype(str)"
   ]
  },
  {
   "cell_type": "code",
   "execution_count": 50,
   "metadata": {
    "execution": {
     "iopub.execute_input": "2025-09-16T20:41:37.577200Z",
     "iopub.status.busy": "2025-09-16T20:41:37.577040Z",
     "iopub.status.idle": "2025-09-16T20:41:37.583926Z",
     "shell.execute_reply": "2025-09-16T20:41:37.583358Z"
    }
   },
   "outputs": [
    {
     "data": {
      "text/html": [
       "<div>\n",
       "<style scoped>\n",
       "    .dataframe tbody tr th:only-of-type {\n",
       "        vertical-align: middle;\n",
       "    }\n",
       "\n",
       "    .dataframe tbody tr th {\n",
       "        vertical-align: top;\n",
       "    }\n",
       "\n",
       "    .dataframe thead th {\n",
       "        text-align: right;\n",
       "    }\n",
       "</style>\n",
       "<table border=\"1\" class=\"dataframe\">\n",
       "  <thead>\n",
       "    <tr style=\"text-align: right;\">\n",
       "      <th></th>\n",
       "      <th>Prec_2022</th>\n",
       "      <th>geometry</th>\n",
       "    </tr>\n",
       "  </thead>\n",
       "  <tbody>\n",
       "    <tr>\n",
       "      <th>0</th>\n",
       "      <td>7042</td>\n",
       "      <td>POLYGON ((-122.42165 37.71029, -122.421 37.710...</td>\n",
       "    </tr>\n",
       "    <tr>\n",
       "      <th>1</th>\n",
       "      <td>1107</td>\n",
       "      <td>POLYGON ((-122.45595 37.71134, -122.45593 37.7...</td>\n",
       "    </tr>\n",
       "    <tr>\n",
       "      <th>2</th>\n",
       "      <td>1145</td>\n",
       "      <td>POLYGON ((-122.44617 37.71104, -122.4455 37.70...</td>\n",
       "    </tr>\n",
       "    <tr>\n",
       "      <th>3</th>\n",
       "      <td>7043</td>\n",
       "      <td>POLYGON ((-122.41508 37.71166, -122.41289 37.7...</td>\n",
       "    </tr>\n",
       "    <tr>\n",
       "      <th>4</th>\n",
       "      <td>7046</td>\n",
       "      <td>POLYGON ((-122.40973 37.71195, -122.40883 37.7...</td>\n",
       "    </tr>\n",
       "    <tr>\n",
       "      <th>...</th>\n",
       "      <td>...</td>\n",
       "      <td>...</td>\n",
       "    </tr>\n",
       "    <tr>\n",
       "      <th>509</th>\n",
       "      <td>9201</td>\n",
       "      <td>POLYGON ((-122.47754 37.81011, -122.4775 37.80...</td>\n",
       "    </tr>\n",
       "    <tr>\n",
       "      <th>510</th>\n",
       "      <td>9202</td>\n",
       "      <td>POLYGON ((-122.47725 37.81102, -122.47711 37.8...</td>\n",
       "    </tr>\n",
       "    <tr>\n",
       "      <th>511</th>\n",
       "      <td>7301</td>\n",
       "      <td>POLYGON ((-122.41991 37.81163, -122.4199 37.81...</td>\n",
       "    </tr>\n",
       "    <tr>\n",
       "      <th>512</th>\n",
       "      <td>7645</td>\n",
       "      <td>POLYGON ((-122.36862 37.83116, -122.36733 37.8...</td>\n",
       "    </tr>\n",
       "    <tr>\n",
       "      <th>513</th>\n",
       "      <td>9904</td>\n",
       "      <td>POLYGON ((-122.42014 37.86316, -122.42009 37.8...</td>\n",
       "    </tr>\n",
       "  </tbody>\n",
       "</table>\n",
       "<p>514 rows × 2 columns</p>\n",
       "</div>"
      ],
      "text/plain": [
       "    Prec_2022                                           geometry\n",
       "0        7042  POLYGON ((-122.42165 37.71029, -122.421 37.710...\n",
       "1        1107  POLYGON ((-122.45595 37.71134, -122.45593 37.7...\n",
       "2        1145  POLYGON ((-122.44617 37.71104, -122.4455 37.70...\n",
       "3        7043  POLYGON ((-122.41508 37.71166, -122.41289 37.7...\n",
       "4        7046  POLYGON ((-122.40973 37.71195, -122.40883 37.7...\n",
       "..        ...                                                ...\n",
       "509      9201  POLYGON ((-122.47754 37.81011, -122.4775 37.80...\n",
       "510      9202  POLYGON ((-122.47725 37.81102, -122.47711 37.8...\n",
       "511      7301  POLYGON ((-122.41991 37.81163, -122.4199 37.81...\n",
       "512      7645  POLYGON ((-122.36862 37.83116, -122.36733 37.8...\n",
       "513      9904  POLYGON ((-122.42014 37.86316, -122.42009 37.8...\n",
       "\n",
       "[514 rows x 2 columns]"
      ]
     },
     "execution_count": 50,
     "metadata": {},
     "output_type": "execute_result"
    }
   ],
   "source": [
    "gdf"
   ]
  },
  {
   "cell_type": "code",
   "execution_count": 51,
   "metadata": {
    "execution": {
     "iopub.execute_input": "2025-09-16T20:41:37.585375Z",
     "iopub.status.busy": "2025-09-16T20:41:37.585213Z",
     "iopub.status.idle": "2025-09-16T20:41:37.589094Z",
     "shell.execute_reply": "2025-09-16T20:41:37.588630Z"
    }
   },
   "outputs": [],
   "source": [
    "groupings = {\n",
    "    \"9401\": [\"9401\", \"9402\"], \n",
    "    \"9403\": [\"9403\", \"9411\"],\n",
    "    \"9404\": [\"9404\", \"9405\", \"9412\"],\n",
    "    \"9406\": [\"9406\", \"9407\"],\n",
    "    \"9408\": [\"9408\", \"9409\", \"9416\"],\n",
    "    \"9413\": [\"9413\", \"9418\", \"9419\"], \n",
    "    \"9414\": [\"9414\", \"9415\"],\n",
    "    \"9417\": [\"9417\", \"9424\"],\n",
    "    \"9421\": [\"9421\", \"9422\"], \n",
    "    \"9423\": [\"9423\", \"9428\"], \n",
    "    \"9425\": [\"9425\", \"9426\", \"9431\"],\n",
    "    \"9427\": [\"9427\", \"9433\", \"9434\"],\n",
    "    \"9429\": [\"9429\", \"9436\", \"9438\"], \n",
    "    \"9432\": [\"9432\", \"9441\"], \n",
    "    \"9435\": [\"9435\", \"9443\"],\n",
    "    \"9437\": [\"9437\", \"9444\", \"9445\"],\n",
    "    \"9439\": [\"9439\",\"9446\"], \n",
    "    \"9442\": [\"9442\", \"9447\", \"9448\"],\n",
    "    \"9449\": [\"9449\"],\n",
    "    \"9451\": [\"9451\", \"9452\"]\n",
    "}"
   ]
  },
  {
   "cell_type": "code",
   "execution_count": 52,
   "metadata": {
    "execution": {
     "iopub.execute_input": "2025-09-16T20:41:37.590577Z",
     "iopub.status.busy": "2025-09-16T20:41:37.590405Z",
     "iopub.status.idle": "2025-09-16T20:41:37.625127Z",
     "shell.execute_reply": "2025-09-16T20:41:37.624689Z"
    }
   },
   "outputs": [
    {
     "data": {
      "text/html": [
       "<div>\n",
       "<style scoped>\n",
       "    .dataframe tbody tr th:only-of-type {\n",
       "        vertical-align: middle;\n",
       "    }\n",
       "\n",
       "    .dataframe tbody tr th {\n",
       "        vertical-align: top;\n",
       "    }\n",
       "\n",
       "    .dataframe thead th {\n",
       "        text-align: right;\n",
       "    }\n",
       "</style>\n",
       "<table border=\"1\" class=\"dataframe\">\n",
       "  <thead>\n",
       "    <tr style=\"text-align: right;\">\n",
       "      <th></th>\n",
       "      <th>precinct</th>\n",
       "      <th>geometry</th>\n",
       "      <th>Prec_2022</th>\n",
       "    </tr>\n",
       "  </thead>\n",
       "  <tbody>\n",
       "    <tr>\n",
       "      <th>0</th>\n",
       "      <td>1101</td>\n",
       "      <td>POLYGON ((-122.47167 37.72163, -122.47078 37.7...</td>\n",
       "      <td>1101</td>\n",
       "    </tr>\n",
       "    <tr>\n",
       "      <th>1</th>\n",
       "      <td>1102</td>\n",
       "      <td>POLYGON ((-122.46802 37.7161, -122.468 37.7142...</td>\n",
       "      <td>1102</td>\n",
       "    </tr>\n",
       "    <tr>\n",
       "      <th>2</th>\n",
       "      <td>1103</td>\n",
       "      <td>POLYGON ((-122.46625 37.71968, -122.46715 37.7...</td>\n",
       "      <td>1103</td>\n",
       "    </tr>\n",
       "    <tr>\n",
       "      <th>3</th>\n",
       "      <td>1104</td>\n",
       "      <td>POLYGON ((-122.46266 37.72, -122.46267 37.7199...</td>\n",
       "      <td>1104</td>\n",
       "    </tr>\n",
       "    <tr>\n",
       "      <th>4</th>\n",
       "      <td>1105</td>\n",
       "      <td>POLYGON ((-122.46263 37.71742, -122.46262 37.7...</td>\n",
       "      <td>1105</td>\n",
       "    </tr>\n",
       "    <tr>\n",
       "      <th>...</th>\n",
       "      <td>...</td>\n",
       "      <td>...</td>\n",
       "      <td>...</td>\n",
       "    </tr>\n",
       "    <tr>\n",
       "      <th>482</th>\n",
       "      <td>9808</td>\n",
       "      <td>POLYGON ((-122.44106 37.73497, -122.44031 37.7...</td>\n",
       "      <td>9808</td>\n",
       "    </tr>\n",
       "    <tr>\n",
       "      <th>483</th>\n",
       "      <td>9901</td>\n",
       "      <td>POLYGON ((-122.43251 37.73311, -122.43233 37.7...</td>\n",
       "      <td>9901</td>\n",
       "    </tr>\n",
       "    <tr>\n",
       "      <th>484</th>\n",
       "      <td>9902</td>\n",
       "      <td>POLYGON ((-122.40396 37.73161, -122.4034 37.73...</td>\n",
       "      <td>9902</td>\n",
       "    </tr>\n",
       "    <tr>\n",
       "      <th>485</th>\n",
       "      <td>9903</td>\n",
       "      <td>POLYGON ((-122.33081 37.78579, -122.33061 37.7...</td>\n",
       "      <td>9903</td>\n",
       "    </tr>\n",
       "    <tr>\n",
       "      <th>486</th>\n",
       "      <td>9904</td>\n",
       "      <td>POLYGON ((-122.42014 37.86316, -122.42009 37.8...</td>\n",
       "      <td>9904</td>\n",
       "    </tr>\n",
       "  </tbody>\n",
       "</table>\n",
       "<p>487 rows × 3 columns</p>\n",
       "</div>"
      ],
      "text/plain": [
       "    precinct                                           geometry Prec_2022\n",
       "0       1101  POLYGON ((-122.47167 37.72163, -122.47078 37.7...      1101\n",
       "1       1102  POLYGON ((-122.46802 37.7161, -122.468 37.7142...      1102\n",
       "2       1103  POLYGON ((-122.46625 37.71968, -122.46715 37.7...      1103\n",
       "3       1104  POLYGON ((-122.46266 37.72, -122.46267 37.7199...      1104\n",
       "4       1105  POLYGON ((-122.46263 37.71742, -122.46262 37.7...      1105\n",
       "..       ...                                                ...       ...\n",
       "482     9808  POLYGON ((-122.44106 37.73497, -122.44031 37.7...      9808\n",
       "483     9901  POLYGON ((-122.43251 37.73311, -122.43233 37.7...      9901\n",
       "484     9902  POLYGON ((-122.40396 37.73161, -122.4034 37.73...      9902\n",
       "485     9903  POLYGON ((-122.33081 37.78579, -122.33061 37.7...      9903\n",
       "486     9904  POLYGON ((-122.42014 37.86316, -122.42009 37.8...      9904\n",
       "\n",
       "[487 rows x 3 columns]"
      ]
     },
     "execution_count": 52,
     "metadata": {},
     "output_type": "execute_result"
    }
   ],
   "source": [
    "# I want to merge the precincts in gdf based on the groupings above. The new precinct column should be the key of the groupings dict\n",
    "\n",
    "gdf['precinct'] = gdf['Prec_2022'].astype(str)\n",
    "\n",
    "gdf['precinct'] = gdf['precinct'].apply(lambda x: next((key for key, values in groupings.items() if x in values), x))\n",
    "\n",
    "gdf = gdf.dissolve(by='precinct', as_index=False).reset_index(drop=True)\n",
    "\n",
    "gdf"
   ]
  },
  {
   "cell_type": "code",
   "execution_count": 53,
   "metadata": {
    "execution": {
     "iopub.execute_input": "2025-09-16T20:41:37.626573Z",
     "iopub.status.busy": "2025-09-16T20:41:37.626395Z",
     "iopub.status.idle": "2025-09-16T20:41:37.707015Z",
     "shell.execute_reply": "2025-09-16T20:41:37.706480Z"
    }
   },
   "outputs": [],
   "source": [
    "# export to geojson\n",
    "\n",
    "gdf.to_file(\"sf_precincts_merged.geojson\", driver='GeoJSON', encoding='utf-8')"
   ]
  },
  {
   "cell_type": "markdown",
   "metadata": {},
   "source": [
    "# Merging"
   ]
  },
  {
   "cell_type": "code",
   "execution_count": 54,
   "metadata": {
    "execution": {
     "iopub.execute_input": "2025-09-16T20:41:37.708931Z",
     "iopub.status.busy": "2025-09-16T20:41:37.708774Z",
     "iopub.status.idle": "2025-09-16T20:41:37.711728Z",
     "shell.execute_reply": "2025-09-16T20:41:37.711230Z"
    }
   },
   "outputs": [],
   "source": [
    "# make dfTurnout yes_perc a string too\n",
    "\n",
    "dfTurnout['yes_perc'] = dfTurnout['yes_perc'].astype(str)"
   ]
  },
  {
   "cell_type": "code",
   "execution_count": 55,
   "metadata": {
    "execution": {
     "iopub.execute_input": "2025-09-16T20:41:37.713137Z",
     "iopub.status.busy": "2025-09-16T20:41:37.712991Z",
     "iopub.status.idle": "2025-09-16T20:41:37.720100Z",
     "shell.execute_reply": "2025-09-16T20:41:37.719661Z"
    }
   },
   "outputs": [
    {
     "data": {
      "text/html": [
       "<div>\n",
       "<style scoped>\n",
       "    .dataframe tbody tr th:only-of-type {\n",
       "        vertical-align: middle;\n",
       "    }\n",
       "\n",
       "    .dataframe tbody tr th {\n",
       "        vertical-align: top;\n",
       "    }\n",
       "\n",
       "    .dataframe thead th {\n",
       "        text-align: right;\n",
       "    }\n",
       "</style>\n",
       "<table border=\"1\" class=\"dataframe\">\n",
       "  <thead>\n",
       "    <tr style=\"text-align: right;\">\n",
       "      <th></th>\n",
       "      <th>precinct</th>\n",
       "      <th>registered_voters</th>\n",
       "      <th>votes_cast</th>\n",
       "      <th>turnout</th>\n",
       "      <th>yes_perc</th>\n",
       "    </tr>\n",
       "  </thead>\n",
       "  <tbody>\n",
       "    <tr>\n",
       "      <th>5</th>\n",
       "      <td>9401</td>\n",
       "      <td>2566</td>\n",
       "      <td>438</td>\n",
       "      <td>17.1</td>\n",
       "      <td>Less than 25%</td>\n",
       "    </tr>\n",
       "    <tr>\n",
       "      <th>9</th>\n",
       "      <td>9403</td>\n",
       "      <td>2247</td>\n",
       "      <td>873</td>\n",
       "      <td>38.9</td>\n",
       "      <td>35-40%</td>\n",
       "    </tr>\n",
       "    <tr>\n",
       "      <th>13</th>\n",
       "      <td>9404</td>\n",
       "      <td>3243</td>\n",
       "      <td>3001</td>\n",
       "      <td>92.5</td>\n",
       "      <td>75% and more</td>\n",
       "    </tr>\n",
       "    <tr>\n",
       "      <th>17</th>\n",
       "      <td>9406</td>\n",
       "      <td>2415</td>\n",
       "      <td>2287</td>\n",
       "      <td>94.7</td>\n",
       "      <td>75% and more</td>\n",
       "    </tr>\n",
       "    <tr>\n",
       "      <th>21</th>\n",
       "      <td>9408</td>\n",
       "      <td>2979</td>\n",
       "      <td>1647</td>\n",
       "      <td>55.3</td>\n",
       "      <td>55-60%</td>\n",
       "    </tr>\n",
       "    <tr>\n",
       "      <th>25</th>\n",
       "      <td>9413</td>\n",
       "      <td>3296</td>\n",
       "      <td>176</td>\n",
       "      <td>5.3</td>\n",
       "      <td>Less than 25%</td>\n",
       "    </tr>\n",
       "    <tr>\n",
       "      <th>29</th>\n",
       "      <td>9414</td>\n",
       "      <td>2227</td>\n",
       "      <td>399</td>\n",
       "      <td>17.9</td>\n",
       "      <td>Less than 25%</td>\n",
       "    </tr>\n",
       "    <tr>\n",
       "      <th>33</th>\n",
       "      <td>9417</td>\n",
       "      <td>2211</td>\n",
       "      <td>1929</td>\n",
       "      <td>87.2</td>\n",
       "      <td>75% and more</td>\n",
       "    </tr>\n",
       "    <tr>\n",
       "      <th>37</th>\n",
       "      <td>9421</td>\n",
       "      <td>2106</td>\n",
       "      <td>2002</td>\n",
       "      <td>95.1</td>\n",
       "      <td>75% and more</td>\n",
       "    </tr>\n",
       "    <tr>\n",
       "      <th>41</th>\n",
       "      <td>9423</td>\n",
       "      <td>2363</td>\n",
       "      <td>1275</td>\n",
       "      <td>54.0</td>\n",
       "      <td>50-55%</td>\n",
       "    </tr>\n",
       "    <tr>\n",
       "      <th>45</th>\n",
       "      <td>9425</td>\n",
       "      <td>2761</td>\n",
       "      <td>2039</td>\n",
       "      <td>73.9</td>\n",
       "      <td>70-75%</td>\n",
       "    </tr>\n",
       "    <tr>\n",
       "      <th>49</th>\n",
       "      <td>9427</td>\n",
       "      <td>3041</td>\n",
       "      <td>2998</td>\n",
       "      <td>98.6</td>\n",
       "      <td>75% and more</td>\n",
       "    </tr>\n",
       "    <tr>\n",
       "      <th>53</th>\n",
       "      <td>9429</td>\n",
       "      <td>3029</td>\n",
       "      <td>1767</td>\n",
       "      <td>58.3</td>\n",
       "      <td>55-60%</td>\n",
       "    </tr>\n",
       "    <tr>\n",
       "      <th>57</th>\n",
       "      <td>9432</td>\n",
       "      <td>2164</td>\n",
       "      <td>409</td>\n",
       "      <td>18.9</td>\n",
       "      <td>Less than 25%</td>\n",
       "    </tr>\n",
       "    <tr>\n",
       "      <th>61</th>\n",
       "      <td>9435</td>\n",
       "      <td>2214</td>\n",
       "      <td>1057</td>\n",
       "      <td>47.7</td>\n",
       "      <td>45-50%</td>\n",
       "    </tr>\n",
       "    <tr>\n",
       "      <th>65</th>\n",
       "      <td>9437</td>\n",
       "      <td>3233</td>\n",
       "      <td>756</td>\n",
       "      <td>23.4</td>\n",
       "      <td>Less than 25%</td>\n",
       "    </tr>\n",
       "    <tr>\n",
       "      <th>69</th>\n",
       "      <td>9439</td>\n",
       "      <td>2006</td>\n",
       "      <td>770</td>\n",
       "      <td>38.4</td>\n",
       "      <td>35-40%</td>\n",
       "    </tr>\n",
       "    <tr>\n",
       "      <th>73</th>\n",
       "      <td>9442</td>\n",
       "      <td>3195</td>\n",
       "      <td>1750</td>\n",
       "      <td>54.8</td>\n",
       "      <td>50-55%</td>\n",
       "    </tr>\n",
       "    <tr>\n",
       "      <th>77</th>\n",
       "      <td>9449</td>\n",
       "      <td>594</td>\n",
       "      <td>102</td>\n",
       "      <td>17.2</td>\n",
       "      <td>Less than 25%</td>\n",
       "    </tr>\n",
       "    <tr>\n",
       "      <th>81</th>\n",
       "      <td>9451</td>\n",
       "      <td>2383</td>\n",
       "      <td>1549</td>\n",
       "      <td>65.0</td>\n",
       "      <td>65-70%</td>\n",
       "    </tr>\n",
       "  </tbody>\n",
       "</table>\n",
       "</div>"
      ],
      "text/plain": [
       "   precinct  registered_voters  votes_cast  turnout       yes_perc\n",
       "5      9401               2566         438     17.1  Less than 25%\n",
       "9      9403               2247         873     38.9         35-40%\n",
       "13     9404               3243        3001     92.5   75% and more\n",
       "17     9406               2415        2287     94.7   75% and more\n",
       "21     9408               2979        1647     55.3         55-60%\n",
       "25     9413               3296         176      5.3  Less than 25%\n",
       "29     9414               2227         399     17.9  Less than 25%\n",
       "33     9417               2211        1929     87.2   75% and more\n",
       "37     9421               2106        2002     95.1   75% and more\n",
       "41     9423               2363        1275     54.0         50-55%\n",
       "45     9425               2761        2039     73.9         70-75%\n",
       "49     9427               3041        2998     98.6   75% and more\n",
       "53     9429               3029        1767     58.3         55-60%\n",
       "57     9432               2164         409     18.9  Less than 25%\n",
       "61     9435               2214        1057     47.7         45-50%\n",
       "65     9437               3233         756     23.4  Less than 25%\n",
       "69     9439               2006         770     38.4         35-40%\n",
       "73     9442               3195        1750     54.8         50-55%\n",
       "77     9449                594         102     17.2  Less than 25%\n",
       "81     9451               2383        1549     65.0         65-70%"
      ]
     },
     "execution_count": 55,
     "metadata": {},
     "output_type": "execute_result"
    }
   ],
   "source": [
    "dfTurnout"
   ]
  },
  {
   "cell_type": "code",
   "execution_count": 56,
   "metadata": {
    "execution": {
     "iopub.execute_input": "2025-09-16T20:41:37.721514Z",
     "iopub.status.busy": "2025-09-16T20:41:37.721338Z",
     "iopub.status.idle": "2025-09-16T20:41:37.728077Z",
     "shell.execute_reply": "2025-09-16T20:41:37.727526Z"
    }
   },
   "outputs": [
    {
     "data": {
      "text/html": [
       "<div>\n",
       "<style scoped>\n",
       "    .dataframe tbody tr th:only-of-type {\n",
       "        vertical-align: middle;\n",
       "    }\n",
       "\n",
       "    .dataframe tbody tr th {\n",
       "        vertical-align: top;\n",
       "    }\n",
       "\n",
       "    .dataframe thead th {\n",
       "        text-align: right;\n",
       "    }\n",
       "</style>\n",
       "<table border=\"1\" class=\"dataframe\">\n",
       "  <thead>\n",
       "    <tr style=\"text-align: right;\">\n",
       "      <th></th>\n",
       "      <th>precinct</th>\n",
       "      <th>geometry</th>\n",
       "      <th>Prec_2022</th>\n",
       "    </tr>\n",
       "  </thead>\n",
       "  <tbody>\n",
       "    <tr>\n",
       "      <th>0</th>\n",
       "      <td>1101</td>\n",
       "      <td>POLYGON ((-122.47167 37.72163, -122.47078 37.7...</td>\n",
       "      <td>1101</td>\n",
       "    </tr>\n",
       "    <tr>\n",
       "      <th>1</th>\n",
       "      <td>1102</td>\n",
       "      <td>POLYGON ((-122.46802 37.7161, -122.468 37.7142...</td>\n",
       "      <td>1102</td>\n",
       "    </tr>\n",
       "    <tr>\n",
       "      <th>2</th>\n",
       "      <td>1103</td>\n",
       "      <td>POLYGON ((-122.46625 37.71968, -122.46715 37.7...</td>\n",
       "      <td>1103</td>\n",
       "    </tr>\n",
       "    <tr>\n",
       "      <th>3</th>\n",
       "      <td>1104</td>\n",
       "      <td>POLYGON ((-122.46266 37.72, -122.46267 37.7199...</td>\n",
       "      <td>1104</td>\n",
       "    </tr>\n",
       "    <tr>\n",
       "      <th>4</th>\n",
       "      <td>1105</td>\n",
       "      <td>POLYGON ((-122.46263 37.71742, -122.46262 37.7...</td>\n",
       "      <td>1105</td>\n",
       "    </tr>\n",
       "    <tr>\n",
       "      <th>...</th>\n",
       "      <td>...</td>\n",
       "      <td>...</td>\n",
       "      <td>...</td>\n",
       "    </tr>\n",
       "    <tr>\n",
       "      <th>482</th>\n",
       "      <td>9808</td>\n",
       "      <td>POLYGON ((-122.44106 37.73497, -122.44031 37.7...</td>\n",
       "      <td>9808</td>\n",
       "    </tr>\n",
       "    <tr>\n",
       "      <th>483</th>\n",
       "      <td>9901</td>\n",
       "      <td>POLYGON ((-122.43251 37.73311, -122.43233 37.7...</td>\n",
       "      <td>9901</td>\n",
       "    </tr>\n",
       "    <tr>\n",
       "      <th>484</th>\n",
       "      <td>9902</td>\n",
       "      <td>POLYGON ((-122.40396 37.73161, -122.4034 37.73...</td>\n",
       "      <td>9902</td>\n",
       "    </tr>\n",
       "    <tr>\n",
       "      <th>485</th>\n",
       "      <td>9903</td>\n",
       "      <td>POLYGON ((-122.33081 37.78579, -122.33061 37.7...</td>\n",
       "      <td>9903</td>\n",
       "    </tr>\n",
       "    <tr>\n",
       "      <th>486</th>\n",
       "      <td>9904</td>\n",
       "      <td>POLYGON ((-122.42014 37.86316, -122.42009 37.8...</td>\n",
       "      <td>9904</td>\n",
       "    </tr>\n",
       "  </tbody>\n",
       "</table>\n",
       "<p>487 rows × 3 columns</p>\n",
       "</div>"
      ],
      "text/plain": [
       "    precinct                                           geometry Prec_2022\n",
       "0       1101  POLYGON ((-122.47167 37.72163, -122.47078 37.7...      1101\n",
       "1       1102  POLYGON ((-122.46802 37.7161, -122.468 37.7142...      1102\n",
       "2       1103  POLYGON ((-122.46625 37.71968, -122.46715 37.7...      1103\n",
       "3       1104  POLYGON ((-122.46266 37.72, -122.46267 37.7199...      1104\n",
       "4       1105  POLYGON ((-122.46263 37.71742, -122.46262 37.7...      1105\n",
       "..       ...                                                ...       ...\n",
       "482     9808  POLYGON ((-122.44106 37.73497, -122.44031 37.7...      9808\n",
       "483     9901  POLYGON ((-122.43251 37.73311, -122.43233 37.7...      9901\n",
       "484     9902  POLYGON ((-122.40396 37.73161, -122.4034 37.73...      9902\n",
       "485     9903  POLYGON ((-122.33081 37.78579, -122.33061 37.7...      9903\n",
       "486     9904  POLYGON ((-122.42014 37.86316, -122.42009 37.8...      9904\n",
       "\n",
       "[487 rows x 3 columns]"
      ]
     },
     "execution_count": 56,
     "metadata": {},
     "output_type": "execute_result"
    }
   ],
   "source": [
    "gdf"
   ]
  },
  {
   "cell_type": "code",
   "execution_count": 57,
   "metadata": {
    "execution": {
     "iopub.execute_input": "2025-09-16T20:41:37.729667Z",
     "iopub.status.busy": "2025-09-16T20:41:37.729500Z",
     "iopub.status.idle": "2025-09-16T20:41:37.735558Z",
     "shell.execute_reply": "2025-09-16T20:41:37.734980Z"
    }
   },
   "outputs": [],
   "source": [
    "dfTurnout = gdf.merge(dfTurnout, right_on='precinct', left_on='precinct')\n",
    "dfTurnout = dfTurnout[['precinct','registered_voters','votes_cast','yes_perc','turnout','geometry']]\n",
    "gdfTurnout = GeoDataFrame(dfTurnout, crs=\"EPSG:4269\", geometry='geometry')"
   ]
  },
  {
   "cell_type": "code",
   "execution_count": 58,
   "metadata": {
    "execution": {
     "iopub.execute_input": "2025-09-16T20:41:37.737074Z",
     "iopub.status.busy": "2025-09-16T20:41:37.736922Z",
     "iopub.status.idle": "2025-09-16T20:41:37.741168Z",
     "shell.execute_reply": "2025-09-16T20:41:37.740637Z"
    }
   },
   "outputs": [
    {
     "data": {
      "text/plain": [
       "     object\n",
       "    float64\n",
       "    float64\n",
       "    float64\n",
       "    float64\n",
       "     object\n",
       "    float64\n",
       "    float64\n",
       "    float64\n",
       "    float64\n",
       "    float64\n",
       "    float64\n",
       "dtype: object"
      ]
     },
     "execution_count": 58,
     "metadata": {},
     "output_type": "execute_result"
    }
   ],
   "source": [
    "dfA.dtypes"
   ]
  },
  {
   "cell_type": "code",
   "execution_count": 59,
   "metadata": {
    "execution": {
     "iopub.execute_input": "2025-09-16T20:41:37.742686Z",
     "iopub.status.busy": "2025-09-16T20:41:37.742533Z",
     "iopub.status.idle": "2025-09-16T20:41:37.811683Z",
     "shell.execute_reply": "2025-09-16T20:41:37.811180Z"
    }
   },
   "outputs": [
    {
     "ename": "KeyError",
     "evalue": "'precinct'",
     "output_type": "error",
     "traceback": [
      "\u001b[31m---------------------------------------------------------------------------\u001b[39m",
      "\u001b[31mKeyError\u001b[39m                                  Traceback (most recent call last)",
      "\u001b[36mFile \u001b[39m\u001b[32m/opt/hostedtoolcache/Python/3.11.13/x64/lib/python3.11/site-packages/pandas/core/indexes/base.py:3812\u001b[39m, in \u001b[36mIndex.get_loc\u001b[39m\u001b[34m(self, key)\u001b[39m\n\u001b[32m   3811\u001b[39m \u001b[38;5;28;01mtry\u001b[39;00m:\n\u001b[32m-> \u001b[39m\u001b[32m3812\u001b[39m     \u001b[38;5;28;01mreturn\u001b[39;00m \u001b[38;5;28;43mself\u001b[39;49m\u001b[43m.\u001b[49m\u001b[43m_engine\u001b[49m\u001b[43m.\u001b[49m\u001b[43mget_loc\u001b[49m\u001b[43m(\u001b[49m\u001b[43mcasted_key\u001b[49m\u001b[43m)\u001b[49m\n\u001b[32m   3813\u001b[39m \u001b[38;5;28;01mexcept\u001b[39;00m \u001b[38;5;167;01mKeyError\u001b[39;00m \u001b[38;5;28;01mas\u001b[39;00m err:\n",
      "\u001b[36mFile \u001b[39m\u001b[32mpandas/_libs/index.pyx:167\u001b[39m, in \u001b[36mpandas._libs.index.IndexEngine.get_loc\u001b[39m\u001b[34m()\u001b[39m\n",
      "\u001b[36mFile \u001b[39m\u001b[32mpandas/_libs/index.pyx:191\u001b[39m, in \u001b[36mpandas._libs.index.IndexEngine.get_loc\u001b[39m\u001b[34m()\u001b[39m\n",
      "\u001b[36mFile \u001b[39m\u001b[32mpandas/_libs/index.pyx:228\u001b[39m, in \u001b[36mpandas._libs.index.IndexEngine._get_loc_duplicates\u001b[39m\u001b[34m()\u001b[39m\n",
      "\u001b[31mKeyError\u001b[39m: 'precinct'",
      "\nThe above exception was the direct cause of the following exception:\n",
      "\u001b[31mKeyError\u001b[39m                                  Traceback (most recent call last)",
      "\u001b[36mCell\u001b[39m\u001b[36m \u001b[39m\u001b[32mIn[59]\u001b[39m\u001b[32m, line 3\u001b[39m\n\u001b[32m      1\u001b[39m \u001b[38;5;66;03m# make dfA precinct string\u001b[39;00m\n\u001b[32m----> \u001b[39m\u001b[32m3\u001b[39m dfA[\u001b[33m'\u001b[39m\u001b[33mprecinct\u001b[39m\u001b[33m'\u001b[39m] = \u001b[43mdfA\u001b[49m\u001b[43m[\u001b[49m\u001b[33;43m'\u001b[39;49m\u001b[33;43mprecinct\u001b[39;49m\u001b[33;43m'\u001b[39;49m\u001b[43m]\u001b[49m.astype(\u001b[38;5;28mstr\u001b[39m)\n",
      "\u001b[36mFile \u001b[39m\u001b[32m/opt/hostedtoolcache/Python/3.11.13/x64/lib/python3.11/site-packages/pandas/core/frame.py:4107\u001b[39m, in \u001b[36mDataFrame.__getitem__\u001b[39m\u001b[34m(self, key)\u001b[39m\n\u001b[32m   4105\u001b[39m \u001b[38;5;28;01mif\u001b[39;00m \u001b[38;5;28mself\u001b[39m.columns.nlevels > \u001b[32m1\u001b[39m:\n\u001b[32m   4106\u001b[39m     \u001b[38;5;28;01mreturn\u001b[39;00m \u001b[38;5;28mself\u001b[39m._getitem_multilevel(key)\n\u001b[32m-> \u001b[39m\u001b[32m4107\u001b[39m indexer = \u001b[38;5;28;43mself\u001b[39;49m\u001b[43m.\u001b[49m\u001b[43mcolumns\u001b[49m\u001b[43m.\u001b[49m\u001b[43mget_loc\u001b[49m\u001b[43m(\u001b[49m\u001b[43mkey\u001b[49m\u001b[43m)\u001b[49m\n\u001b[32m   4108\u001b[39m \u001b[38;5;28;01mif\u001b[39;00m is_integer(indexer):\n\u001b[32m   4109\u001b[39m     indexer = [indexer]\n",
      "\u001b[36mFile \u001b[39m\u001b[32m/opt/hostedtoolcache/Python/3.11.13/x64/lib/python3.11/site-packages/pandas/core/indexes/base.py:3819\u001b[39m, in \u001b[36mIndex.get_loc\u001b[39m\u001b[34m(self, key)\u001b[39m\n\u001b[32m   3814\u001b[39m     \u001b[38;5;28;01mif\u001b[39;00m \u001b[38;5;28misinstance\u001b[39m(casted_key, \u001b[38;5;28mslice\u001b[39m) \u001b[38;5;129;01mor\u001b[39;00m (\n\u001b[32m   3815\u001b[39m         \u001b[38;5;28misinstance\u001b[39m(casted_key, abc.Iterable)\n\u001b[32m   3816\u001b[39m         \u001b[38;5;129;01mand\u001b[39;00m \u001b[38;5;28many\u001b[39m(\u001b[38;5;28misinstance\u001b[39m(x, \u001b[38;5;28mslice\u001b[39m) \u001b[38;5;28;01mfor\u001b[39;00m x \u001b[38;5;129;01min\u001b[39;00m casted_key)\n\u001b[32m   3817\u001b[39m     ):\n\u001b[32m   3818\u001b[39m         \u001b[38;5;28;01mraise\u001b[39;00m InvalidIndexError(key)\n\u001b[32m-> \u001b[39m\u001b[32m3819\u001b[39m     \u001b[38;5;28;01mraise\u001b[39;00m \u001b[38;5;167;01mKeyError\u001b[39;00m(key) \u001b[38;5;28;01mfrom\u001b[39;00m\u001b[38;5;250m \u001b[39m\u001b[34;01merr\u001b[39;00m\n\u001b[32m   3820\u001b[39m \u001b[38;5;28;01mexcept\u001b[39;00m \u001b[38;5;167;01mTypeError\u001b[39;00m:\n\u001b[32m   3821\u001b[39m     \u001b[38;5;66;03m# If we have a listlike key, _check_indexing_error will raise\u001b[39;00m\n\u001b[32m   3822\u001b[39m     \u001b[38;5;66;03m#  InvalidIndexError. Otherwise we fall through and re-raise\u001b[39;00m\n\u001b[32m   3823\u001b[39m     \u001b[38;5;66;03m#  the TypeError.\u001b[39;00m\n\u001b[32m   3824\u001b[39m     \u001b[38;5;28mself\u001b[39m._check_indexing_error(key)\n",
      "\u001b[31mKeyError\u001b[39m: 'precinct'"
     ]
    }
   ],
   "source": [
    "# make dfA precinct string\n",
    "\n",
    "dfA['precinct'] = dfA['precinct'].astype(str)"
   ]
  },
  {
   "cell_type": "code",
   "execution_count": 60,
   "metadata": {
    "execution": {
     "iopub.execute_input": "2025-09-16T20:41:37.813508Z",
     "iopub.status.busy": "2025-09-16T20:41:37.813327Z",
     "iopub.status.idle": "2025-09-16T20:41:37.843809Z",
     "shell.execute_reply": "2025-09-16T20:41:37.843331Z"
    }
   },
   "outputs": [
    {
     "ename": "KeyError",
     "evalue": "'precinct'",
     "output_type": "error",
     "traceback": [
      "\u001b[31m---------------------------------------------------------------------------\u001b[39m",
      "\u001b[31mKeyError\u001b[39m                                  Traceback (most recent call last)",
      "\u001b[32m/tmp/ipykernel_2198/2625194875.py\u001b[39m in \u001b[36m?\u001b[39m\u001b[34m()\u001b[39m\n\u001b[32m      1\u001b[39m \u001b[38;5;66;03m# merge\u001b[39;00m\n\u001b[32m      2\u001b[39m \n\u001b[32m----> \u001b[39m\u001b[32m3\u001b[39m dfA = gdf.merge(dfA, on=\u001b[33m'precinct'\u001b[39m)\n",
      "\u001b[32m/opt/hostedtoolcache/Python/3.11.13/x64/lib/python3.11/site-packages/pandas/core/frame.py\u001b[39m in \u001b[36m?\u001b[39m\u001b[34m(self, right, how, on, left_on, right_on, left_index, right_index, sort, suffixes, copy, indicator, validate)\u001b[39m\n\u001b[32m  10835\u001b[39m         validate: MergeValidate | \u001b[38;5;28;01mNone\u001b[39;00m = \u001b[38;5;28;01mNone\u001b[39;00m,\n\u001b[32m  10836\u001b[39m     ) -> DataFrame:\n\u001b[32m  10837\u001b[39m         \u001b[38;5;28;01mfrom\u001b[39;00m pandas.core.reshape.merge \u001b[38;5;28;01mimport\u001b[39;00m merge\n\u001b[32m  10838\u001b[39m \n\u001b[32m> \u001b[39m\u001b[32m10839\u001b[39m         return merge(\n\u001b[32m  10840\u001b[39m             self,\n\u001b[32m  10841\u001b[39m             right,\n\u001b[32m  10842\u001b[39m             how=how,\n",
      "\u001b[32m/opt/hostedtoolcache/Python/3.11.13/x64/lib/python3.11/site-packages/pandas/core/reshape/merge.py\u001b[39m in \u001b[36m?\u001b[39m\u001b[34m(left, right, how, on, left_on, right_on, left_index, right_index, sort, suffixes, copy, indicator, validate)\u001b[39m\n\u001b[32m    166\u001b[39m             validate=validate,\n\u001b[32m    167\u001b[39m             copy=copy,\n\u001b[32m    168\u001b[39m         )\n\u001b[32m    169\u001b[39m     \u001b[38;5;28;01melse\u001b[39;00m:\n\u001b[32m--> \u001b[39m\u001b[32m170\u001b[39m         op = _MergeOperation(\n\u001b[32m    171\u001b[39m             left_df,\n\u001b[32m    172\u001b[39m             right_df,\n\u001b[32m    173\u001b[39m             how=how,\n",
      "\u001b[32m/opt/hostedtoolcache/Python/3.11.13/x64/lib/python3.11/site-packages/pandas/core/reshape/merge.py\u001b[39m in \u001b[36m?\u001b[39m\u001b[34m(self, left, right, how, on, left_on, right_on, left_index, right_index, sort, suffixes, indicator, validate)\u001b[39m\n\u001b[32m    790\u001b[39m             self.right_join_keys,\n\u001b[32m    791\u001b[39m             self.join_names,\n\u001b[32m    792\u001b[39m             left_drop,\n\u001b[32m    793\u001b[39m             right_drop,\n\u001b[32m--> \u001b[39m\u001b[32m794\u001b[39m         ) = self._get_merge_keys()\n\u001b[32m    795\u001b[39m \n\u001b[32m    796\u001b[39m         \u001b[38;5;28;01mif\u001b[39;00m left_drop:\n\u001b[32m    797\u001b[39m             self.left = self.left._drop_labels_or_levels(left_drop)\n",
      "\u001b[32m/opt/hostedtoolcache/Python/3.11.13/x64/lib/python3.11/site-packages/pandas/core/reshape/merge.py\u001b[39m in \u001b[36m?\u001b[39m\u001b[34m(self)\u001b[39m\n\u001b[32m   1294\u001b[39m                         \u001b[38;5;66;03m# Then we're either Hashable or a wrong-length arraylike,\u001b[39;00m\n\u001b[32m   1295\u001b[39m                         \u001b[38;5;66;03m#  the latter of which will raise\u001b[39;00m\n\u001b[32m   1296\u001b[39m                         rk = cast(Hashable, rk)\n\u001b[32m   1297\u001b[39m                         \u001b[38;5;28;01mif\u001b[39;00m rk \u001b[38;5;28;01mis\u001b[39;00m \u001b[38;5;28;01mnot\u001b[39;00m \u001b[38;5;28;01mNone\u001b[39;00m:\n\u001b[32m-> \u001b[39m\u001b[32m1298\u001b[39m                             right_keys.append(right._get_label_or_level_values(rk))\n\u001b[32m   1299\u001b[39m                         \u001b[38;5;28;01melse\u001b[39;00m:\n\u001b[32m   1300\u001b[39m                             \u001b[38;5;66;03m# work-around for merge_asof(right_index=True)\u001b[39;00m\n\u001b[32m   1301\u001b[39m                             right_keys.append(right.index._values)\n",
      "\u001b[32m/opt/hostedtoolcache/Python/3.11.13/x64/lib/python3.11/site-packages/pandas/core/generic.py\u001b[39m in \u001b[36m?\u001b[39m\u001b[34m(self, key, axis)\u001b[39m\n\u001b[32m   1907\u001b[39m             values = self.xs(key, axis=other_axes[\u001b[32m0\u001b[39m])._values\n\u001b[32m   1908\u001b[39m         \u001b[38;5;28;01melif\u001b[39;00m self._is_level_reference(key, axis=axis):\n\u001b[32m   1909\u001b[39m             values = self.axes[axis].get_level_values(key)._values\n\u001b[32m   1910\u001b[39m         \u001b[38;5;28;01melse\u001b[39;00m:\n\u001b[32m-> \u001b[39m\u001b[32m1911\u001b[39m             \u001b[38;5;28;01mraise\u001b[39;00m KeyError(key)\n\u001b[32m   1912\u001b[39m \n\u001b[32m   1913\u001b[39m         \u001b[38;5;66;03m# Check for duplicates\u001b[39;00m\n\u001b[32m   1914\u001b[39m         \u001b[38;5;28;01mif\u001b[39;00m values.ndim > \u001b[32m1\u001b[39m:\n",
      "\u001b[31mKeyError\u001b[39m: 'precinct'"
     ]
    }
   ],
   "source": [
    "# merge \n",
    "\n",
    "dfA = gdf.merge(dfA, on='precinct')"
   ]
  },
  {
   "cell_type": "code",
   "execution_count": 61,
   "metadata": {
    "execution": {
     "iopub.execute_input": "2025-09-16T20:41:37.845396Z",
     "iopub.status.busy": "2025-09-16T20:41:37.845233Z",
     "iopub.status.idle": "2025-09-16T20:41:37.848989Z",
     "shell.execute_reply": "2025-09-16T20:41:37.848436Z"
    }
   },
   "outputs": [
    {
     "data": {
      "text/plain": [
       "Index(['', '', '', '', '', '', '', '', '', '', '', ''], dtype='object')"
      ]
     },
     "execution_count": 61,
     "metadata": {},
     "output_type": "execute_result"
    }
   ],
   "source": [
    "dfA.columns"
   ]
  },
  {
   "cell_type": "code",
   "execution_count": 62,
   "metadata": {
    "execution": {
     "iopub.execute_input": "2025-09-16T20:41:37.850469Z",
     "iopub.status.busy": "2025-09-16T20:41:37.850295Z",
     "iopub.status.idle": "2025-09-16T20:41:37.862146Z",
     "shell.execute_reply": "2025-09-16T20:41:37.861620Z"
    }
   },
   "outputs": [
    {
     "data": {
      "text/html": [
       "<div>\n",
       "<style scoped>\n",
       "    .dataframe tbody tr th:only-of-type {\n",
       "        vertical-align: middle;\n",
       "    }\n",
       "\n",
       "    .dataframe tbody tr th {\n",
       "        vertical-align: top;\n",
       "    }\n",
       "\n",
       "    .dataframe thead th {\n",
       "        text-align: right;\n",
       "    }\n",
       "</style>\n",
       "<table border=\"1\" class=\"dataframe\">\n",
       "  <thead>\n",
       "    <tr style=\"text-align: right;\">\n",
       "      <th></th>\n",
       "      <th></th>\n",
       "      <th></th>\n",
       "      <th></th>\n",
       "      <th></th>\n",
       "      <th></th>\n",
       "      <th></th>\n",
       "      <th></th>\n",
       "      <th></th>\n",
       "      <th></th>\n",
       "      <th></th>\n",
       "      <th></th>\n",
       "      <th></th>\n",
       "    </tr>\n",
       "  </thead>\n",
       "  <tbody>\n",
       "    <tr>\n",
       "      <th>0</th>\n",
       "      <td>Electionwide</td>\n",
       "      <td>NaN</td>\n",
       "      <td>NaN</td>\n",
       "      <td>NaN</td>\n",
       "      <td>NaN</td>\n",
       "      <td>Electionwide</td>\n",
       "      <td>NaN</td>\n",
       "      <td>NaN</td>\n",
       "      <td>NaN</td>\n",
       "      <td>NaN</td>\n",
       "      <td>NaN</td>\n",
       "      <td>NaN</td>\n",
       "    </tr>\n",
       "    <tr>\n",
       "      <th>1</th>\n",
       "      <td>Electionwide</td>\n",
       "      <td>NaN</td>\n",
       "      <td>NaN</td>\n",
       "      <td>NaN</td>\n",
       "      <td>NaN</td>\n",
       "      <td>Electionwide</td>\n",
       "      <td>NaN</td>\n",
       "      <td>NaN</td>\n",
       "      <td>NaN</td>\n",
       "      <td>NaN</td>\n",
       "      <td>NaN</td>\n",
       "      <td>NaN</td>\n",
       "    </tr>\n",
       "    <tr>\n",
       "      <th>2</th>\n",
       "      <td>PCT 9401</td>\n",
       "      <td>NaN</td>\n",
       "      <td>NaN</td>\n",
       "      <td>NaN</td>\n",
       "      <td>NaN</td>\n",
       "      <td>PCT 9401</td>\n",
       "      <td>NaN</td>\n",
       "      <td>NaN</td>\n",
       "      <td>NaN</td>\n",
       "      <td>NaN</td>\n",
       "      <td>NaN</td>\n",
       "      <td>NaN</td>\n",
       "    </tr>\n",
       "    <tr>\n",
       "      <th>3</th>\n",
       "      <td>Election Day</td>\n",
       "      <td>2566.0</td>\n",
       "      <td>0.0</td>\n",
       "      <td>NaN</td>\n",
       "      <td>0.0</td>\n",
       "      <td>Election Day</td>\n",
       "      <td>0.0</td>\n",
       "      <td>NaN</td>\n",
       "      <td>0.0</td>\n",
       "      <td>NaN</td>\n",
       "      <td>0.0</td>\n",
       "      <td>NaN</td>\n",
       "    </tr>\n",
       "    <tr>\n",
       "      <th>4</th>\n",
       "      <td>Vote by Mail</td>\n",
       "      <td>2566.0</td>\n",
       "      <td>0.0</td>\n",
       "      <td>NaN</td>\n",
       "      <td>0.0</td>\n",
       "      <td>Vote by Mail</td>\n",
       "      <td>0.0</td>\n",
       "      <td>NaN</td>\n",
       "      <td>0.0</td>\n",
       "      <td>NaN</td>\n",
       "      <td>0.0</td>\n",
       "      <td>NaN</td>\n",
       "    </tr>\n",
       "    <tr>\n",
       "      <th>...</th>\n",
       "      <td>...</td>\n",
       "      <td>...</td>\n",
       "      <td>...</td>\n",
       "      <td>...</td>\n",
       "      <td>...</td>\n",
       "      <td>...</td>\n",
       "      <td>...</td>\n",
       "      <td>...</td>\n",
       "      <td>...</td>\n",
       "      <td>...</td>\n",
       "      <td>...</td>\n",
       "      <td>...</td>\n",
       "    </tr>\n",
       "    <tr>\n",
       "      <th>77</th>\n",
       "      <td>Total</td>\n",
       "      <td>594.0</td>\n",
       "      <td>0.0</td>\n",
       "      <td>NaN</td>\n",
       "      <td>0.0</td>\n",
       "      <td>Total</td>\n",
       "      <td>0.0</td>\n",
       "      <td>NaN</td>\n",
       "      <td>0.0</td>\n",
       "      <td>NaN</td>\n",
       "      <td>0.0</td>\n",
       "      <td>NaN</td>\n",
       "    </tr>\n",
       "    <tr>\n",
       "      <th>78</th>\n",
       "      <td>PCT 9451</td>\n",
       "      <td>NaN</td>\n",
       "      <td>NaN</td>\n",
       "      <td>NaN</td>\n",
       "      <td>NaN</td>\n",
       "      <td>PCT 9451</td>\n",
       "      <td>NaN</td>\n",
       "      <td>NaN</td>\n",
       "      <td>NaN</td>\n",
       "      <td>NaN</td>\n",
       "      <td>NaN</td>\n",
       "      <td>NaN</td>\n",
       "    </tr>\n",
       "    <tr>\n",
       "      <th>79</th>\n",
       "      <td>Election Day</td>\n",
       "      <td>2383.0</td>\n",
       "      <td>0.0</td>\n",
       "      <td>NaN</td>\n",
       "      <td>0.0</td>\n",
       "      <td>Election Day</td>\n",
       "      <td>0.0</td>\n",
       "      <td>NaN</td>\n",
       "      <td>0.0</td>\n",
       "      <td>NaN</td>\n",
       "      <td>0.0</td>\n",
       "      <td>NaN</td>\n",
       "    </tr>\n",
       "    <tr>\n",
       "      <th>80</th>\n",
       "      <td>Vote by Mail</td>\n",
       "      <td>2383.0</td>\n",
       "      <td>0.0</td>\n",
       "      <td>NaN</td>\n",
       "      <td>0.0</td>\n",
       "      <td>Vote by Mail</td>\n",
       "      <td>0.0</td>\n",
       "      <td>NaN</td>\n",
       "      <td>0.0</td>\n",
       "      <td>NaN</td>\n",
       "      <td>0.0</td>\n",
       "      <td>NaN</td>\n",
       "    </tr>\n",
       "    <tr>\n",
       "      <th>81</th>\n",
       "      <td>Total</td>\n",
       "      <td>2383.0</td>\n",
       "      <td>0.0</td>\n",
       "      <td>NaN</td>\n",
       "      <td>0.0</td>\n",
       "      <td>Total</td>\n",
       "      <td>0.0</td>\n",
       "      <td>NaN</td>\n",
       "      <td>0.0</td>\n",
       "      <td>NaN</td>\n",
       "      <td>0.0</td>\n",
       "      <td>NaN</td>\n",
       "    </tr>\n",
       "  </tbody>\n",
       "</table>\n",
       "<p>82 rows × 12 columns</p>\n",
       "</div>"
      ],
      "text/plain": [
       "                                                                             \\\n",
       "0   Electionwide     NaN  NaN NaN  NaN  Electionwide  NaN NaN  NaN NaN  NaN   \n",
       "1   Electionwide     NaN  NaN NaN  NaN  Electionwide  NaN NaN  NaN NaN  NaN   \n",
       "2       PCT 9401     NaN  NaN NaN  NaN      PCT 9401  NaN NaN  NaN NaN  NaN   \n",
       "3   Election Day  2566.0  0.0 NaN  0.0  Election Day  0.0 NaN  0.0 NaN  0.0   \n",
       "4   Vote by Mail  2566.0  0.0 NaN  0.0  Vote by Mail  0.0 NaN  0.0 NaN  0.0   \n",
       "..           ...     ...  ...  ..  ...           ...  ...  ..  ...  ..  ...   \n",
       "77         Total   594.0  0.0 NaN  0.0         Total  0.0 NaN  0.0 NaN  0.0   \n",
       "78      PCT 9451     NaN  NaN NaN  NaN      PCT 9451  NaN NaN  NaN NaN  NaN   \n",
       "79  Election Day  2383.0  0.0 NaN  0.0  Election Day  0.0 NaN  0.0 NaN  0.0   \n",
       "80  Vote by Mail  2383.0  0.0 NaN  0.0  Vote by Mail  0.0 NaN  0.0 NaN  0.0   \n",
       "81         Total  2383.0  0.0 NaN  0.0         Total  0.0 NaN  0.0 NaN  0.0   \n",
       "\n",
       "        \n",
       "0  NaN  \n",
       "1  NaN  \n",
       "2  NaN  \n",
       "3  NaN  \n",
       "4  NaN  \n",
       "..  ..  \n",
       "77 NaN  \n",
       "78 NaN  \n",
       "79 NaN  \n",
       "80 NaN  \n",
       "81 NaN  \n",
       "\n",
       "[82 rows x 12 columns]"
      ]
     },
     "execution_count": 62,
     "metadata": {},
     "output_type": "execute_result"
    }
   ],
   "source": [
    "dfA"
   ]
  },
  {
   "cell_type": "code",
   "execution_count": 63,
   "metadata": {
    "execution": {
     "iopub.execute_input": "2025-09-16T20:41:37.863613Z",
     "iopub.status.busy": "2025-09-16T20:41:37.863466Z",
     "iopub.status.idle": "2025-09-16T20:41:37.919693Z",
     "shell.execute_reply": "2025-09-16T20:41:37.919179Z"
    }
   },
   "outputs": [
    {
     "ename": "KeyError",
     "evalue": "\"None of [Index(['precinct', 'registered_voters', 'yes', 'no', 'votes_cast', 'turnout',\\n       'yes_perc', 'yes_perc_bin', 'geometry'],\\n      dtype='object')] are in the [columns]\"",
     "output_type": "error",
     "traceback": [
      "\u001b[31m---------------------------------------------------------------------------\u001b[39m",
      "\u001b[31mKeyError\u001b[39m                                  Traceback (most recent call last)",
      "\u001b[36mCell\u001b[39m\u001b[36m \u001b[39m\u001b[32mIn[63]\u001b[39m\u001b[32m, line 1\u001b[39m\n\u001b[32m----> \u001b[39m\u001b[32m1\u001b[39m dfA = \u001b[43mdfA\u001b[49m\u001b[43m[\u001b[49m\u001b[43m[\u001b[49m\u001b[33;43m'\u001b[39;49m\u001b[33;43mprecinct\u001b[39;49m\u001b[33;43m'\u001b[39;49m\u001b[43m,\u001b[49m\u001b[33;43m'\u001b[39;49m\u001b[33;43mregistered_voters\u001b[39;49m\u001b[33;43m'\u001b[39;49m\u001b[43m,\u001b[49m\u001b[33;43m'\u001b[39;49m\u001b[33;43myes\u001b[39;49m\u001b[33;43m'\u001b[39;49m\u001b[43m,\u001b[49m\u001b[33;43m'\u001b[39;49m\u001b[33;43mno\u001b[39;49m\u001b[33;43m'\u001b[39;49m\u001b[43m,\u001b[49m\u001b[33;43m'\u001b[39;49m\u001b[33;43mvotes_cast\u001b[39;49m\u001b[33;43m'\u001b[39;49m\u001b[43m,\u001b[49m\u001b[33;43m'\u001b[39;49m\u001b[33;43mturnout\u001b[39;49m\u001b[33;43m'\u001b[39;49m\u001b[43m,\u001b[49m\u001b[33;43m'\u001b[39;49m\u001b[33;43myes_perc\u001b[39;49m\u001b[33;43m'\u001b[39;49m\u001b[43m,\u001b[49m\u001b[33;43m'\u001b[39;49m\u001b[33;43myes_perc_bin\u001b[39;49m\u001b[33;43m'\u001b[39;49m\u001b[43m,\u001b[49m\u001b[33;43m'\u001b[39;49m\u001b[33;43mgeometry\u001b[39;49m\u001b[33;43m'\u001b[39;49m\u001b[43m]\u001b[49m\u001b[43m]\u001b[49m\n\u001b[32m      2\u001b[39m gdfA = GeoDataFrame(dfA, crs=\u001b[33m\"\u001b[39m\u001b[33mEPSG:4269\u001b[39m\u001b[33m\"\u001b[39m, geometry=\u001b[33m'\u001b[39m\u001b[33mgeometry\u001b[39m\u001b[33m'\u001b[39m)\n",
      "\u001b[36mFile \u001b[39m\u001b[32m/opt/hostedtoolcache/Python/3.11.13/x64/lib/python3.11/site-packages/pandas/core/frame.py:4113\u001b[39m, in \u001b[36mDataFrame.__getitem__\u001b[39m\u001b[34m(self, key)\u001b[39m\n\u001b[32m   4111\u001b[39m     \u001b[38;5;28;01mif\u001b[39;00m is_iterator(key):\n\u001b[32m   4112\u001b[39m         key = \u001b[38;5;28mlist\u001b[39m(key)\n\u001b[32m-> \u001b[39m\u001b[32m4113\u001b[39m     indexer = \u001b[38;5;28;43mself\u001b[39;49m\u001b[43m.\u001b[49m\u001b[43mcolumns\u001b[49m\u001b[43m.\u001b[49m\u001b[43m_get_indexer_strict\u001b[49m\u001b[43m(\u001b[49m\u001b[43mkey\u001b[49m\u001b[43m,\u001b[49m\u001b[43m \u001b[49m\u001b[33;43m\"\u001b[39;49m\u001b[33;43mcolumns\u001b[39;49m\u001b[33;43m\"\u001b[39;49m\u001b[43m)\u001b[49m[\u001b[32m1\u001b[39m]\n\u001b[32m   4115\u001b[39m \u001b[38;5;66;03m# take() does not accept boolean indexers\u001b[39;00m\n\u001b[32m   4116\u001b[39m \u001b[38;5;28;01mif\u001b[39;00m \u001b[38;5;28mgetattr\u001b[39m(indexer, \u001b[33m\"\u001b[39m\u001b[33mdtype\u001b[39m\u001b[33m\"\u001b[39m, \u001b[38;5;28;01mNone\u001b[39;00m) == \u001b[38;5;28mbool\u001b[39m:\n",
      "\u001b[36mFile \u001b[39m\u001b[32m/opt/hostedtoolcache/Python/3.11.13/x64/lib/python3.11/site-packages/pandas/core/indexes/base.py:6212\u001b[39m, in \u001b[36mIndex._get_indexer_strict\u001b[39m\u001b[34m(self, key, axis_name)\u001b[39m\n\u001b[32m   6209\u001b[39m \u001b[38;5;28;01melse\u001b[39;00m:\n\u001b[32m   6210\u001b[39m     keyarr, indexer, new_indexer = \u001b[38;5;28mself\u001b[39m._reindex_non_unique(keyarr)\n\u001b[32m-> \u001b[39m\u001b[32m6212\u001b[39m \u001b[38;5;28;43mself\u001b[39;49m\u001b[43m.\u001b[49m\u001b[43m_raise_if_missing\u001b[49m\u001b[43m(\u001b[49m\u001b[43mkeyarr\u001b[49m\u001b[43m,\u001b[49m\u001b[43m \u001b[49m\u001b[43mindexer\u001b[49m\u001b[43m,\u001b[49m\u001b[43m \u001b[49m\u001b[43maxis_name\u001b[49m\u001b[43m)\u001b[49m\n\u001b[32m   6214\u001b[39m keyarr = \u001b[38;5;28mself\u001b[39m.take(indexer)\n\u001b[32m   6215\u001b[39m \u001b[38;5;28;01mif\u001b[39;00m \u001b[38;5;28misinstance\u001b[39m(key, Index):\n\u001b[32m   6216\u001b[39m     \u001b[38;5;66;03m# GH 42790 - Preserve name from an Index\u001b[39;00m\n",
      "\u001b[36mFile \u001b[39m\u001b[32m/opt/hostedtoolcache/Python/3.11.13/x64/lib/python3.11/site-packages/pandas/core/indexes/base.py:6261\u001b[39m, in \u001b[36mIndex._raise_if_missing\u001b[39m\u001b[34m(self, key, indexer, axis_name)\u001b[39m\n\u001b[32m   6259\u001b[39m \u001b[38;5;28;01mif\u001b[39;00m nmissing:\n\u001b[32m   6260\u001b[39m     \u001b[38;5;28;01mif\u001b[39;00m nmissing == \u001b[38;5;28mlen\u001b[39m(indexer):\n\u001b[32m-> \u001b[39m\u001b[32m6261\u001b[39m         \u001b[38;5;28;01mraise\u001b[39;00m \u001b[38;5;167;01mKeyError\u001b[39;00m(\u001b[33mf\u001b[39m\u001b[33m\"\u001b[39m\u001b[33mNone of [\u001b[39m\u001b[38;5;132;01m{\u001b[39;00mkey\u001b[38;5;132;01m}\u001b[39;00m\u001b[33m] are in the [\u001b[39m\u001b[38;5;132;01m{\u001b[39;00maxis_name\u001b[38;5;132;01m}\u001b[39;00m\u001b[33m]\u001b[39m\u001b[33m\"\u001b[39m)\n\u001b[32m   6263\u001b[39m     not_found = \u001b[38;5;28mlist\u001b[39m(ensure_index(key)[missing_mask.nonzero()[\u001b[32m0\u001b[39m]].unique())\n\u001b[32m   6264\u001b[39m     \u001b[38;5;28;01mraise\u001b[39;00m \u001b[38;5;167;01mKeyError\u001b[39;00m(\u001b[33mf\u001b[39m\u001b[33m\"\u001b[39m\u001b[38;5;132;01m{\u001b[39;00mnot_found\u001b[38;5;132;01m}\u001b[39;00m\u001b[33m not in index\u001b[39m\u001b[33m\"\u001b[39m)\n",
      "\u001b[31mKeyError\u001b[39m: \"None of [Index(['precinct', 'registered_voters', 'yes', 'no', 'votes_cast', 'turnout',\\n       'yes_perc', 'yes_perc_bin', 'geometry'],\\n      dtype='object')] are in the [columns]\""
     ]
    }
   ],
   "source": [
    "dfA = dfA[['precinct','registered_voters','yes','no','votes_cast','turnout','yes_perc','yes_perc_bin','geometry']]\n",
    "gdfA = GeoDataFrame(dfA, crs=\"EPSG:4269\", geometry='geometry')"
   ]
  },
  {
   "cell_type": "code",
   "execution_count": 64,
   "metadata": {
    "execution": {
     "iopub.execute_input": "2025-09-16T20:41:37.921477Z",
     "iopub.status.busy": "2025-09-16T20:41:37.921296Z",
     "iopub.status.idle": "2025-09-16T20:41:37.968119Z",
     "shell.execute_reply": "2025-09-16T20:41:37.967655Z"
    }
   },
   "outputs": [
    {
     "ename": "KeyError",
     "evalue": "'precinct'",
     "output_type": "error",
     "traceback": [
      "\u001b[31m---------------------------------------------------------------------------\u001b[39m",
      "\u001b[31mKeyError\u001b[39m                                  Traceback (most recent call last)",
      "\u001b[36mCell\u001b[39m\u001b[36m \u001b[39m\u001b[32mIn[64]\u001b[39m\u001b[32m, line 3\u001b[39m\n\u001b[32m      1\u001b[39m \u001b[38;5;66;03m# merge gdf dfd4_grouped\u001b[39;00m\n\u001b[32m----> \u001b[39m\u001b[32m3\u001b[39m dfd4_grouped[\u001b[33m'\u001b[39m\u001b[33mprecinct\u001b[39m\u001b[33m'\u001b[39m] = \u001b[43mdfd4_grouped\u001b[49m\u001b[43m[\u001b[49m\u001b[33;43m'\u001b[39;49m\u001b[33;43mprecinct\u001b[39;49m\u001b[33;43m'\u001b[39;49m\u001b[43m]\u001b[49m.astype(\u001b[38;5;28mstr\u001b[39m)\n\u001b[32m      5\u001b[39m gdf4 = gdf.merge(dfd4_grouped, on=\u001b[33m'\u001b[39m\u001b[33mprecinct\u001b[39m\u001b[33m'\u001b[39m)\n\u001b[32m      7\u001b[39m gdf4\n",
      "\u001b[36mFile \u001b[39m\u001b[32m/opt/hostedtoolcache/Python/3.11.13/x64/lib/python3.11/site-packages/pandas/core/frame.py:4107\u001b[39m, in \u001b[36mDataFrame.__getitem__\u001b[39m\u001b[34m(self, key)\u001b[39m\n\u001b[32m   4105\u001b[39m \u001b[38;5;28;01mif\u001b[39;00m \u001b[38;5;28mself\u001b[39m.columns.nlevels > \u001b[32m1\u001b[39m:\n\u001b[32m   4106\u001b[39m     \u001b[38;5;28;01mreturn\u001b[39;00m \u001b[38;5;28mself\u001b[39m._getitem_multilevel(key)\n\u001b[32m-> \u001b[39m\u001b[32m4107\u001b[39m indexer = \u001b[38;5;28;43mself\u001b[39;49m\u001b[43m.\u001b[49m\u001b[43mcolumns\u001b[49m\u001b[43m.\u001b[49m\u001b[43mget_loc\u001b[49m\u001b[43m(\u001b[49m\u001b[43mkey\u001b[49m\u001b[43m)\u001b[49m\n\u001b[32m   4108\u001b[39m \u001b[38;5;28;01mif\u001b[39;00m is_integer(indexer):\n\u001b[32m   4109\u001b[39m     indexer = [indexer]\n",
      "\u001b[36mFile \u001b[39m\u001b[32m/opt/hostedtoolcache/Python/3.11.13/x64/lib/python3.11/site-packages/pandas/core/indexes/range.py:417\u001b[39m, in \u001b[36mRangeIndex.get_loc\u001b[39m\u001b[34m(self, key)\u001b[39m\n\u001b[32m    415\u001b[39m         \u001b[38;5;28;01mraise\u001b[39;00m \u001b[38;5;167;01mKeyError\u001b[39;00m(key) \u001b[38;5;28;01mfrom\u001b[39;00m\u001b[38;5;250m \u001b[39m\u001b[34;01merr\u001b[39;00m\n\u001b[32m    416\u001b[39m \u001b[38;5;28;01mif\u001b[39;00m \u001b[38;5;28misinstance\u001b[39m(key, Hashable):\n\u001b[32m--> \u001b[39m\u001b[32m417\u001b[39m     \u001b[38;5;28;01mraise\u001b[39;00m \u001b[38;5;167;01mKeyError\u001b[39;00m(key)\n\u001b[32m    418\u001b[39m \u001b[38;5;28mself\u001b[39m._check_indexing_error(key)\n\u001b[32m    419\u001b[39m \u001b[38;5;28;01mraise\u001b[39;00m \u001b[38;5;167;01mKeyError\u001b[39;00m(key)\n",
      "\u001b[31mKeyError\u001b[39m: 'precinct'"
     ]
    }
   ],
   "source": [
    "# merge gdf dfd4_grouped\n",
    "\n",
    "dfd4_grouped['precinct'] = dfd4_grouped['precinct'].astype(str)\n",
    "\n",
    "gdf4 = gdf.merge(dfd4_grouped, on='precinct')\n",
    "\n",
    "gdf4\n"
   ]
  },
  {
   "cell_type": "code",
   "execution_count": 65,
   "metadata": {
    "execution": {
     "iopub.execute_input": "2025-09-16T20:41:37.969767Z",
     "iopub.status.busy": "2025-09-16T20:41:37.969613Z",
     "iopub.status.idle": "2025-09-16T20:41:37.976764Z",
     "shell.execute_reply": "2025-09-16T20:41:37.976188Z"
    }
   },
   "outputs": [
    {
     "data": {
      "text/html": [
       "<div>\n",
       "<style scoped>\n",
       "    .dataframe tbody tr th:only-of-type {\n",
       "        vertical-align: middle;\n",
       "    }\n",
       "\n",
       "    .dataframe tbody tr th {\n",
       "        vertical-align: top;\n",
       "    }\n",
       "\n",
       "    .dataframe thead th {\n",
       "        text-align: right;\n",
       "    }\n",
       "</style>\n",
       "<table border=\"1\" class=\"dataframe\">\n",
       "  <thead>\n",
       "    <tr style=\"text-align: right;\">\n",
       "      <th></th>\n",
       "      <th>precinct</th>\n",
       "      <th>geometry</th>\n",
       "      <th>Prec_2022</th>\n",
       "    </tr>\n",
       "  </thead>\n",
       "  <tbody>\n",
       "    <tr>\n",
       "      <th>0</th>\n",
       "      <td>1101</td>\n",
       "      <td>POLYGON ((-122.47167 37.72163, -122.47078 37.7...</td>\n",
       "      <td>1101</td>\n",
       "    </tr>\n",
       "    <tr>\n",
       "      <th>1</th>\n",
       "      <td>1102</td>\n",
       "      <td>POLYGON ((-122.46802 37.7161, -122.468 37.7142...</td>\n",
       "      <td>1102</td>\n",
       "    </tr>\n",
       "    <tr>\n",
       "      <th>2</th>\n",
       "      <td>1103</td>\n",
       "      <td>POLYGON ((-122.46625 37.71968, -122.46715 37.7...</td>\n",
       "      <td>1103</td>\n",
       "    </tr>\n",
       "    <tr>\n",
       "      <th>3</th>\n",
       "      <td>1104</td>\n",
       "      <td>POLYGON ((-122.46266 37.72, -122.46267 37.7199...</td>\n",
       "      <td>1104</td>\n",
       "    </tr>\n",
       "    <tr>\n",
       "      <th>4</th>\n",
       "      <td>1105</td>\n",
       "      <td>POLYGON ((-122.46263 37.71742, -122.46262 37.7...</td>\n",
       "      <td>1105</td>\n",
       "    </tr>\n",
       "    <tr>\n",
       "      <th>...</th>\n",
       "      <td>...</td>\n",
       "      <td>...</td>\n",
       "      <td>...</td>\n",
       "    </tr>\n",
       "    <tr>\n",
       "      <th>482</th>\n",
       "      <td>9808</td>\n",
       "      <td>POLYGON ((-122.44106 37.73497, -122.44031 37.7...</td>\n",
       "      <td>9808</td>\n",
       "    </tr>\n",
       "    <tr>\n",
       "      <th>483</th>\n",
       "      <td>9901</td>\n",
       "      <td>POLYGON ((-122.43251 37.73311, -122.43233 37.7...</td>\n",
       "      <td>9901</td>\n",
       "    </tr>\n",
       "    <tr>\n",
       "      <th>484</th>\n",
       "      <td>9902</td>\n",
       "      <td>POLYGON ((-122.40396 37.73161, -122.4034 37.73...</td>\n",
       "      <td>9902</td>\n",
       "    </tr>\n",
       "    <tr>\n",
       "      <th>485</th>\n",
       "      <td>9903</td>\n",
       "      <td>POLYGON ((-122.33081 37.78579, -122.33061 37.7...</td>\n",
       "      <td>9903</td>\n",
       "    </tr>\n",
       "    <tr>\n",
       "      <th>486</th>\n",
       "      <td>9904</td>\n",
       "      <td>POLYGON ((-122.42014 37.86316, -122.42009 37.8...</td>\n",
       "      <td>9904</td>\n",
       "    </tr>\n",
       "  </tbody>\n",
       "</table>\n",
       "<p>487 rows × 3 columns</p>\n",
       "</div>"
      ],
      "text/plain": [
       "    precinct                                           geometry Prec_2022\n",
       "0       1101  POLYGON ((-122.47167 37.72163, -122.47078 37.7...      1101\n",
       "1       1102  POLYGON ((-122.46802 37.7161, -122.468 37.7142...      1102\n",
       "2       1103  POLYGON ((-122.46625 37.71968, -122.46715 37.7...      1103\n",
       "3       1104  POLYGON ((-122.46266 37.72, -122.46267 37.7199...      1104\n",
       "4       1105  POLYGON ((-122.46263 37.71742, -122.46262 37.7...      1105\n",
       "..       ...                                                ...       ...\n",
       "482     9808  POLYGON ((-122.44106 37.73497, -122.44031 37.7...      9808\n",
       "483     9901  POLYGON ((-122.43251 37.73311, -122.43233 37.7...      9901\n",
       "484     9902  POLYGON ((-122.40396 37.73161, -122.4034 37.73...      9902\n",
       "485     9903  POLYGON ((-122.33081 37.78579, -122.33061 37.7...      9903\n",
       "486     9904  POLYGON ((-122.42014 37.86316, -122.42009 37.8...      9904\n",
       "\n",
       "[487 rows x 3 columns]"
      ]
     },
     "execution_count": 65,
     "metadata": {},
     "output_type": "execute_result"
    }
   ],
   "source": [
    "gdf"
   ]
  },
  {
   "cell_type": "code",
   "execution_count": 66,
   "metadata": {
    "execution": {
     "iopub.execute_input": "2025-09-16T20:41:37.978375Z",
     "iopub.status.busy": "2025-09-16T20:41:37.978211Z",
     "iopub.status.idle": "2025-09-16T20:41:38.045452Z",
     "shell.execute_reply": "2025-09-16T20:41:38.044929Z"
    }
   },
   "outputs": [
    {
     "ename": "KeyError",
     "evalue": "'precinct'",
     "output_type": "error",
     "traceback": [
      "\u001b[31m---------------------------------------------------------------------------\u001b[39m",
      "\u001b[31mKeyError\u001b[39m                                  Traceback (most recent call last)",
      "\u001b[36mFile \u001b[39m\u001b[32m/opt/hostedtoolcache/Python/3.11.13/x64/lib/python3.11/site-packages/pandas/core/indexes/base.py:3812\u001b[39m, in \u001b[36mIndex.get_loc\u001b[39m\u001b[34m(self, key)\u001b[39m\n\u001b[32m   3811\u001b[39m \u001b[38;5;28;01mtry\u001b[39;00m:\n\u001b[32m-> \u001b[39m\u001b[32m3812\u001b[39m     \u001b[38;5;28;01mreturn\u001b[39;00m \u001b[38;5;28;43mself\u001b[39;49m\u001b[43m.\u001b[49m\u001b[43m_engine\u001b[49m\u001b[43m.\u001b[49m\u001b[43mget_loc\u001b[49m\u001b[43m(\u001b[49m\u001b[43mcasted_key\u001b[49m\u001b[43m)\u001b[49m\n\u001b[32m   3813\u001b[39m \u001b[38;5;28;01mexcept\u001b[39;00m \u001b[38;5;167;01mKeyError\u001b[39;00m \u001b[38;5;28;01mas\u001b[39;00m err:\n",
      "\u001b[36mFile \u001b[39m\u001b[32mpandas/_libs/index.pyx:167\u001b[39m, in \u001b[36mpandas._libs.index.IndexEngine.get_loc\u001b[39m\u001b[34m()\u001b[39m\n",
      "\u001b[36mFile \u001b[39m\u001b[32mpandas/_libs/index.pyx:191\u001b[39m, in \u001b[36mpandas._libs.index.IndexEngine.get_loc\u001b[39m\u001b[34m()\u001b[39m\n",
      "\u001b[36mFile \u001b[39m\u001b[32mpandas/_libs/index.pyx:228\u001b[39m, in \u001b[36mpandas._libs.index.IndexEngine._get_loc_duplicates\u001b[39m\u001b[34m()\u001b[39m\n",
      "\u001b[31mKeyError\u001b[39m: 'precinct'",
      "\nThe above exception was the direct cause of the following exception:\n",
      "\u001b[31mKeyError\u001b[39m                                  Traceback (most recent call last)",
      "\u001b[36mCell\u001b[39m\u001b[36m \u001b[39m\u001b[32mIn[66]\u001b[39m\u001b[32m, line 3\u001b[39m\n\u001b[32m      1\u001b[39m \u001b[38;5;66;03m# merge the gdf with dfK\u001b[39;00m\n\u001b[32m----> \u001b[39m\u001b[32m3\u001b[39m dfK[\u001b[33m'\u001b[39m\u001b[33mprecinct\u001b[39m\u001b[33m'\u001b[39m] = \u001b[43mdfK\u001b[49m\u001b[43m[\u001b[49m\u001b[33;43m'\u001b[39;49m\u001b[33;43mprecinct\u001b[39;49m\u001b[33;43m'\u001b[39;49m\u001b[43m]\u001b[49m.astype(\u001b[38;5;28mstr\u001b[39m)\n\u001b[32m      5\u001b[39m gdfK = gdf.merge(dfK, on=\u001b[33m'\u001b[39m\u001b[33mprecinct\u001b[39m\u001b[33m'\u001b[39m)\n",
      "\u001b[36mFile \u001b[39m\u001b[32m/opt/hostedtoolcache/Python/3.11.13/x64/lib/python3.11/site-packages/pandas/core/frame.py:4107\u001b[39m, in \u001b[36mDataFrame.__getitem__\u001b[39m\u001b[34m(self, key)\u001b[39m\n\u001b[32m   4105\u001b[39m \u001b[38;5;28;01mif\u001b[39;00m \u001b[38;5;28mself\u001b[39m.columns.nlevels > \u001b[32m1\u001b[39m:\n\u001b[32m   4106\u001b[39m     \u001b[38;5;28;01mreturn\u001b[39;00m \u001b[38;5;28mself\u001b[39m._getitem_multilevel(key)\n\u001b[32m-> \u001b[39m\u001b[32m4107\u001b[39m indexer = \u001b[38;5;28;43mself\u001b[39;49m\u001b[43m.\u001b[49m\u001b[43mcolumns\u001b[49m\u001b[43m.\u001b[49m\u001b[43mget_loc\u001b[49m\u001b[43m(\u001b[49m\u001b[43mkey\u001b[49m\u001b[43m)\u001b[49m\n\u001b[32m   4108\u001b[39m \u001b[38;5;28;01mif\u001b[39;00m is_integer(indexer):\n\u001b[32m   4109\u001b[39m     indexer = [indexer]\n",
      "\u001b[36mFile \u001b[39m\u001b[32m/opt/hostedtoolcache/Python/3.11.13/x64/lib/python3.11/site-packages/pandas/core/indexes/base.py:3819\u001b[39m, in \u001b[36mIndex.get_loc\u001b[39m\u001b[34m(self, key)\u001b[39m\n\u001b[32m   3814\u001b[39m     \u001b[38;5;28;01mif\u001b[39;00m \u001b[38;5;28misinstance\u001b[39m(casted_key, \u001b[38;5;28mslice\u001b[39m) \u001b[38;5;129;01mor\u001b[39;00m (\n\u001b[32m   3815\u001b[39m         \u001b[38;5;28misinstance\u001b[39m(casted_key, abc.Iterable)\n\u001b[32m   3816\u001b[39m         \u001b[38;5;129;01mand\u001b[39;00m \u001b[38;5;28many\u001b[39m(\u001b[38;5;28misinstance\u001b[39m(x, \u001b[38;5;28mslice\u001b[39m) \u001b[38;5;28;01mfor\u001b[39;00m x \u001b[38;5;129;01min\u001b[39;00m casted_key)\n\u001b[32m   3817\u001b[39m     ):\n\u001b[32m   3818\u001b[39m         \u001b[38;5;28;01mraise\u001b[39;00m InvalidIndexError(key)\n\u001b[32m-> \u001b[39m\u001b[32m3819\u001b[39m     \u001b[38;5;28;01mraise\u001b[39;00m \u001b[38;5;167;01mKeyError\u001b[39;00m(key) \u001b[38;5;28;01mfrom\u001b[39;00m\u001b[38;5;250m \u001b[39m\u001b[34;01merr\u001b[39;00m\n\u001b[32m   3820\u001b[39m \u001b[38;5;28;01mexcept\u001b[39;00m \u001b[38;5;167;01mTypeError\u001b[39;00m:\n\u001b[32m   3821\u001b[39m     \u001b[38;5;66;03m# If we have a listlike key, _check_indexing_error will raise\u001b[39;00m\n\u001b[32m   3822\u001b[39m     \u001b[38;5;66;03m#  InvalidIndexError. Otherwise we fall through and re-raise\u001b[39;00m\n\u001b[32m   3823\u001b[39m     \u001b[38;5;66;03m#  the TypeError.\u001b[39;00m\n\u001b[32m   3824\u001b[39m     \u001b[38;5;28mself\u001b[39m._check_indexing_error(key)\n",
      "\u001b[31mKeyError\u001b[39m: 'precinct'"
     ]
    }
   ],
   "source": [
    "# merge the gdf with dfK\n",
    "\n",
    "dfK['precinct'] = dfK['precinct'].astype(str)\n",
    "\n",
    "gdfK = gdf.merge(dfK, on='precinct')"
   ]
  },
  {
   "cell_type": "code",
   "execution_count": 67,
   "metadata": {
    "execution": {
     "iopub.execute_input": "2025-09-16T20:41:38.047209Z",
     "iopub.status.busy": "2025-09-16T20:41:38.047052Z",
     "iopub.status.idle": "2025-09-16T20:41:38.065852Z",
     "shell.execute_reply": "2025-09-16T20:41:38.065359Z"
    }
   },
   "outputs": [
    {
     "ename": "NameError",
     "evalue": "name 'gdfK' is not defined",
     "output_type": "error",
     "traceback": [
      "\u001b[31m---------------------------------------------------------------------------\u001b[39m",
      "\u001b[31mNameError\u001b[39m                                 Traceback (most recent call last)",
      "\u001b[36mCell\u001b[39m\u001b[36m \u001b[39m\u001b[32mIn[67]\u001b[39m\u001b[32m, line 3\u001b[39m\n\u001b[32m      1\u001b[39m \u001b[38;5;66;03m# export gdfK to geojson\u001b[39;00m\n\u001b[32m----> \u001b[39m\u001b[32m3\u001b[39m \u001b[43mgdfK\u001b[49m.to_file(\u001b[33m\"\u001b[39m\u001b[33m./docs/propK/propK.geojson\u001b[39m\u001b[33m\"\u001b[39m, driver=\u001b[33m'\u001b[39m\u001b[33mGeoJSON\u001b[39m\u001b[33m'\u001b[39m, encoding=\u001b[33m'\u001b[39m\u001b[33mutf-8\u001b[39m\u001b[33m'\u001b[39m)\n\u001b[32m      4\u001b[39m gdfA.to_file(\u001b[33m\"\u001b[39m\u001b[33m./docs/comparison/propK.geojson\u001b[39m\u001b[33m\"\u001b[39m, driver=\u001b[33m'\u001b[39m\u001b[33mGeoJSON\u001b[39m\u001b[33m'\u001b[39m, encoding=\u001b[33m'\u001b[39m\u001b[33mutf-8\u001b[39m\u001b[33m'\u001b[39m)\n",
      "\u001b[31mNameError\u001b[39m: name 'gdfK' is not defined"
     ]
    }
   ],
   "source": [
    "# export gdfK to geojson\n",
    "\n",
    "gdfK.to_file(\"./docs/propK/propK.geojson\", driver='GeoJSON', encoding='utf-8')\n",
    "gdfA.to_file(\"./docs/comparison/propK.geojson\", driver='GeoJSON', encoding='utf-8')"
   ]
  },
  {
   "cell_type": "code",
   "execution_count": 68,
   "metadata": {
    "execution": {
     "iopub.execute_input": "2025-09-16T20:41:38.067395Z",
     "iopub.status.busy": "2025-09-16T20:41:38.067241Z",
     "iopub.status.idle": "2025-09-16T20:41:38.093814Z",
     "shell.execute_reply": "2025-09-16T20:41:38.093211Z"
    }
   },
   "outputs": [
    {
     "ename": "NameError",
     "evalue": "name 'gdfA' is not defined",
     "output_type": "error",
     "traceback": [
      "\u001b[31m---------------------------------------------------------------------------\u001b[39m",
      "\u001b[31mNameError\u001b[39m                                 Traceback (most recent call last)",
      "\u001b[36mCell\u001b[39m\u001b[36m \u001b[39m\u001b[32mIn[68]\u001b[39m\u001b[32m, line 4\u001b[39m\n\u001b[32m      1\u001b[39m \u001b[38;5;66;03m# export both \u001b[39;00m\n\u001b[32m      3\u001b[39m gdfTurnout.to_file(\u001b[33m\"\u001b[39m\u001b[33m./docs/turnout/turnout.geojson\u001b[39m\u001b[33m\"\u001b[39m, driver=\u001b[33m'\u001b[39m\u001b[33mGeoJSON\u001b[39m\u001b[33m'\u001b[39m, encoding=\u001b[33m'\u001b[39m\u001b[33mutf-8\u001b[39m\u001b[33m'\u001b[39m)\n\u001b[32m----> \u001b[39m\u001b[32m4\u001b[39m \u001b[43mgdfA\u001b[49m.to_file(\u001b[33m\"\u001b[39m\u001b[33m./docs/propA/propA.geojson\u001b[39m\u001b[33m\"\u001b[39m, driver=\u001b[33m'\u001b[39m\u001b[33mGeoJSON\u001b[39m\u001b[33m'\u001b[39m, encoding=\u001b[33m'\u001b[39m\u001b[33mutf-8\u001b[39m\u001b[33m'\u001b[39m)\n\u001b[32m      5\u001b[39m gdfA.to_file(\u001b[33m\"\u001b[39m\u001b[33m./docs/comparison/propA.geojson\u001b[39m\u001b[33m\"\u001b[39m, driver=\u001b[33m'\u001b[39m\u001b[33mGeoJSON\u001b[39m\u001b[33m'\u001b[39m, encoding=\u001b[33m'\u001b[39m\u001b[33mutf-8\u001b[39m\u001b[33m'\u001b[39m)\n",
      "\u001b[31mNameError\u001b[39m: name 'gdfA' is not defined"
     ]
    }
   ],
   "source": [
    "# export both \n",
    "\n",
    "gdfTurnout.to_file(\"./docs/turnout/turnout.geojson\", driver='GeoJSON', encoding='utf-8')\n",
    "gdfA.to_file(\"./docs/propA/propA.geojson\", driver='GeoJSON', encoding='utf-8')\n",
    "gdfA.to_file(\"./docs/comparison/propA.geojson\", driver='GeoJSON', encoding='utf-8')"
   ]
  },
  {
   "cell_type": "code",
   "execution_count": 69,
   "metadata": {
    "execution": {
     "iopub.execute_input": "2025-09-16T20:41:38.095358Z",
     "iopub.status.busy": "2025-09-16T20:41:38.095206Z",
     "iopub.status.idle": "2025-09-16T20:41:38.115131Z",
     "shell.execute_reply": "2025-09-16T20:41:38.114656Z"
    }
   },
   "outputs": [
    {
     "ename": "NameError",
     "evalue": "name 'gdf4' is not defined",
     "output_type": "error",
     "traceback": [
      "\u001b[31m---------------------------------------------------------------------------\u001b[39m",
      "\u001b[31mNameError\u001b[39m                                 Traceback (most recent call last)",
      "\u001b[36mCell\u001b[39m\u001b[36m \u001b[39m\u001b[32mIn[69]\u001b[39m\u001b[32m, line 3\u001b[39m\n\u001b[32m      1\u001b[39m \u001b[38;5;66;03m# export gdf4\u001b[39;00m\n\u001b[32m----> \u001b[39m\u001b[32m3\u001b[39m \u001b[43mgdf4\u001b[49m.to_file(\u001b[33m\"\u001b[39m\u001b[33m./docs/2022/d4.geojson\u001b[39m\u001b[33m\"\u001b[39m, driver=\u001b[33m'\u001b[39m\u001b[33mGeoJSON\u001b[39m\u001b[33m'\u001b[39m, encoding=\u001b[33m'\u001b[39m\u001b[33mutf-8\u001b[39m\u001b[33m'\u001b[39m)\n\u001b[32m      4\u001b[39m gdf4.to_file(\u001b[33m\"\u001b[39m\u001b[33m./docs/comparison/d4.geojson\u001b[39m\u001b[33m\"\u001b[39m, driver=\u001b[33m'\u001b[39m\u001b[33mGeoJSON\u001b[39m\u001b[33m'\u001b[39m, encoding=\u001b[33m'\u001b[39m\u001b[33mutf-8\u001b[39m\u001b[33m'\u001b[39m)\n",
      "\u001b[31mNameError\u001b[39m: name 'gdf4' is not defined"
     ]
    }
   ],
   "source": [
    "# export gdf4\n",
    "\n",
    "gdf4.to_file(\"./docs/2022/d4.geojson\", driver='GeoJSON', encoding='utf-8')\n",
    "gdf4.to_file(\"./docs/comparison/d4.geojson\", driver='GeoJSON', encoding='utf-8')"
   ]
  },
  {
   "cell_type": "code",
   "execution_count": null,
   "metadata": {},
   "outputs": [],
   "source": []
  }
 ],
 "metadata": {
  "kernelspec": {
   "display_name": "Python 3",
   "language": "python",
   "name": "python3"
  },
  "language_info": {
   "codemirror_mode": {
    "name": "ipython",
    "version": 3
   },
   "file_extension": ".py",
   "mimetype": "text/x-python",
   "name": "python",
   "nbconvert_exporter": "python",
   "pygments_lexer": "ipython3",
   "version": "3.11.13"
  }
 },
 "nbformat": 4,
 "nbformat_minor": 2
}
